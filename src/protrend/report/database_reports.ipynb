{
 "cells": [
  {
   "cell_type": "code",
   "execution_count": 1,
   "metadata": {
    "collapsed": true,
    "pycharm": {
     "name": "#%%\n"
    }
   },
   "outputs": [],
   "source": [
    "from protrend.utils import NeoDatabase, Settings\n",
    "from protrend.model import *\n",
    "from protrend.report.general import database_short_report, database_long_report"
   ]
  },
  {
   "cell_type": "code",
   "execution_count": 2,
   "outputs": [],
   "source": [
    "# connect to database\n",
    "\n",
    "neo_db = NeoDatabase(user_name=Settings.db_user_name, password=Settings.db_password,\n",
    "                     ip=Settings.db_ip, port=Settings.db_port)\n",
    "neo_db.connect()"
   ],
   "metadata": {
    "collapsed": false,
    "pycharm": {
     "name": "#%%\n"
    }
   }
  },
  {
   "cell_type": "code",
   "execution_count": 4,
   "outputs": [
    {
     "data": {
      "text/plain": "   effector  evidence    gene  motif  operon  organism  pathway  regulator  \\\n0       432        69  112106  15647   24677       494      286      16419   \n1         7         7      21     10      12        16        7         22   \n2         3         5      10      4       5         8        3         11   \n\n   regulatory family  regulatory interaction  source   tfbs  \n0                 52                  211889      11  79030  \n1                  9                      12      11     12  \n2                  3                       8      11      8  ",
      "text/html": "<div>\n<style scoped>\n    .dataframe tbody tr th:only-of-type {\n        vertical-align: middle;\n    }\n\n    .dataframe tbody tr th {\n        vertical-align: top;\n    }\n\n    .dataframe thead th {\n        text-align: right;\n    }\n</style>\n<table border=\"1\" class=\"dataframe\">\n  <thead>\n    <tr style=\"text-align: right;\">\n      <th></th>\n      <th>effector</th>\n      <th>evidence</th>\n      <th>gene</th>\n      <th>motif</th>\n      <th>operon</th>\n      <th>organism</th>\n      <th>pathway</th>\n      <th>regulator</th>\n      <th>regulatory family</th>\n      <th>regulatory interaction</th>\n      <th>source</th>\n      <th>tfbs</th>\n    </tr>\n  </thead>\n  <tbody>\n    <tr>\n      <th>0</th>\n      <td>432</td>\n      <td>69</td>\n      <td>112106</td>\n      <td>15647</td>\n      <td>24677</td>\n      <td>494</td>\n      <td>286</td>\n      <td>16419</td>\n      <td>52</td>\n      <td>211889</td>\n      <td>11</td>\n      <td>79030</td>\n    </tr>\n    <tr>\n      <th>1</th>\n      <td>7</td>\n      <td>7</td>\n      <td>21</td>\n      <td>10</td>\n      <td>12</td>\n      <td>16</td>\n      <td>7</td>\n      <td>22</td>\n      <td>9</td>\n      <td>12</td>\n      <td>11</td>\n      <td>12</td>\n    </tr>\n    <tr>\n      <th>2</th>\n      <td>3</td>\n      <td>5</td>\n      <td>10</td>\n      <td>4</td>\n      <td>5</td>\n      <td>8</td>\n      <td>3</td>\n      <td>11</td>\n      <td>3</td>\n      <td>8</td>\n      <td>11</td>\n      <td>8</td>\n    </tr>\n  </tbody>\n</table>\n</div>"
     },
     "execution_count": 4,
     "metadata": {},
     "output_type": "execute_result"
    }
   ],
   "source": [
    "short_report = database_short_report()\n",
    "short_report"
   ],
   "metadata": {
    "collapsed": false,
    "pycharm": {
     "name": "#%%\n"
    }
   }
  },
  {
   "cell_type": "code",
   "execution_count": 4,
   "outputs": [
    {
     "ename": "KeyboardInterrupt",
     "evalue": "",
     "output_type": "error",
     "traceback": [
      "\u001B[1;31m---------------------------------------------------------------------------\u001B[0m",
      "\u001B[1;31mKeyboardInterrupt\u001B[0m                         Traceback (most recent call last)",
      "\u001B[1;32m<ipython-input-4-4cb80676386e>\u001B[0m in \u001B[0;36m<module>\u001B[1;34m\u001B[0m\n\u001B[1;32m----> 1\u001B[1;33m \u001B[0mdatabase_long_report\u001B[0m\u001B[1;33m(\u001B[0m\u001B[1;33m)\u001B[0m\u001B[1;33m\u001B[0m\u001B[1;33m\u001B[0m\u001B[0m\n\u001B[0m",
      "\u001B[1;32m~\\OneDrive - Universidade do Minho\\PhD\\Protrend\\main\\protrend-database\\src\\protrend\\report\\general.py\u001B[0m in \u001B[0;36mdatabase_long_report\u001B[1;34m(nodes)\u001B[0m\n\u001B[0;32m     46\u001B[0m     \u001B[0mkeys\u001B[0m \u001B[1;33m=\u001B[0m \u001B[1;33m[\u001B[0m\u001B[1;33m]\u001B[0m\u001B[1;33m\u001B[0m\u001B[1;33m\u001B[0m\u001B[0m\n\u001B[0;32m     47\u001B[0m     \u001B[1;32mfor\u001B[0m \u001B[0mname\u001B[0m\u001B[1;33m,\u001B[0m \u001B[0mnode\u001B[0m \u001B[1;32min\u001B[0m \u001B[0mnodes\u001B[0m\u001B[1;33m.\u001B[0m\u001B[0mitems\u001B[0m\u001B[1;33m(\u001B[0m\u001B[1;33m)\u001B[0m\u001B[1;33m:\u001B[0m\u001B[1;33m\u001B[0m\u001B[1;33m\u001B[0m\u001B[0m\n\u001B[1;32m---> 48\u001B[1;33m         \u001B[0mdf\u001B[0m \u001B[1;33m=\u001B[0m \u001B[0mnode\u001B[0m\u001B[1;33m.\u001B[0m\u001B[0mnode_to_df\u001B[0m\u001B[1;33m(\u001B[0m\u001B[1;33m)\u001B[0m\u001B[1;33m\u001B[0m\u001B[1;33m\u001B[0m\u001B[0m\n\u001B[0m\u001B[0;32m     49\u001B[0m         \u001B[0mresults\u001B[0m\u001B[1;33m.\u001B[0m\u001B[0mappend\u001B[0m\u001B[1;33m(\u001B[0m\u001B[0mdf\u001B[0m\u001B[1;33m)\u001B[0m\u001B[1;33m\u001B[0m\u001B[1;33m\u001B[0m\u001B[0m\n\u001B[0;32m     50\u001B[0m         \u001B[0mkeys\u001B[0m\u001B[1;33m.\u001B[0m\u001B[0mappend\u001B[0m\u001B[1;33m(\u001B[0m\u001B[0mname\u001B[0m\u001B[1;33m)\u001B[0m\u001B[1;33m\u001B[0m\u001B[1;33m\u001B[0m\u001B[0m\n",
      "\u001B[1;32m~\\OneDrive - Universidade do Minho\\PhD\\Protrend\\main\\protrend-database\\src\\protrend\\model\\base.py\u001B[0m in \u001B[0;36mnode_to_df\u001B[1;34m(cls)\u001B[0m\n\u001B[0;32m    212\u001B[0m     \u001B[1;33m@\u001B[0m\u001B[0mclassmethod\u001B[0m\u001B[1;33m\u001B[0m\u001B[1;33m\u001B[0m\u001B[0m\n\u001B[0;32m    213\u001B[0m     \u001B[1;32mdef\u001B[0m \u001B[0mnode_to_df\u001B[0m\u001B[1;33m(\u001B[0m\u001B[0mcls\u001B[0m\u001B[1;33m)\u001B[0m \u001B[1;33m->\u001B[0m \u001B[0mpd\u001B[0m\u001B[1;33m.\u001B[0m\u001B[0mDataFrame\u001B[0m\u001B[1;33m:\u001B[0m\u001B[1;33m\u001B[0m\u001B[1;33m\u001B[0m\u001B[0m\n\u001B[1;32m--> 214\u001B[1;33m         \u001B[1;32mreturn\u001B[0m \u001B[0mpd\u001B[0m\u001B[1;33m.\u001B[0m\u001B[0mDataFrame\u001B[0m\u001B[1;33m.\u001B[0m\u001B[0mfrom_dict\u001B[0m\u001B[1;33m(\u001B[0m\u001B[0mcls\u001B[0m\u001B[1;33m.\u001B[0m\u001B[0mnode_to_dict\u001B[0m\u001B[1;33m(\u001B[0m\u001B[1;33m)\u001B[0m\u001B[1;33m)\u001B[0m\u001B[1;33m\u001B[0m\u001B[1;33m\u001B[0m\u001B[0m\n\u001B[0m\u001B[0;32m    215\u001B[0m \u001B[1;33m\u001B[0m\u001B[0m\n\u001B[0;32m    216\u001B[0m     \u001B[1;31m# -------------------------------------\u001B[0m\u001B[1;33m\u001B[0m\u001B[1;33m\u001B[0m\u001B[1;33m\u001B[0m\u001B[0m\n",
      "\u001B[1;32m~\\OneDrive - Universidade do Minho\\PhD\\Protrend\\main\\protrend-database\\src\\protrend\\model\\base.py\u001B[0m in \u001B[0;36mnode_to_dict\u001B[1;34m(cls, to)\u001B[0m\n\u001B[0;32m    131\u001B[0m             \u001B[0mres\u001B[0m \u001B[1;33m=\u001B[0m \u001B[0mdefaultdict\u001B[0m\u001B[1;33m(\u001B[0m\u001B[0mlist\u001B[0m\u001B[1;33m)\u001B[0m\u001B[1;33m\u001B[0m\u001B[1;33m\u001B[0m\u001B[0m\n\u001B[0;32m    132\u001B[0m \u001B[1;33m\u001B[0m\u001B[0m\n\u001B[1;32m--> 133\u001B[1;33m             \u001B[1;32mfor\u001B[0m \u001B[0mnode\u001B[0m \u001B[1;32min\u001B[0m \u001B[0mcls\u001B[0m\u001B[1;33m.\u001B[0m\u001B[0mnodes\u001B[0m\u001B[1;33m.\u001B[0m\u001B[0mall\u001B[0m\u001B[1;33m(\u001B[0m\u001B[1;33m)\u001B[0m\u001B[1;33m:\u001B[0m\u001B[1;33m\u001B[0m\u001B[1;33m\u001B[0m\u001B[0m\n\u001B[0m\u001B[0;32m    134\u001B[0m \u001B[1;33m\u001B[0m\u001B[0m\n\u001B[0;32m    135\u001B[0m                 \u001B[0mnode_properties\u001B[0m \u001B[1;33m=\u001B[0m \u001B[0mnode\u001B[0m\u001B[1;33m.\u001B[0m\u001B[0mproperties\u001B[0m\u001B[1;33m\u001B[0m\u001B[1;33m\u001B[0m\u001B[0m\n",
      "\u001B[1;32mc:\\users\\bisbii\\appdata\\local\\programs\\python\\python37\\lib\\site-packages\\neomodel\\match.py\u001B[0m in \u001B[0;36mall\u001B[1;34m(self, lazy)\u001B[0m\n\u001B[0;32m    522\u001B[0m         \u001B[1;33m:\u001B[0m\u001B[0mrtype\u001B[0m\u001B[1;33m:\u001B[0m \u001B[0mlist\u001B[0m\u001B[1;33m\u001B[0m\u001B[1;33m\u001B[0m\u001B[0m\n\u001B[0;32m    523\u001B[0m         \"\"\"\n\u001B[1;32m--> 524\u001B[1;33m         \u001B[1;32mreturn\u001B[0m \u001B[0mself\u001B[0m\u001B[1;33m.\u001B[0m\u001B[0mquery_cls\u001B[0m\u001B[1;33m(\u001B[0m\u001B[0mself\u001B[0m\u001B[1;33m)\u001B[0m\u001B[1;33m.\u001B[0m\u001B[0mbuild_ast\u001B[0m\u001B[1;33m(\u001B[0m\u001B[1;33m)\u001B[0m\u001B[1;33m.\u001B[0m\u001B[0m_execute\u001B[0m\u001B[1;33m(\u001B[0m\u001B[0mlazy\u001B[0m\u001B[1;33m)\u001B[0m\u001B[1;33m\u001B[0m\u001B[1;33m\u001B[0m\u001B[0m\n\u001B[0m\u001B[0;32m    525\u001B[0m \u001B[1;33m\u001B[0m\u001B[0m\n\u001B[0;32m    526\u001B[0m     \u001B[1;32mdef\u001B[0m \u001B[0m__iter__\u001B[0m\u001B[1;33m(\u001B[0m\u001B[0mself\u001B[0m\u001B[1;33m)\u001B[0m\u001B[1;33m:\u001B[0m\u001B[1;33m\u001B[0m\u001B[1;33m\u001B[0m\u001B[0m\n",
      "\u001B[1;32mc:\\users\\bisbii\\appdata\\local\\programs\\python\\python37\\lib\\site-packages\\neomodel\\match.py\u001B[0m in \u001B[0;36m_execute\u001B[1;34m(self, lazy)\u001B[0m\n\u001B[0;32m    497\u001B[0m             \u001B[0mself\u001B[0m\u001B[1;33m.\u001B[0m\u001B[0m_ast\u001B[0m\u001B[1;33m[\u001B[0m\u001B[1;34m'return'\u001B[0m\u001B[1;33m]\u001B[0m \u001B[1;33m=\u001B[0m \u001B[1;34m'id({})'\u001B[0m\u001B[1;33m.\u001B[0m\u001B[0mformat\u001B[0m\u001B[1;33m(\u001B[0m\u001B[0mself\u001B[0m\u001B[1;33m.\u001B[0m\u001B[0m_ast\u001B[0m\u001B[1;33m[\u001B[0m\u001B[1;34m'return'\u001B[0m\u001B[1;33m]\u001B[0m\u001B[1;33m)\u001B[0m\u001B[1;33m\u001B[0m\u001B[1;33m\u001B[0m\u001B[0m\n\u001B[0;32m    498\u001B[0m         \u001B[0mquery\u001B[0m \u001B[1;33m=\u001B[0m \u001B[0mself\u001B[0m\u001B[1;33m.\u001B[0m\u001B[0mbuild_query\u001B[0m\u001B[1;33m(\u001B[0m\u001B[1;33m)\u001B[0m\u001B[1;33m\u001B[0m\u001B[1;33m\u001B[0m\u001B[0m\n\u001B[1;32m--> 499\u001B[1;33m         \u001B[0mresults\u001B[0m\u001B[1;33m,\u001B[0m \u001B[0m_\u001B[0m \u001B[1;33m=\u001B[0m \u001B[0mdb\u001B[0m\u001B[1;33m.\u001B[0m\u001B[0mcypher_query\u001B[0m\u001B[1;33m(\u001B[0m\u001B[0mquery\u001B[0m\u001B[1;33m,\u001B[0m \u001B[0mself\u001B[0m\u001B[1;33m.\u001B[0m\u001B[0m_query_params\u001B[0m\u001B[1;33m,\u001B[0m \u001B[0mresolve_objects\u001B[0m\u001B[1;33m=\u001B[0m\u001B[1;32mTrue\u001B[0m\u001B[1;33m)\u001B[0m\u001B[1;33m\u001B[0m\u001B[1;33m\u001B[0m\u001B[0m\n\u001B[0m\u001B[0;32m    500\u001B[0m         \u001B[1;31m# The following is not as elegant as it could be but had to be copied from the\u001B[0m\u001B[1;33m\u001B[0m\u001B[1;33m\u001B[0m\u001B[1;33m\u001B[0m\u001B[0m\n\u001B[0;32m    501\u001B[0m         \u001B[1;31m# version prior to cypher_query with the resolve_objects capability.\u001B[0m\u001B[1;33m\u001B[0m\u001B[1;33m\u001B[0m\u001B[1;33m\u001B[0m\u001B[0m\n",
      "\u001B[1;32mc:\\users\\bisbii\\appdata\\local\\programs\\python\\python37\\lib\\site-packages\\neomodel\\util.py\u001B[0m in \u001B[0;36mwrapper\u001B[1;34m(self, *args, **kwargs)\u001B[0m\n\u001B[0;32m     34\u001B[0m         \u001B[1;32mif\u001B[0m \u001B[1;32mnot\u001B[0m \u001B[0m_db\u001B[0m\u001B[1;33m.\u001B[0m\u001B[0murl\u001B[0m\u001B[1;33m:\u001B[0m\u001B[1;33m\u001B[0m\u001B[1;33m\u001B[0m\u001B[0m\n\u001B[0;32m     35\u001B[0m             \u001B[0m_db\u001B[0m\u001B[1;33m.\u001B[0m\u001B[0mset_connection\u001B[0m\u001B[1;33m(\u001B[0m\u001B[0mconfig\u001B[0m\u001B[1;33m.\u001B[0m\u001B[0mDATABASE_URL\u001B[0m\u001B[1;33m)\u001B[0m\u001B[1;33m\u001B[0m\u001B[1;33m\u001B[0m\u001B[0m\n\u001B[1;32m---> 36\u001B[1;33m         \u001B[1;32mreturn\u001B[0m \u001B[0mfunc\u001B[0m\u001B[1;33m(\u001B[0m\u001B[0mself\u001B[0m\u001B[1;33m,\u001B[0m \u001B[1;33m*\u001B[0m\u001B[0margs\u001B[0m\u001B[1;33m,\u001B[0m \u001B[1;33m**\u001B[0m\u001B[0mkwargs\u001B[0m\u001B[1;33m)\u001B[0m\u001B[1;33m\u001B[0m\u001B[1;33m\u001B[0m\u001B[0m\n\u001B[0m\u001B[0;32m     37\u001B[0m \u001B[1;33m\u001B[0m\u001B[0m\n\u001B[0;32m     38\u001B[0m     \u001B[1;32mreturn\u001B[0m \u001B[0mwrapper\u001B[0m\u001B[1;33m\u001B[0m\u001B[1;33m\u001B[0m\u001B[0m\n",
      "\u001B[1;32mc:\\users\\bisbii\\appdata\\local\\programs\\python\\python37\\lib\\site-packages\\neomodel\\util.py\u001B[0m in \u001B[0;36mcypher_query\u001B[1;34m(self, query, params, handle_unique, retry_on_session_expire, resolve_objects)\u001B[0m\n\u001B[0;32m    252\u001B[0m             \u001B[0mstart\u001B[0m \u001B[1;33m=\u001B[0m \u001B[0mtime\u001B[0m\u001B[1;33m.\u001B[0m\u001B[0mtime\u001B[0m\u001B[1;33m(\u001B[0m\u001B[1;33m)\u001B[0m\u001B[1;33m\u001B[0m\u001B[1;33m\u001B[0m\u001B[0m\n\u001B[0;32m    253\u001B[0m             \u001B[0mresponse\u001B[0m \u001B[1;33m=\u001B[0m \u001B[0msession\u001B[0m\u001B[1;33m.\u001B[0m\u001B[0mrun\u001B[0m\u001B[1;33m(\u001B[0m\u001B[0mquery\u001B[0m\u001B[1;33m,\u001B[0m \u001B[0mparams\u001B[0m\u001B[1;33m)\u001B[0m\u001B[1;33m\u001B[0m\u001B[1;33m\u001B[0m\u001B[0m\n\u001B[1;32m--> 254\u001B[1;33m             \u001B[0mresults\u001B[0m\u001B[1;33m,\u001B[0m \u001B[0mmeta\u001B[0m \u001B[1;33m=\u001B[0m \u001B[1;33m[\u001B[0m\u001B[0mlist\u001B[0m\u001B[1;33m(\u001B[0m\u001B[0mr\u001B[0m\u001B[1;33m.\u001B[0m\u001B[0mvalues\u001B[0m\u001B[1;33m(\u001B[0m\u001B[1;33m)\u001B[0m\u001B[1;33m)\u001B[0m \u001B[1;32mfor\u001B[0m \u001B[0mr\u001B[0m \u001B[1;32min\u001B[0m \u001B[0mresponse\u001B[0m\u001B[1;33m]\u001B[0m\u001B[1;33m,\u001B[0m \u001B[0mresponse\u001B[0m\u001B[1;33m.\u001B[0m\u001B[0mkeys\u001B[0m\u001B[1;33m(\u001B[0m\u001B[1;33m)\u001B[0m\u001B[1;33m\u001B[0m\u001B[1;33m\u001B[0m\u001B[0m\n\u001B[0m\u001B[0;32m    255\u001B[0m             \u001B[0mend\u001B[0m \u001B[1;33m=\u001B[0m \u001B[0mtime\u001B[0m\u001B[1;33m.\u001B[0m\u001B[0mtime\u001B[0m\u001B[1;33m(\u001B[0m\u001B[1;33m)\u001B[0m\u001B[1;33m\u001B[0m\u001B[1;33m\u001B[0m\u001B[0m\n\u001B[0;32m    256\u001B[0m \u001B[1;33m\u001B[0m\u001B[0m\n",
      "\u001B[1;32mc:\\users\\bisbii\\appdata\\local\\programs\\python\\python37\\lib\\site-packages\\neomodel\\util.py\u001B[0m in \u001B[0;36m<listcomp>\u001B[1;34m(.0)\u001B[0m\n\u001B[0;32m    252\u001B[0m             \u001B[0mstart\u001B[0m \u001B[1;33m=\u001B[0m \u001B[0mtime\u001B[0m\u001B[1;33m.\u001B[0m\u001B[0mtime\u001B[0m\u001B[1;33m(\u001B[0m\u001B[1;33m)\u001B[0m\u001B[1;33m\u001B[0m\u001B[1;33m\u001B[0m\u001B[0m\n\u001B[0;32m    253\u001B[0m             \u001B[0mresponse\u001B[0m \u001B[1;33m=\u001B[0m \u001B[0msession\u001B[0m\u001B[1;33m.\u001B[0m\u001B[0mrun\u001B[0m\u001B[1;33m(\u001B[0m\u001B[0mquery\u001B[0m\u001B[1;33m,\u001B[0m \u001B[0mparams\u001B[0m\u001B[1;33m)\u001B[0m\u001B[1;33m\u001B[0m\u001B[1;33m\u001B[0m\u001B[0m\n\u001B[1;32m--> 254\u001B[1;33m             \u001B[0mresults\u001B[0m\u001B[1;33m,\u001B[0m \u001B[0mmeta\u001B[0m \u001B[1;33m=\u001B[0m \u001B[1;33m[\u001B[0m\u001B[0mlist\u001B[0m\u001B[1;33m(\u001B[0m\u001B[0mr\u001B[0m\u001B[1;33m.\u001B[0m\u001B[0mvalues\u001B[0m\u001B[1;33m(\u001B[0m\u001B[1;33m)\u001B[0m\u001B[1;33m)\u001B[0m \u001B[1;32mfor\u001B[0m \u001B[0mr\u001B[0m \u001B[1;32min\u001B[0m \u001B[0mresponse\u001B[0m\u001B[1;33m]\u001B[0m\u001B[1;33m,\u001B[0m \u001B[0mresponse\u001B[0m\u001B[1;33m.\u001B[0m\u001B[0mkeys\u001B[0m\u001B[1;33m(\u001B[0m\u001B[1;33m)\u001B[0m\u001B[1;33m\u001B[0m\u001B[1;33m\u001B[0m\u001B[0m\n\u001B[0m\u001B[0;32m    255\u001B[0m             \u001B[0mend\u001B[0m \u001B[1;33m=\u001B[0m \u001B[0mtime\u001B[0m\u001B[1;33m.\u001B[0m\u001B[0mtime\u001B[0m\u001B[1;33m(\u001B[0m\u001B[1;33m)\u001B[0m\u001B[1;33m\u001B[0m\u001B[1;33m\u001B[0m\u001B[0m\n\u001B[0;32m    256\u001B[0m \u001B[1;33m\u001B[0m\u001B[0m\n",
      "\u001B[1;32mc:\\users\\bisbii\\appdata\\local\\programs\\python\\python37\\lib\\site-packages\\neo4j\\work\\result.py\u001B[0m in \u001B[0;36m__iter__\u001B[1;34m(self)\u001B[0m\n\u001B[0;32m    214\u001B[0m                 \u001B[1;32myield\u001B[0m \u001B[0mself\u001B[0m\u001B[1;33m.\u001B[0m\u001B[0m_record_buffer\u001B[0m\u001B[1;33m.\u001B[0m\u001B[0mpopleft\u001B[0m\u001B[1;33m(\u001B[0m\u001B[1;33m)\u001B[0m\u001B[1;33m\u001B[0m\u001B[1;33m\u001B[0m\u001B[0m\n\u001B[0;32m    215\u001B[0m             \u001B[1;32melif\u001B[0m \u001B[0mself\u001B[0m\u001B[1;33m.\u001B[0m\u001B[0m_streaming\u001B[0m\u001B[1;33m:\u001B[0m\u001B[1;33m\u001B[0m\u001B[1;33m\u001B[0m\u001B[0m\n\u001B[1;32m--> 216\u001B[1;33m                 \u001B[0mself\u001B[0m\u001B[1;33m.\u001B[0m\u001B[0m_connection\u001B[0m\u001B[1;33m.\u001B[0m\u001B[0mfetch_message\u001B[0m\u001B[1;33m(\u001B[0m\u001B[1;33m)\u001B[0m\u001B[1;33m\u001B[0m\u001B[1;33m\u001B[0m\u001B[0m\n\u001B[0m\u001B[0;32m    217\u001B[0m             \u001B[1;32melif\u001B[0m \u001B[0mself\u001B[0m\u001B[1;33m.\u001B[0m\u001B[0m_discarding\u001B[0m\u001B[1;33m:\u001B[0m\u001B[1;33m\u001B[0m\u001B[1;33m\u001B[0m\u001B[0m\n\u001B[0;32m    218\u001B[0m                 \u001B[0mself\u001B[0m\u001B[1;33m.\u001B[0m\u001B[0m_discard\u001B[0m\u001B[1;33m(\u001B[0m\u001B[1;33m)\u001B[0m\u001B[1;33m\u001B[0m\u001B[1;33m\u001B[0m\u001B[0m\n",
      "\u001B[1;32mc:\\users\\bisbii\\appdata\\local\\programs\\python\\python37\\lib\\site-packages\\neo4j\\work\\result.py\u001B[0m in \u001B[0;36minner\u001B[1;34m(*args, **kwargs)\u001B[0m\n\u001B[0;32m     61\u001B[0m             \u001B[1;32mdef\u001B[0m \u001B[0minner\u001B[0m\u001B[1;33m(\u001B[0m\u001B[1;33m*\u001B[0m\u001B[0margs\u001B[0m\u001B[1;33m,\u001B[0m \u001B[1;33m**\u001B[0m\u001B[0mkwargs\u001B[0m\u001B[1;33m)\u001B[0m\u001B[1;33m:\u001B[0m\u001B[1;33m\u001B[0m\u001B[1;33m\u001B[0m\u001B[0m\n\u001B[0;32m     62\u001B[0m                 \u001B[1;32mtry\u001B[0m\u001B[1;33m:\u001B[0m\u001B[1;33m\u001B[0m\u001B[1;33m\u001B[0m\u001B[0m\n\u001B[1;32m---> 63\u001B[1;33m                     \u001B[0mfunc\u001B[0m\u001B[1;33m(\u001B[0m\u001B[1;33m*\u001B[0m\u001B[0margs\u001B[0m\u001B[1;33m,\u001B[0m \u001B[1;33m**\u001B[0m\u001B[0mkwargs\u001B[0m\u001B[1;33m)\u001B[0m\u001B[1;33m\u001B[0m\u001B[1;33m\u001B[0m\u001B[0m\n\u001B[0m\u001B[0;32m     64\u001B[0m                 \u001B[1;32mfinally\u001B[0m\u001B[1;33m:\u001B[0m\u001B[1;33m\u001B[0m\u001B[1;33m\u001B[0m\u001B[0m\n\u001B[0;32m     65\u001B[0m                     \u001B[1;32mif\u001B[0m \u001B[0mself\u001B[0m\u001B[1;33m.\u001B[0m\u001B[0m_connection\u001B[0m\u001B[1;33m.\u001B[0m\u001B[0mdefunct\u001B[0m\u001B[1;33m(\u001B[0m\u001B[1;33m)\u001B[0m\u001B[1;33m:\u001B[0m\u001B[1;33m\u001B[0m\u001B[1;33m\u001B[0m\u001B[0m\n",
      "\u001B[1;32mc:\\users\\bisbii\\appdata\\local\\programs\\python\\python37\\lib\\site-packages\\neo4j\\io\\_bolt4.py\u001B[0m in \u001B[0;36mfetch_message\u001B[1;34m(self)\u001B[0m\n\u001B[0;32m    249\u001B[0m \u001B[1;33m\u001B[0m\u001B[0m\n\u001B[0;32m    250\u001B[0m         \u001B[1;31m# Receive exactly one message\u001B[0m\u001B[1;33m\u001B[0m\u001B[1;33m\u001B[0m\u001B[1;33m\u001B[0m\u001B[0m\n\u001B[1;32m--> 251\u001B[1;33m         \u001B[0mdetails\u001B[0m\u001B[1;33m,\u001B[0m \u001B[0msummary_signature\u001B[0m\u001B[1;33m,\u001B[0m \u001B[0msummary_metadata\u001B[0m \u001B[1;33m=\u001B[0m \u001B[0mnext\u001B[0m\u001B[1;33m(\u001B[0m\u001B[0mself\u001B[0m\u001B[1;33m.\u001B[0m\u001B[0minbox\u001B[0m\u001B[1;33m)\u001B[0m\u001B[1;33m\u001B[0m\u001B[1;33m\u001B[0m\u001B[0m\n\u001B[0m\u001B[0;32m    252\u001B[0m \u001B[1;33m\u001B[0m\u001B[0m\n\u001B[0;32m    253\u001B[0m         \u001B[1;32mif\u001B[0m \u001B[0mdetails\u001B[0m\u001B[1;33m:\u001B[0m\u001B[1;33m\u001B[0m\u001B[1;33m\u001B[0m\u001B[0m\n",
      "\u001B[1;32mc:\\users\\bisbii\\appdata\\local\\programs\\python\\python37\\lib\\site-packages\\neo4j\\io\\_common.py\u001B[0m in \u001B[0;36m__next__\u001B[1;34m(self)\u001B[0m\n\u001B[0;32m     79\u001B[0m \u001B[1;33m\u001B[0m\u001B[0m\n\u001B[0;32m     80\u001B[0m     \u001B[1;32mdef\u001B[0m \u001B[0m__next__\u001B[0m\u001B[1;33m(\u001B[0m\u001B[0mself\u001B[0m\u001B[1;33m)\u001B[0m\u001B[1;33m:\u001B[0m\u001B[1;33m\u001B[0m\u001B[1;33m\u001B[0m\u001B[0m\n\u001B[1;32m---> 81\u001B[1;33m         \u001B[0mtag\u001B[0m\u001B[1;33m,\u001B[0m \u001B[0mfields\u001B[0m \u001B[1;33m=\u001B[0m \u001B[0mself\u001B[0m\u001B[1;33m.\u001B[0m\u001B[0mpop\u001B[0m\u001B[1;33m(\u001B[0m\u001B[1;33m)\u001B[0m\u001B[1;33m\u001B[0m\u001B[1;33m\u001B[0m\u001B[0m\n\u001B[0m\u001B[0;32m     82\u001B[0m         \u001B[1;32mif\u001B[0m \u001B[0mtag\u001B[0m \u001B[1;33m==\u001B[0m \u001B[1;34mb\"\\x71\"\u001B[0m\u001B[1;33m:\u001B[0m\u001B[1;33m\u001B[0m\u001B[1;33m\u001B[0m\u001B[0m\n\u001B[0;32m     83\u001B[0m             \u001B[1;32mreturn\u001B[0m \u001B[0mfields\u001B[0m\u001B[1;33m,\u001B[0m \u001B[1;32mNone\u001B[0m\u001B[1;33m,\u001B[0m \u001B[1;32mNone\u001B[0m\u001B[1;33m\u001B[0m\u001B[1;33m\u001B[0m\u001B[0m\n",
      "\u001B[1;32mc:\\users\\bisbii\\appdata\\local\\programs\\python\\python37\\lib\\site-packages\\neo4j\\io\\_common.py\u001B[0m in \u001B[0;36mpop\u001B[1;34m(self)\u001B[0m\n\u001B[0;32m     73\u001B[0m \u001B[1;33m\u001B[0m\u001B[0m\n\u001B[0;32m     74\u001B[0m     \u001B[1;32mdef\u001B[0m \u001B[0mpop\u001B[0m\u001B[1;33m(\u001B[0m\u001B[0mself\u001B[0m\u001B[1;33m)\u001B[0m\u001B[1;33m:\u001B[0m\u001B[1;33m\u001B[0m\u001B[1;33m\u001B[0m\u001B[0m\n\u001B[1;32m---> 75\u001B[1;33m         \u001B[1;32mreturn\u001B[0m \u001B[0mnext\u001B[0m\u001B[1;33m(\u001B[0m\u001B[0mself\u001B[0m\u001B[1;33m.\u001B[0m\u001B[0m_messages\u001B[0m\u001B[1;33m)\u001B[0m\u001B[1;33m\u001B[0m\u001B[1;33m\u001B[0m\u001B[0m\n\u001B[0m\u001B[0;32m     76\u001B[0m \u001B[1;33m\u001B[0m\u001B[0m\n\u001B[0;32m     77\u001B[0m \u001B[1;33m\u001B[0m\u001B[0m\n",
      "\u001B[1;32mc:\\users\\bisbii\\appdata\\local\\programs\\python\\python37\\lib\\site-packages\\neo4j\\io\\_common.py\u001B[0m in \u001B[0;36m_yield_messages\u001B[1;34m(self, sock)\u001B[0m\n\u001B[0;32m     58\u001B[0m                         \u001B[0mlog\u001B[0m\u001B[1;33m.\u001B[0m\u001B[0mdebug\u001B[0m\u001B[1;33m(\u001B[0m\u001B[1;34m\"[#%04X]  S: <NOOP>\"\u001B[0m\u001B[1;33m,\u001B[0m \u001B[0msock\u001B[0m\u001B[1;33m.\u001B[0m\u001B[0mgetsockname\u001B[0m\u001B[1;33m(\u001B[0m\u001B[1;33m)\u001B[0m\u001B[1;33m[\u001B[0m\u001B[1;36m1\u001B[0m\u001B[1;33m]\u001B[0m\u001B[1;33m)\u001B[0m\u001B[1;33m\u001B[0m\u001B[1;33m\u001B[0m\u001B[0m\n\u001B[0;32m     59\u001B[0m \u001B[1;33m\u001B[0m\u001B[0m\n\u001B[1;32m---> 60\u001B[1;33m                 \u001B[0mbuffer\u001B[0m\u001B[1;33m.\u001B[0m\u001B[0mreceive\u001B[0m\u001B[1;33m(\u001B[0m\u001B[0msock\u001B[0m\u001B[1;33m,\u001B[0m \u001B[0mchunk_size\u001B[0m \u001B[1;33m+\u001B[0m \u001B[1;36m2\u001B[0m\u001B[1;33m)\u001B[0m\u001B[1;33m\u001B[0m\u001B[1;33m\u001B[0m\u001B[0m\n\u001B[0m\u001B[0;32m     61\u001B[0m                 \u001B[0mchunk_size\u001B[0m \u001B[1;33m=\u001B[0m \u001B[0mbuffer\u001B[0m\u001B[1;33m.\u001B[0m\u001B[0mpop_u16\u001B[0m\u001B[1;33m(\u001B[0m\u001B[1;33m)\u001B[0m\u001B[1;33m\u001B[0m\u001B[1;33m\u001B[0m\u001B[0m\n\u001B[0;32m     62\u001B[0m \u001B[1;33m\u001B[0m\u001B[0m\n",
      "\u001B[1;32mc:\\users\\bisbii\\appdata\\local\\programs\\python\\python37\\lib\\site-packages\\neo4j\\packstream.py\u001B[0m in \u001B[0;36mreceive\u001B[1;34m(self, sock, n_bytes)\u001B[0m\n\u001B[0;32m    603\u001B[0m         \u001B[0mview\u001B[0m \u001B[1;33m=\u001B[0m \u001B[0mmemoryview\u001B[0m\u001B[1;33m(\u001B[0m\u001B[0mself\u001B[0m\u001B[1;33m.\u001B[0m\u001B[0mdata\u001B[0m\u001B[1;33m)\u001B[0m\u001B[1;33m\u001B[0m\u001B[1;33m\u001B[0m\u001B[0m\n\u001B[0;32m    604\u001B[0m         \u001B[1;32mwhile\u001B[0m \u001B[0mself\u001B[0m\u001B[1;33m.\u001B[0m\u001B[0mused\u001B[0m \u001B[1;33m<\u001B[0m \u001B[0mend\u001B[0m\u001B[1;33m:\u001B[0m\u001B[1;33m\u001B[0m\u001B[1;33m\u001B[0m\u001B[0m\n\u001B[1;32m--> 605\u001B[1;33m             \u001B[0mn\u001B[0m \u001B[1;33m=\u001B[0m \u001B[0msock\u001B[0m\u001B[1;33m.\u001B[0m\u001B[0mrecv_into\u001B[0m\u001B[1;33m(\u001B[0m\u001B[0mview\u001B[0m\u001B[1;33m[\u001B[0m\u001B[0mself\u001B[0m\u001B[1;33m.\u001B[0m\u001B[0mused\u001B[0m\u001B[1;33m:\u001B[0m\u001B[0mend\u001B[0m\u001B[1;33m]\u001B[0m\u001B[1;33m,\u001B[0m \u001B[0mend\u001B[0m \u001B[1;33m-\u001B[0m \u001B[0mself\u001B[0m\u001B[1;33m.\u001B[0m\u001B[0mused\u001B[0m\u001B[1;33m)\u001B[0m\u001B[1;33m\u001B[0m\u001B[1;33m\u001B[0m\u001B[0m\n\u001B[0m\u001B[0;32m    606\u001B[0m             \u001B[1;32mif\u001B[0m \u001B[0mn\u001B[0m \u001B[1;33m==\u001B[0m \u001B[1;36m0\u001B[0m\u001B[1;33m:\u001B[0m\u001B[1;33m\u001B[0m\u001B[1;33m\u001B[0m\u001B[0m\n\u001B[0;32m    607\u001B[0m                 \u001B[1;32mraise\u001B[0m \u001B[0mOSError\u001B[0m\u001B[1;33m(\u001B[0m\u001B[1;34m\"No data\"\u001B[0m\u001B[1;33m)\u001B[0m\u001B[1;33m\u001B[0m\u001B[1;33m\u001B[0m\u001B[0m\n",
      "\u001B[1;31mKeyboardInterrupt\u001B[0m: "
     ]
    }
   ],
   "source": [
    "long_report = database_long_report()\n",
    "long_report"
   ],
   "metadata": {
    "collapsed": false,
    "pycharm": {
     "name": "#%%\n"
    }
   }
  },
  {
   "cell_type": "code",
   "execution_count": 22,
   "outputs": [
    {
     "data": {
      "text/plain": "                                           uid      protrend_id  \\\neffector 0    cf3d82de6abe40c0a3295b1ea9e3f866  PRT.EFC.0000001   \n         1    594b545bd5744f1298750698dd75d445  PRT.EFC.0000002   \n         2    70c79a78b3f64e429ea38306fdf9145c  PRT.EFC.0000003   \n         3    571753cc965e4a298f5554df755431c3  PRT.EFC.0000004   \n         4    c5db952f591c422191c2551b64c2d480  PRT.EFC.0000005   \n...                                        ...              ...   \n         429  4d459780b83d4c1a9056579a5873361b  PRT.EFC.0000304   \n         430  4482a8fa514540d6a959e43070dc0d80  PRT.EFC.0000305   \n         431  6c8f7a77bce6460a86b18bbafab6772a  PRT.EFC.0000306   \n         432  2f0dc6d2727a4ffd882cb7c041bf9c41  PRT.EFC.0000307   \n         433  e53ea3d8abe24b7c9e9b46d0365886b2  PRT.EFC.0000308   \n\n                                      created  \\\neffector 0   2022-08-06 19:38:39.716935+00:00   \n         1   2022-08-06 19:38:45.421387+00:00   \n         2   2022-08-06 19:38:46.816517+00:00   \n         3   2022-08-06 19:38:46.862859+00:00   \n         4   2022-08-06 19:38:46.907253+00:00   \n...                                       ...   \n         429 2022-08-06 19:38:59.974585+00:00   \n         430 2022-08-06 19:39:00.015040+00:00   \n         431 2022-08-06 19:39:00.055025+00:00   \n         432 2022-08-06 19:39:00.106766+00:00   \n         433 2022-08-06 19:39:00.146034+00:00   \n\n                                      updated  \\\neffector 0   2022-08-06 19:38:39.716953+00:00   \n         1   2022-08-06 19:38:45.421400+00:00   \n         2   2022-08-06 19:38:46.816532+00:00   \n         3   2022-08-06 19:38:46.862874+00:00   \n         4   2022-08-06 19:38:46.907267+00:00   \n...                                       ...   \n         429 2022-08-06 19:38:59.974599+00:00   \n         430 2022-08-06 19:39:00.015056+00:00   \n         431 2022-08-07 14:13:02.083107+00:00   \n         432 2022-08-07 14:13:02.111659+00:00   \n         433 2022-08-06 19:39:00.146048+00:00   \n\n                                                           name  \\\neffector 0                        YvfT, sensor histidine kinase   \n         1                        YvcQ, sensor histidine kinase   \n         2                             Trx, thioredoxin protein   \n         3                          SinI, antirepressor protein   \n         4    SgaB2, ascorbate-specific PTS system, EIIB com...   \n...                                                         ...   \n         429                         Branched-chain amino acids   \n         430                                            Betaine   \n         431                                         asparagine   \n         432                                           arginine   \n         433                                   4-hydroxyproline   \n\n                                                    name_factor  \\\neffector 0                        yvft, sensor histidine kinase   \n         1                        yvcq, sensor histidine kinase   \n         2                             trx, thioredoxin protein   \n         3                          sini, antirepressor protein   \n         4    sgab2, ascorbate-specific pts system, eiib com...   \n...                                                         ...   \n         429                         branched-chain amino acids   \n         430                                            betaine   \n         431                                         asparagine   \n         432                                           arginine   \n         433                                   4-hydroxyproline   \n\n                                                 kegg_compounds  \neffector 0    [C00615, C03095, C01152, C04816, C04087, C0474...  \n         1    [C00615, C03095, C01152, C04816, C04087, C0474...  \n         2    [C02743, C00615, C16739, C20119, C03021, C0034...  \n         3    [C02743, C00615, C16739, C20119, C03021, C0061...  \n         4                     [C22159, C02051, C22157, C02972]  \n...                                                         ...  \n         429  [C03341, C00715, C03508, C00151, C05996, C0004...  \n         430  [C21514, C10172, C04114, C08269, C00576, C0734...  \n         431  [C16438, C01410, C01905, C00152, C03021, C1157...  \n         432  [C15528, C02424, C05206, C00613, C03417, C0300...  \n         433           [C01157, C05147, C20706, C20705, C19706]  \n\n[434 rows x 7 columns]",
      "text/html": "<div>\n<style scoped>\n    .dataframe tbody tr th:only-of-type {\n        vertical-align: middle;\n    }\n\n    .dataframe tbody tr th {\n        vertical-align: top;\n    }\n\n    .dataframe thead th {\n        text-align: right;\n    }\n</style>\n<table border=\"1\" class=\"dataframe\">\n  <thead>\n    <tr style=\"text-align: right;\">\n      <th></th>\n      <th></th>\n      <th>uid</th>\n      <th>protrend_id</th>\n      <th>created</th>\n      <th>updated</th>\n      <th>name</th>\n      <th>name_factor</th>\n      <th>kegg_compounds</th>\n    </tr>\n  </thead>\n  <tbody>\n    <tr>\n      <th rowspan=\"11\" valign=\"top\">effector</th>\n      <th>0</th>\n      <td>cf3d82de6abe40c0a3295b1ea9e3f866</td>\n      <td>PRT.EFC.0000001</td>\n      <td>2022-08-06 19:38:39.716935+00:00</td>\n      <td>2022-08-06 19:38:39.716953+00:00</td>\n      <td>YvfT, sensor histidine kinase</td>\n      <td>yvft, sensor histidine kinase</td>\n      <td>[C00615, C03095, C01152, C04816, C04087, C0474...</td>\n    </tr>\n    <tr>\n      <th>1</th>\n      <td>594b545bd5744f1298750698dd75d445</td>\n      <td>PRT.EFC.0000002</td>\n      <td>2022-08-06 19:38:45.421387+00:00</td>\n      <td>2022-08-06 19:38:45.421400+00:00</td>\n      <td>YvcQ, sensor histidine kinase</td>\n      <td>yvcq, sensor histidine kinase</td>\n      <td>[C00615, C03095, C01152, C04816, C04087, C0474...</td>\n    </tr>\n    <tr>\n      <th>2</th>\n      <td>70c79a78b3f64e429ea38306fdf9145c</td>\n      <td>PRT.EFC.0000003</td>\n      <td>2022-08-06 19:38:46.816517+00:00</td>\n      <td>2022-08-06 19:38:46.816532+00:00</td>\n      <td>Trx, thioredoxin protein</td>\n      <td>trx, thioredoxin protein</td>\n      <td>[C02743, C00615, C16739, C20119, C03021, C0034...</td>\n    </tr>\n    <tr>\n      <th>3</th>\n      <td>571753cc965e4a298f5554df755431c3</td>\n      <td>PRT.EFC.0000004</td>\n      <td>2022-08-06 19:38:46.862859+00:00</td>\n      <td>2022-08-06 19:38:46.862874+00:00</td>\n      <td>SinI, antirepressor protein</td>\n      <td>sini, antirepressor protein</td>\n      <td>[C02743, C00615, C16739, C20119, C03021, C0061...</td>\n    </tr>\n    <tr>\n      <th>4</th>\n      <td>c5db952f591c422191c2551b64c2d480</td>\n      <td>PRT.EFC.0000005</td>\n      <td>2022-08-06 19:38:46.907253+00:00</td>\n      <td>2022-08-06 19:38:46.907267+00:00</td>\n      <td>SgaB2, ascorbate-specific PTS system, EIIB com...</td>\n      <td>sgab2, ascorbate-specific pts system, eiib com...</td>\n      <td>[C22159, C02051, C22157, C02972]</td>\n    </tr>\n    <tr>\n      <th>...</th>\n      <td>...</td>\n      <td>...</td>\n      <td>...</td>\n      <td>...</td>\n      <td>...</td>\n      <td>...</td>\n      <td>...</td>\n    </tr>\n    <tr>\n      <th>429</th>\n      <td>4d459780b83d4c1a9056579a5873361b</td>\n      <td>PRT.EFC.0000304</td>\n      <td>2022-08-06 19:38:59.974585+00:00</td>\n      <td>2022-08-06 19:38:59.974599+00:00</td>\n      <td>Branched-chain amino acids</td>\n      <td>branched-chain amino acids</td>\n      <td>[C03341, C00715, C03508, C00151, C05996, C0004...</td>\n    </tr>\n    <tr>\n      <th>430</th>\n      <td>4482a8fa514540d6a959e43070dc0d80</td>\n      <td>PRT.EFC.0000305</td>\n      <td>2022-08-06 19:39:00.015040+00:00</td>\n      <td>2022-08-06 19:39:00.015056+00:00</td>\n      <td>Betaine</td>\n      <td>betaine</td>\n      <td>[C21514, C10172, C04114, C08269, C00576, C0734...</td>\n    </tr>\n    <tr>\n      <th>431</th>\n      <td>6c8f7a77bce6460a86b18bbafab6772a</td>\n      <td>PRT.EFC.0000306</td>\n      <td>2022-08-06 19:39:00.055025+00:00</td>\n      <td>2022-08-07 14:13:02.083107+00:00</td>\n      <td>asparagine</td>\n      <td>asparagine</td>\n      <td>[C16438, C01410, C01905, C00152, C03021, C1157...</td>\n    </tr>\n    <tr>\n      <th>432</th>\n      <td>2f0dc6d2727a4ffd882cb7c041bf9c41</td>\n      <td>PRT.EFC.0000307</td>\n      <td>2022-08-06 19:39:00.106766+00:00</td>\n      <td>2022-08-07 14:13:02.111659+00:00</td>\n      <td>arginine</td>\n      <td>arginine</td>\n      <td>[C15528, C02424, C05206, C00613, C03417, C0300...</td>\n    </tr>\n    <tr>\n      <th>433</th>\n      <td>e53ea3d8abe24b7c9e9b46d0365886b2</td>\n      <td>PRT.EFC.0000308</td>\n      <td>2022-08-06 19:39:00.146034+00:00</td>\n      <td>2022-08-06 19:39:00.146048+00:00</td>\n      <td>4-hydroxyproline</td>\n      <td>4-hydroxyproline</td>\n      <td>[C01157, C05147, C20706, C20705, C19706]</td>\n    </tr>\n  </tbody>\n</table>\n<p>434 rows × 7 columns</p>\n</div>"
     },
     "execution_count": 22,
     "metadata": {},
     "output_type": "execute_result"
    }
   ],
   "source": [
    "# effectors\n",
    "effectors = database_long_report({'effector': Effector})\n",
    "effectors"
   ],
   "metadata": {
    "collapsed": false,
    "pycharm": {
     "name": "#%%\n"
    }
   }
  },
  {
   "cell_type": "code",
   "execution_count": 24,
   "outputs": [
    {
     "data": {
      "text/plain": "'C00615'"
     },
     "execution_count": 24,
     "metadata": {},
     "output_type": "execute_result"
    }
   ],
   "source": [
    "effectors.kegg_compounds[0][0]"
   ],
   "metadata": {
    "collapsed": false,
    "pycharm": {
     "name": "#%%\n"
    }
   }
  },
  {
   "cell_type": "code",
   "execution_count": 25,
   "outputs": [
    {
     "data": {
      "text/plain": "True"
     },
     "execution_count": 25,
     "metadata": {},
     "output_type": "execute_result"
    }
   ],
   "source": [
    "effectors.kegg_compounds.isnull().any()"
   ],
   "metadata": {
    "collapsed": false,
    "pycharm": {
     "name": "#%%\n"
    }
   }
  },
  {
   "cell_type": "code",
   "execution_count": 3,
   "outputs": [
    {
     "data": {
      "text/plain": "                                          uid      protrend_id  \\\nevidence 0   a57df1939b4148c7bbf09a8a6852e6c4  PRT.EVI.0000001   \n         1   76db45750d5240d49b795c485d074e05  PRT.EVI.0000002   \n         2   220cba40711645e681ead3f84f01785a  PRT.EVI.0000003   \n         3   76b1ad4b48fe4d0398f4f3722b4b480d  PRT.EVI.0000029   \n         4   0b4f38c7b1ec48d8ab0c421418a1e1a1  PRT.EVI.0000030   \n         5   3cc2d69e17f34d0db307c56ab03dfb85  PRT.EVI.0000031   \n         6   c2b3d68846c84488b21bf7219bf1748d  PRT.EVI.0000036   \n         7   b8c958a64f2844bc836964d22345b113  PRT.EVI.0000039   \n         8   2da11a19b492415dbaefb6de1d312d79  PRT.EVI.0000040   \n         9   36038b8633cc4101a3e277be47d77505  PRT.EVI.0000042   \n         10  544cb8460279481a93ddc97ff83f6856  PRT.EVI.0000044   \n         11  ef014477539c40bab3afdc592251e807  PRT.EVI.0000047   \n         12  4691a51fe2bc471e81cdec52dab94f32  PRT.EVI.0000057   \n         13  af1fa4e4aed84c00a8f9d51693c9f2eb  PRT.EVI.0000058   \n         14  11de755943c54eb496b630a5f12d9ec4  PRT.EVI.0000059   \n         15  71442fe13fa542e0968a4b8ea74e52a4  PRT.EVI.0000061   \n         16  5be6d4aca4024f24bbc055fd80ae3e0e  PRT.EVI.0000062   \n         17  55b63373911b4e90b18f78b4e5a818d5  PRT.EVI.0000063   \n         18  217bfa8c5c4c44f4b94a38aa246c3816  PRT.EVI.0000064   \n         19  d213c06e35dd4408ba6ca330a0f72182  PRT.EVI.0000065   \n         20  99cc291a48d94b138b6d192445899bbc  PRT.EVI.0000118   \n         21  9f6b5a5531424c3299b0e76314d1d214  PRT.EVI.0000119   \n         22  d73d28805fa546b3a3add9d3e886301b  PRT.EVI.0000120   \n         23  77ff08bd9e69465dbf167a02bd940fe2  PRT.EVI.0000122   \n         24  fa711129843948a9bebfa9f0425e03da  PRT.EVI.0000123   \n         25  2cd237ff04ac4fceb33198cf73c07a21  PRT.EVI.0000125   \n         26  cf985a38b842467b9588b6ee0167d452  PRT.EVI.0000127   \n\n                                     created                          updated  \\\nevidence 0  2022-08-07 15:08:27.487927+00:00 2022-08-07 15:08:27.487941+00:00   \n         1  2022-08-07 15:08:27.540812+00:00 2022-08-07 15:08:27.540827+00:00   \n         2  2022-08-07 15:08:27.551339+00:00 2022-08-07 15:08:27.551351+00:00   \n         3  2022-08-07 17:10:36.060498+00:00 2022-08-07 17:10:36.060508+00:00   \n         4  2022-08-07 17:10:36.083873+00:00 2022-08-07 17:10:36.083895+00:00   \n         5  2022-08-07 17:10:36.094410+00:00 2022-08-07 17:10:36.094420+00:00   \n         6  2022-08-07 17:10:36.351570+00:00 2022-08-07 17:10:36.351583+00:00   \n         7  2022-08-07 17:10:36.408326+00:00 2022-08-07 17:10:36.408336+00:00   \n         8  2022-08-07 17:10:36.418239+00:00 2022-08-07 17:10:36.418250+00:00   \n         9  2022-08-07 17:10:36.437691+00:00 2022-08-07 17:10:36.437702+00:00   \n         10 2022-08-07 17:10:36.469995+00:00 2022-08-07 17:10:36.470006+00:00   \n         11 2022-08-07 17:10:36.499339+00:00 2022-08-07 17:10:36.499349+00:00   \n         12 2022-08-07 17:10:36.625994+00:00 2022-08-07 17:10:36.626005+00:00   \n         13 2022-08-07 17:10:36.636246+00:00 2022-08-07 17:10:36.636257+00:00   \n         14 2022-08-07 17:10:36.646431+00:00 2022-08-07 17:10:36.646441+00:00   \n         15 2022-08-07 17:10:36.677405+00:00 2022-08-07 17:10:36.677415+00:00   \n         16 2022-08-07 17:10:36.687598+00:00 2022-08-07 17:10:36.687609+00:00   \n         17 2022-08-07 17:10:36.709224+00:00 2022-08-07 17:10:36.709235+00:00   \n         18 2022-08-07 17:10:36.719348+00:00 2022-08-07 17:10:36.719358+00:00   \n         19 2022-08-07 17:10:36.729427+00:00 2022-08-07 17:10:36.729437+00:00   \n         20 2022-08-07 17:10:37.378590+00:00 2022-08-07 17:10:37.378601+00:00   \n         21 2022-08-07 17:10:37.447938+00:00 2022-08-07 17:10:37.447951+00:00   \n         22 2022-08-07 17:10:37.459684+00:00 2022-08-07 17:10:37.459696+00:00   \n         23 2022-08-07 17:10:37.495203+00:00 2022-08-07 17:10:37.495214+00:00   \n         24 2022-08-07 17:10:37.506064+00:00 2022-08-07 17:10:37.506076+00:00   \n         25 2022-08-07 17:10:37.542941+00:00 2022-08-07 17:10:37.542952+00:00   \n         26 2022-08-07 17:10:37.563459+00:00 2022-08-07 17:10:37.563469+00:00   \n\n                                                          name  \\\nevidence 0                                        experimental   \n         1                                           predicted   \n         2                            experimental + predicted   \n         3                          Traceable author statement   \n         4                      Non-traceable author statement   \n         5                  Inferred by computational analysis   \n         6   Automated inference based on similarity to con...   \n         7   Inferred by a human based on computational evi...   \n         8    Inferred computationally without human oversight   \n         9                                       Site mutation   \n         10                         Reaction blocked in mutant   \n         11                           Gene expression analysis   \n         12                       Binding of purified proteins   \n         13                       Binding of cellular extracts   \n         14  Traceable author statement to experimental sup...   \n         15                     Inferred from mutant phenotype   \n         16                  Inferred from genetic interaction   \n         17                   Inferred from expression pattern   \n         18                         Inferred from direct assay   \n         19                                Inferred by curator   \n         20                                   RNA-seq evidence   \n         21  Automated inference based on sequence pattern ...   \n         22  Manually curated inference based on sequence p...   \n         23         ChIP-seq evidence used in manual assertion   \n         24                                  ChIP-exo evidence   \n         25         ChIP-exo evidence used in manual assertion   \n         26        ChIP-chip evidence used in manual assertion   \n\n                                                   name_factor  \\\nevidence 0                                        experimental   \n         1                                           predicted   \n         2                            experimental + predicted   \n         3                          traceable author statement   \n         4                      non-traceable author statement   \n         5                  inferred by computational analysis   \n         6   automated inference based on similarity to con...   \n         7   inferred by a human based on computational evi...   \n         8    inferred computationally without human oversight   \n         9                                       site mutation   \n         10                         reaction blocked in mutant   \n         11                           gene expression analysis   \n         12                       binding of purified proteins   \n         13                       binding of cellular extracts   \n         14  traceable author statement to experimental sup...   \n         15                     inferred from mutant phenotype   \n         16                  inferred from genetic interaction   \n         17                   inferred from expression pattern   \n         18                         inferred from direct assay   \n         19                                inferred by curator   \n         20                                   rna-seq evidence   \n         21  automated inference based on sequence pattern ...   \n         22  manually curated inference based on sequence p...   \n         23         chip-seq evidence used in manual assertion   \n         24                                  chip-exo evidence   \n         25         chip-exo evidence used in manual assertion   \n         26        chip-chip evidence used in manual assertion   \n\n                                                   description  \nevidence 0                                                None  \n         1                                                None  \n         2                                                None  \n         3   Traceable author statement.  The assertion was...  \n         4   Non-traceable author statement.  The assertion...  \n         5   Inferred from computation.  The evidence for a...  \n         6   A DNA sequence similar to previously known con...  \n         7   Human inference.  A curator or author inferred...  \n         8   Automated inference.  A computer inferred this...  \n         9   A cis-mutation in the DNA sequence of the tran...  \n         10  Mutant is characterized, and blocking of react...  \n         11  The expression of the gene is analyzed through...  \n         12  There exists physical evidence of the binding ...  \n         13  There exists physical evidence of the binding ...  \n         14  Traceable author statement to experimental sup...  \n         15  IMP inferred from mutant phenotype.The asserti...  \n         16  IGI inferred from genetic interaction.The asse...  \n         17  IEP inferred from expression pattern.The asser...  \n         18  IDA inferred from direct assay.The assertion w...  \n         19  Inferred by curator.  An assertion was inferre...  \n         20  Transcriptome analysis by RNA-seq (high-throug...  \n         21  A sequence found by pattern discovery using co...  \n         22  A sequence found by pattern discovery using co...  \n         23  A type of chromatin immunoprecipation-seq evid...  \n         24  A type of chromatin immunoprecipation evidence...  \n         25  A type of chromatin immunoprecipation-exonucle...  \n         26  A type of chromatin immunoprecipation-chip evi...  ",
      "text/html": "<div>\n<style scoped>\n    .dataframe tbody tr th:only-of-type {\n        vertical-align: middle;\n    }\n\n    .dataframe tbody tr th {\n        vertical-align: top;\n    }\n\n    .dataframe thead th {\n        text-align: right;\n    }\n</style>\n<table border=\"1\" class=\"dataframe\">\n  <thead>\n    <tr style=\"text-align: right;\">\n      <th></th>\n      <th></th>\n      <th>uid</th>\n      <th>protrend_id</th>\n      <th>created</th>\n      <th>updated</th>\n      <th>name</th>\n      <th>name_factor</th>\n      <th>description</th>\n    </tr>\n  </thead>\n  <tbody>\n    <tr>\n      <th rowspan=\"27\" valign=\"top\">evidence</th>\n      <th>0</th>\n      <td>a57df1939b4148c7bbf09a8a6852e6c4</td>\n      <td>PRT.EVI.0000001</td>\n      <td>2022-08-07 15:08:27.487927+00:00</td>\n      <td>2022-08-07 15:08:27.487941+00:00</td>\n      <td>experimental</td>\n      <td>experimental</td>\n      <td>None</td>\n    </tr>\n    <tr>\n      <th>1</th>\n      <td>76db45750d5240d49b795c485d074e05</td>\n      <td>PRT.EVI.0000002</td>\n      <td>2022-08-07 15:08:27.540812+00:00</td>\n      <td>2022-08-07 15:08:27.540827+00:00</td>\n      <td>predicted</td>\n      <td>predicted</td>\n      <td>None</td>\n    </tr>\n    <tr>\n      <th>2</th>\n      <td>220cba40711645e681ead3f84f01785a</td>\n      <td>PRT.EVI.0000003</td>\n      <td>2022-08-07 15:08:27.551339+00:00</td>\n      <td>2022-08-07 15:08:27.551351+00:00</td>\n      <td>experimental + predicted</td>\n      <td>experimental + predicted</td>\n      <td>None</td>\n    </tr>\n    <tr>\n      <th>3</th>\n      <td>76b1ad4b48fe4d0398f4f3722b4b480d</td>\n      <td>PRT.EVI.0000029</td>\n      <td>2022-08-07 17:10:36.060498+00:00</td>\n      <td>2022-08-07 17:10:36.060508+00:00</td>\n      <td>Traceable author statement</td>\n      <td>traceable author statement</td>\n      <td>Traceable author statement.  The assertion was...</td>\n    </tr>\n    <tr>\n      <th>4</th>\n      <td>0b4f38c7b1ec48d8ab0c421418a1e1a1</td>\n      <td>PRT.EVI.0000030</td>\n      <td>2022-08-07 17:10:36.083873+00:00</td>\n      <td>2022-08-07 17:10:36.083895+00:00</td>\n      <td>Non-traceable author statement</td>\n      <td>non-traceable author statement</td>\n      <td>Non-traceable author statement.  The assertion...</td>\n    </tr>\n    <tr>\n      <th>5</th>\n      <td>3cc2d69e17f34d0db307c56ab03dfb85</td>\n      <td>PRT.EVI.0000031</td>\n      <td>2022-08-07 17:10:36.094410+00:00</td>\n      <td>2022-08-07 17:10:36.094420+00:00</td>\n      <td>Inferred by computational analysis</td>\n      <td>inferred by computational analysis</td>\n      <td>Inferred from computation.  The evidence for a...</td>\n    </tr>\n    <tr>\n      <th>6</th>\n      <td>c2b3d68846c84488b21bf7219bf1748d</td>\n      <td>PRT.EVI.0000036</td>\n      <td>2022-08-07 17:10:36.351570+00:00</td>\n      <td>2022-08-07 17:10:36.351583+00:00</td>\n      <td>Automated inference based on similarity to con...</td>\n      <td>automated inference based on similarity to con...</td>\n      <td>A DNA sequence similar to previously known con...</td>\n    </tr>\n    <tr>\n      <th>7</th>\n      <td>b8c958a64f2844bc836964d22345b113</td>\n      <td>PRT.EVI.0000039</td>\n      <td>2022-08-07 17:10:36.408326+00:00</td>\n      <td>2022-08-07 17:10:36.408336+00:00</td>\n      <td>Inferred by a human based on computational evi...</td>\n      <td>inferred by a human based on computational evi...</td>\n      <td>Human inference.  A curator or author inferred...</td>\n    </tr>\n    <tr>\n      <th>8</th>\n      <td>2da11a19b492415dbaefb6de1d312d79</td>\n      <td>PRT.EVI.0000040</td>\n      <td>2022-08-07 17:10:36.418239+00:00</td>\n      <td>2022-08-07 17:10:36.418250+00:00</td>\n      <td>Inferred computationally without human oversight</td>\n      <td>inferred computationally without human oversight</td>\n      <td>Automated inference.  A computer inferred this...</td>\n    </tr>\n    <tr>\n      <th>9</th>\n      <td>36038b8633cc4101a3e277be47d77505</td>\n      <td>PRT.EVI.0000042</td>\n      <td>2022-08-07 17:10:36.437691+00:00</td>\n      <td>2022-08-07 17:10:36.437702+00:00</td>\n      <td>Site mutation</td>\n      <td>site mutation</td>\n      <td>A cis-mutation in the DNA sequence of the tran...</td>\n    </tr>\n    <tr>\n      <th>10</th>\n      <td>544cb8460279481a93ddc97ff83f6856</td>\n      <td>PRT.EVI.0000044</td>\n      <td>2022-08-07 17:10:36.469995+00:00</td>\n      <td>2022-08-07 17:10:36.470006+00:00</td>\n      <td>Reaction blocked in mutant</td>\n      <td>reaction blocked in mutant</td>\n      <td>Mutant is characterized, and blocking of react...</td>\n    </tr>\n    <tr>\n      <th>11</th>\n      <td>ef014477539c40bab3afdc592251e807</td>\n      <td>PRT.EVI.0000047</td>\n      <td>2022-08-07 17:10:36.499339+00:00</td>\n      <td>2022-08-07 17:10:36.499349+00:00</td>\n      <td>Gene expression analysis</td>\n      <td>gene expression analysis</td>\n      <td>The expression of the gene is analyzed through...</td>\n    </tr>\n    <tr>\n      <th>12</th>\n      <td>4691a51fe2bc471e81cdec52dab94f32</td>\n      <td>PRT.EVI.0000057</td>\n      <td>2022-08-07 17:10:36.625994+00:00</td>\n      <td>2022-08-07 17:10:36.626005+00:00</td>\n      <td>Binding of purified proteins</td>\n      <td>binding of purified proteins</td>\n      <td>There exists physical evidence of the binding ...</td>\n    </tr>\n    <tr>\n      <th>13</th>\n      <td>af1fa4e4aed84c00a8f9d51693c9f2eb</td>\n      <td>PRT.EVI.0000058</td>\n      <td>2022-08-07 17:10:36.636246+00:00</td>\n      <td>2022-08-07 17:10:36.636257+00:00</td>\n      <td>Binding of cellular extracts</td>\n      <td>binding of cellular extracts</td>\n      <td>There exists physical evidence of the binding ...</td>\n    </tr>\n    <tr>\n      <th>14</th>\n      <td>11de755943c54eb496b630a5f12d9ec4</td>\n      <td>PRT.EVI.0000059</td>\n      <td>2022-08-07 17:10:36.646431+00:00</td>\n      <td>2022-08-07 17:10:36.646441+00:00</td>\n      <td>Traceable author statement to experimental sup...</td>\n      <td>traceable author statement to experimental sup...</td>\n      <td>Traceable author statement to experimental sup...</td>\n    </tr>\n    <tr>\n      <th>15</th>\n      <td>71442fe13fa542e0968a4b8ea74e52a4</td>\n      <td>PRT.EVI.0000061</td>\n      <td>2022-08-07 17:10:36.677405+00:00</td>\n      <td>2022-08-07 17:10:36.677415+00:00</td>\n      <td>Inferred from mutant phenotype</td>\n      <td>inferred from mutant phenotype</td>\n      <td>IMP inferred from mutant phenotype.The asserti...</td>\n    </tr>\n    <tr>\n      <th>16</th>\n      <td>5be6d4aca4024f24bbc055fd80ae3e0e</td>\n      <td>PRT.EVI.0000062</td>\n      <td>2022-08-07 17:10:36.687598+00:00</td>\n      <td>2022-08-07 17:10:36.687609+00:00</td>\n      <td>Inferred from genetic interaction</td>\n      <td>inferred from genetic interaction</td>\n      <td>IGI inferred from genetic interaction.The asse...</td>\n    </tr>\n    <tr>\n      <th>17</th>\n      <td>55b63373911b4e90b18f78b4e5a818d5</td>\n      <td>PRT.EVI.0000063</td>\n      <td>2022-08-07 17:10:36.709224+00:00</td>\n      <td>2022-08-07 17:10:36.709235+00:00</td>\n      <td>Inferred from expression pattern</td>\n      <td>inferred from expression pattern</td>\n      <td>IEP inferred from expression pattern.The asser...</td>\n    </tr>\n    <tr>\n      <th>18</th>\n      <td>217bfa8c5c4c44f4b94a38aa246c3816</td>\n      <td>PRT.EVI.0000064</td>\n      <td>2022-08-07 17:10:36.719348+00:00</td>\n      <td>2022-08-07 17:10:36.719358+00:00</td>\n      <td>Inferred from direct assay</td>\n      <td>inferred from direct assay</td>\n      <td>IDA inferred from direct assay.The assertion w...</td>\n    </tr>\n    <tr>\n      <th>19</th>\n      <td>d213c06e35dd4408ba6ca330a0f72182</td>\n      <td>PRT.EVI.0000065</td>\n      <td>2022-08-07 17:10:36.729427+00:00</td>\n      <td>2022-08-07 17:10:36.729437+00:00</td>\n      <td>Inferred by curator</td>\n      <td>inferred by curator</td>\n      <td>Inferred by curator.  An assertion was inferre...</td>\n    </tr>\n    <tr>\n      <th>20</th>\n      <td>99cc291a48d94b138b6d192445899bbc</td>\n      <td>PRT.EVI.0000118</td>\n      <td>2022-08-07 17:10:37.378590+00:00</td>\n      <td>2022-08-07 17:10:37.378601+00:00</td>\n      <td>RNA-seq evidence</td>\n      <td>rna-seq evidence</td>\n      <td>Transcriptome analysis by RNA-seq (high-throug...</td>\n    </tr>\n    <tr>\n      <th>21</th>\n      <td>9f6b5a5531424c3299b0e76314d1d214</td>\n      <td>PRT.EVI.0000119</td>\n      <td>2022-08-07 17:10:37.447938+00:00</td>\n      <td>2022-08-07 17:10:37.447951+00:00</td>\n      <td>Automated inference based on sequence pattern ...</td>\n      <td>automated inference based on sequence pattern ...</td>\n      <td>A sequence found by pattern discovery using co...</td>\n    </tr>\n    <tr>\n      <th>22</th>\n      <td>d73d28805fa546b3a3add9d3e886301b</td>\n      <td>PRT.EVI.0000120</td>\n      <td>2022-08-07 17:10:37.459684+00:00</td>\n      <td>2022-08-07 17:10:37.459696+00:00</td>\n      <td>Manually curated inference based on sequence p...</td>\n      <td>manually curated inference based on sequence p...</td>\n      <td>A sequence found by pattern discovery using co...</td>\n    </tr>\n    <tr>\n      <th>23</th>\n      <td>77ff08bd9e69465dbf167a02bd940fe2</td>\n      <td>PRT.EVI.0000122</td>\n      <td>2022-08-07 17:10:37.495203+00:00</td>\n      <td>2022-08-07 17:10:37.495214+00:00</td>\n      <td>ChIP-seq evidence used in manual assertion</td>\n      <td>chip-seq evidence used in manual assertion</td>\n      <td>A type of chromatin immunoprecipation-seq evid...</td>\n    </tr>\n    <tr>\n      <th>24</th>\n      <td>fa711129843948a9bebfa9f0425e03da</td>\n      <td>PRT.EVI.0000123</td>\n      <td>2022-08-07 17:10:37.506064+00:00</td>\n      <td>2022-08-07 17:10:37.506076+00:00</td>\n      <td>ChIP-exo evidence</td>\n      <td>chip-exo evidence</td>\n      <td>A type of chromatin immunoprecipation evidence...</td>\n    </tr>\n    <tr>\n      <th>25</th>\n      <td>2cd237ff04ac4fceb33198cf73c07a21</td>\n      <td>PRT.EVI.0000125</td>\n      <td>2022-08-07 17:10:37.542941+00:00</td>\n      <td>2022-08-07 17:10:37.542952+00:00</td>\n      <td>ChIP-exo evidence used in manual assertion</td>\n      <td>chip-exo evidence used in manual assertion</td>\n      <td>A type of chromatin immunoprecipation-exonucle...</td>\n    </tr>\n    <tr>\n      <th>26</th>\n      <td>cf985a38b842467b9588b6ee0167d452</td>\n      <td>PRT.EVI.0000127</td>\n      <td>2022-08-07 17:10:37.563459+00:00</td>\n      <td>2022-08-07 17:10:37.563469+00:00</td>\n      <td>ChIP-chip evidence used in manual assertion</td>\n      <td>chip-chip evidence used in manual assertion</td>\n      <td>A type of chromatin immunoprecipation-chip evi...</td>\n    </tr>\n  </tbody>\n</table>\n</div>"
     },
     "execution_count": 3,
     "metadata": {},
     "output_type": "execute_result"
    }
   ],
   "source": [
    "# evidences\n",
    "evidences = database_long_report({'evidence': Evidence})\n",
    "evidences"
   ],
   "metadata": {
    "collapsed": false,
    "pycharm": {
     "name": "#%%\n"
    }
   }
  },
  {
   "cell_type": "code",
   "execution_count": 4,
   "outputs": [
    {
     "data": {
      "text/plain": "                                          uid      protrend_id  \\\ngene 0       364bf3bac48d4a6b90dd31ce306c0773  PRT.GEN.0102254   \n     1       26c460b797e5448186d3a653cb2a9ef3  PRT.GEN.0102255   \n     2       96e8ec4bc4ec4e18ba56f7ee57bc8ef4  PRT.GEN.0102256   \n     3       f93b2e8474344211ae721f91b4c55fad  PRT.GEN.0102257   \n     4       ed606bc6e0f948068269fa82a98a4796  PRT.GEN.0102258   \n...                                       ...              ...   \n     111791  8d6863fc910f4b66ba2b1026bc21f9a2  PRT.GEN.0102249   \n     111792  1310b7ecc9cf44a08a5a83326c69a15b  PRT.GEN.0102250   \n     111793  a0f33672aa864e10b509e9edc5e043bb  PRT.GEN.0102251   \n     111794  f7ee36dbbdbc449dbc3422287977991c  PRT.GEN.0102252   \n     111795  34bf09bc28da4be59deecf793c07acb1  PRT.GEN.0102253   \n\n                                     created                          updated  \\\ngene 0      2022-08-07 13:04:11.716693+00:00 2022-08-07 14:14:37.978691+00:00   \n     1      2022-08-07 13:04:11.747465+00:00 2022-08-07 13:04:11.747475+00:00   \n     2      2022-08-07 13:04:11.757968+00:00 2022-08-07 13:04:11.757978+00:00   \n     3      2022-08-07 13:04:11.768187+00:00 2022-08-07 13:04:11.768197+00:00   \n     4      2022-08-07 13:04:11.778792+00:00 2022-08-07 13:04:11.778803+00:00   \n...                                      ...                              ...   \n     111791 2022-08-06 20:22:32.254648+00:00 2022-08-06 20:22:32.254660+00:00   \n     111792 2022-08-06 20:22:32.277178+00:00 2022-08-06 20:22:32.277189+00:00   \n     111793 2022-08-06 20:22:32.288591+00:00 2022-08-06 20:22:32.288602+00:00   \n     111794 2022-08-06 20:22:32.299753+00:00 2022-08-06 20:22:32.299764+00:00   \n     111795 2022-08-06 20:22:32.326018+00:00 2022-08-06 20:22:32.326032+00:00   \n\n                   locus_tag locus_tag_factor uniprot_accession  \\\ngene 0             BSU_05890        bsu_05890              None   \n     1        BSU_misc_RNA_2   bsu_misc_rna_2              None   \n     2       BSU_misc_RNA_41  bsu_misc_rna_41              None   \n     3            BSU_rRNA_1       bsu_rrna_1              None   \n     4           BSU_rRNA_19      bsu_rrna_19              None   \n...                      ...              ...               ...   \n     111791            y4138            y4138              None   \n     111792            y4139            y4139              None   \n     111793            y4140            y4140              None   \n     111794            y4141            y4141              None   \n     111795            y4142            y4142              None   \n\n            uniprot_accession_factor      name  \\\ngene 0                          None     ydhUc   \n     1                          None       scr   \n     2                          None     ssrSB   \n     3                          None  rrnO-16S   \n     4                          None  rrnB-16S   \n...                              ...       ...   \n     111791                     None      atpH   \n     111792                     None      atpF   \n     111793                     None      atpE   \n     111794                     None      atpB   \n     111795                     None      atpI   \n\n                                         synonyms  ... description  \\\ngene 0       [b, s, u, _, 0, 5, 8, 9, y, d, h, c]  ...        None   \n     1          [b, s, u, _, m, i, c, r, n, a, 2]  ...        None   \n     2       [b, s, u, _, m, i, c, r, n, a, 4, 1]  ...        None   \n     3          [b, s, u, _, r, n, a, 1, o, -, 6]  ...        None   \n     4          [b, s, u, _, r, n, a, 1, 9, -, 6]  ...        None   \n...                                           ...  ...         ...   \n     111791                         [y4138, atpH]  ...        None   \n     111792                         [y4139, atpF]  ...        None   \n     111793                         [y4140, atpE]  ...        None   \n     111794                         [y4141, atpB]  ...        None   \n     111795                         [y4142, atpI]  ...        None   \n\n              ncbi_gene  ncbi_protein  genbank_accession refseq_accession  \\\ngene 0       37862808.0           NaN               None             None   \n     1        8302906.0           NaN               None             None   \n     2        8303197.0           NaN               None             None   \n     3         936774.0           NaN               None             None   \n     4        8303212.0           NaN               None             None   \n...                 ...           ...                ...              ...   \n     111791   1149085.0    21961154.0         AAM87680.1             None   \n     111792   1149086.0    21961155.0         AAM87681.1             None   \n     111793   1149087.0    21961156.0         AAM87682.1             None   \n     111794   1149088.0    21961157.0         AAM87683.1             None   \n     111795   1149089.0    21961158.0         AAM87684.1             None   \n\n                                              protein_sequence   strand  \\\ngene 0                                                    None  reverse   \n     1                                                    None  forward   \n     2                                                    None  reverse   \n     3                                                    None  forward   \n     4                                                    None  reverse   \n...                                                        ...      ...   \n     111791  MSEFVTVARPYAKAAFDFAVEHQAVERWQNMLAFTAQVTRNEQIAE...  reverse   \n     111792  MNLNATILGQAIAFVLFVIFCMKYVWPPIMAAIEKRQQEIADGLSS...  reverse   \n     111793  MENLNMDLLYMAAAVMMGLAAIGAAIGIGILGGKFLEGAARQPDLI...  reverse   \n     111794  MSASGEISTPRDYIGHHLNHLQLDLRTFELVNPHSTGPATFWTLNI...  reverse   \n     111795  MGERQFHTSLSIPWCGSERTNVMPVSFYSGKIARKLLFLQLMTFVV...  reverse   \n\n                 start       stop  gene_sequence  \ngene 0        634650.0   633922.0           None  \n     1         26378.0    26731.0           None  \n     2       2814690.0  2814490.0           None  \n     3          9809.0    11363.0           None  \n     4       3178639.0  3177085.0           None  \n...                ...        ...            ...  \n     111791  4594989.0  4594456.0           None  \n     111792  4595474.0  4595004.0           None  \n     111793  4595775.0  4595536.0           None  \n     111794  4596649.0  4595825.0           None  \n     111795  4597072.0  4596689.0           None  \n\n[111796 rows x 21 columns]",
      "text/html": "<div>\n<style scoped>\n    .dataframe tbody tr th:only-of-type {\n        vertical-align: middle;\n    }\n\n    .dataframe tbody tr th {\n        vertical-align: top;\n    }\n\n    .dataframe thead th {\n        text-align: right;\n    }\n</style>\n<table border=\"1\" class=\"dataframe\">\n  <thead>\n    <tr style=\"text-align: right;\">\n      <th></th>\n      <th></th>\n      <th>uid</th>\n      <th>protrend_id</th>\n      <th>created</th>\n      <th>updated</th>\n      <th>locus_tag</th>\n      <th>locus_tag_factor</th>\n      <th>uniprot_accession</th>\n      <th>uniprot_accession_factor</th>\n      <th>name</th>\n      <th>synonyms</th>\n      <th>...</th>\n      <th>description</th>\n      <th>ncbi_gene</th>\n      <th>ncbi_protein</th>\n      <th>genbank_accession</th>\n      <th>refseq_accession</th>\n      <th>protein_sequence</th>\n      <th>strand</th>\n      <th>start</th>\n      <th>stop</th>\n      <th>gene_sequence</th>\n    </tr>\n  </thead>\n  <tbody>\n    <tr>\n      <th rowspan=\"11\" valign=\"top\">gene</th>\n      <th>0</th>\n      <td>364bf3bac48d4a6b90dd31ce306c0773</td>\n      <td>PRT.GEN.0102254</td>\n      <td>2022-08-07 13:04:11.716693+00:00</td>\n      <td>2022-08-07 14:14:37.978691+00:00</td>\n      <td>BSU_05890</td>\n      <td>bsu_05890</td>\n      <td>None</td>\n      <td>None</td>\n      <td>ydhUc</td>\n      <td>[b, s, u, _, 0, 5, 8, 9, y, d, h, c]</td>\n      <td>...</td>\n      <td>None</td>\n      <td>37862808.0</td>\n      <td>NaN</td>\n      <td>None</td>\n      <td>None</td>\n      <td>None</td>\n      <td>reverse</td>\n      <td>634650.0</td>\n      <td>633922.0</td>\n      <td>None</td>\n    </tr>\n    <tr>\n      <th>1</th>\n      <td>26c460b797e5448186d3a653cb2a9ef3</td>\n      <td>PRT.GEN.0102255</td>\n      <td>2022-08-07 13:04:11.747465+00:00</td>\n      <td>2022-08-07 13:04:11.747475+00:00</td>\n      <td>BSU_misc_RNA_2</td>\n      <td>bsu_misc_rna_2</td>\n      <td>None</td>\n      <td>None</td>\n      <td>scr</td>\n      <td>[b, s, u, _, m, i, c, r, n, a, 2]</td>\n      <td>...</td>\n      <td>None</td>\n      <td>8302906.0</td>\n      <td>NaN</td>\n      <td>None</td>\n      <td>None</td>\n      <td>None</td>\n      <td>forward</td>\n      <td>26378.0</td>\n      <td>26731.0</td>\n      <td>None</td>\n    </tr>\n    <tr>\n      <th>2</th>\n      <td>96e8ec4bc4ec4e18ba56f7ee57bc8ef4</td>\n      <td>PRT.GEN.0102256</td>\n      <td>2022-08-07 13:04:11.757968+00:00</td>\n      <td>2022-08-07 13:04:11.757978+00:00</td>\n      <td>BSU_misc_RNA_41</td>\n      <td>bsu_misc_rna_41</td>\n      <td>None</td>\n      <td>None</td>\n      <td>ssrSB</td>\n      <td>[b, s, u, _, m, i, c, r, n, a, 4, 1]</td>\n      <td>...</td>\n      <td>None</td>\n      <td>8303197.0</td>\n      <td>NaN</td>\n      <td>None</td>\n      <td>None</td>\n      <td>None</td>\n      <td>reverse</td>\n      <td>2814690.0</td>\n      <td>2814490.0</td>\n      <td>None</td>\n    </tr>\n    <tr>\n      <th>3</th>\n      <td>f93b2e8474344211ae721f91b4c55fad</td>\n      <td>PRT.GEN.0102257</td>\n      <td>2022-08-07 13:04:11.768187+00:00</td>\n      <td>2022-08-07 13:04:11.768197+00:00</td>\n      <td>BSU_rRNA_1</td>\n      <td>bsu_rrna_1</td>\n      <td>None</td>\n      <td>None</td>\n      <td>rrnO-16S</td>\n      <td>[b, s, u, _, r, n, a, 1, o, -, 6]</td>\n      <td>...</td>\n      <td>None</td>\n      <td>936774.0</td>\n      <td>NaN</td>\n      <td>None</td>\n      <td>None</td>\n      <td>None</td>\n      <td>forward</td>\n      <td>9809.0</td>\n      <td>11363.0</td>\n      <td>None</td>\n    </tr>\n    <tr>\n      <th>4</th>\n      <td>ed606bc6e0f948068269fa82a98a4796</td>\n      <td>PRT.GEN.0102258</td>\n      <td>2022-08-07 13:04:11.778792+00:00</td>\n      <td>2022-08-07 13:04:11.778803+00:00</td>\n      <td>BSU_rRNA_19</td>\n      <td>bsu_rrna_19</td>\n      <td>None</td>\n      <td>None</td>\n      <td>rrnB-16S</td>\n      <td>[b, s, u, _, r, n, a, 1, 9, -, 6]</td>\n      <td>...</td>\n      <td>None</td>\n      <td>8303212.0</td>\n      <td>NaN</td>\n      <td>None</td>\n      <td>None</td>\n      <td>None</td>\n      <td>reverse</td>\n      <td>3178639.0</td>\n      <td>3177085.0</td>\n      <td>None</td>\n    </tr>\n    <tr>\n      <th>...</th>\n      <td>...</td>\n      <td>...</td>\n      <td>...</td>\n      <td>...</td>\n      <td>...</td>\n      <td>...</td>\n      <td>...</td>\n      <td>...</td>\n      <td>...</td>\n      <td>...</td>\n      <td>...</td>\n      <td>...</td>\n      <td>...</td>\n      <td>...</td>\n      <td>...</td>\n      <td>...</td>\n      <td>...</td>\n      <td>...</td>\n      <td>...</td>\n      <td>...</td>\n      <td>...</td>\n    </tr>\n    <tr>\n      <th>111791</th>\n      <td>8d6863fc910f4b66ba2b1026bc21f9a2</td>\n      <td>PRT.GEN.0102249</td>\n      <td>2022-08-06 20:22:32.254648+00:00</td>\n      <td>2022-08-06 20:22:32.254660+00:00</td>\n      <td>y4138</td>\n      <td>y4138</td>\n      <td>None</td>\n      <td>None</td>\n      <td>atpH</td>\n      <td>[y4138, atpH]</td>\n      <td>...</td>\n      <td>None</td>\n      <td>1149085.0</td>\n      <td>21961154.0</td>\n      <td>AAM87680.1</td>\n      <td>None</td>\n      <td>MSEFVTVARPYAKAAFDFAVEHQAVERWQNMLAFTAQVTRNEQIAE...</td>\n      <td>reverse</td>\n      <td>4594989.0</td>\n      <td>4594456.0</td>\n      <td>None</td>\n    </tr>\n    <tr>\n      <th>111792</th>\n      <td>1310b7ecc9cf44a08a5a83326c69a15b</td>\n      <td>PRT.GEN.0102250</td>\n      <td>2022-08-06 20:22:32.277178+00:00</td>\n      <td>2022-08-06 20:22:32.277189+00:00</td>\n      <td>y4139</td>\n      <td>y4139</td>\n      <td>None</td>\n      <td>None</td>\n      <td>atpF</td>\n      <td>[y4139, atpF]</td>\n      <td>...</td>\n      <td>None</td>\n      <td>1149086.0</td>\n      <td>21961155.0</td>\n      <td>AAM87681.1</td>\n      <td>None</td>\n      <td>MNLNATILGQAIAFVLFVIFCMKYVWPPIMAAIEKRQQEIADGLSS...</td>\n      <td>reverse</td>\n      <td>4595474.0</td>\n      <td>4595004.0</td>\n      <td>None</td>\n    </tr>\n    <tr>\n      <th>111793</th>\n      <td>a0f33672aa864e10b509e9edc5e043bb</td>\n      <td>PRT.GEN.0102251</td>\n      <td>2022-08-06 20:22:32.288591+00:00</td>\n      <td>2022-08-06 20:22:32.288602+00:00</td>\n      <td>y4140</td>\n      <td>y4140</td>\n      <td>None</td>\n      <td>None</td>\n      <td>atpE</td>\n      <td>[y4140, atpE]</td>\n      <td>...</td>\n      <td>None</td>\n      <td>1149087.0</td>\n      <td>21961156.0</td>\n      <td>AAM87682.1</td>\n      <td>None</td>\n      <td>MENLNMDLLYMAAAVMMGLAAIGAAIGIGILGGKFLEGAARQPDLI...</td>\n      <td>reverse</td>\n      <td>4595775.0</td>\n      <td>4595536.0</td>\n      <td>None</td>\n    </tr>\n    <tr>\n      <th>111794</th>\n      <td>f7ee36dbbdbc449dbc3422287977991c</td>\n      <td>PRT.GEN.0102252</td>\n      <td>2022-08-06 20:22:32.299753+00:00</td>\n      <td>2022-08-06 20:22:32.299764+00:00</td>\n      <td>y4141</td>\n      <td>y4141</td>\n      <td>None</td>\n      <td>None</td>\n      <td>atpB</td>\n      <td>[y4141, atpB]</td>\n      <td>...</td>\n      <td>None</td>\n      <td>1149088.0</td>\n      <td>21961157.0</td>\n      <td>AAM87683.1</td>\n      <td>None</td>\n      <td>MSASGEISTPRDYIGHHLNHLQLDLRTFELVNPHSTGPATFWTLNI...</td>\n      <td>reverse</td>\n      <td>4596649.0</td>\n      <td>4595825.0</td>\n      <td>None</td>\n    </tr>\n    <tr>\n      <th>111795</th>\n      <td>34bf09bc28da4be59deecf793c07acb1</td>\n      <td>PRT.GEN.0102253</td>\n      <td>2022-08-06 20:22:32.326018+00:00</td>\n      <td>2022-08-06 20:22:32.326032+00:00</td>\n      <td>y4142</td>\n      <td>y4142</td>\n      <td>None</td>\n      <td>None</td>\n      <td>atpI</td>\n      <td>[y4142, atpI]</td>\n      <td>...</td>\n      <td>None</td>\n      <td>1149089.0</td>\n      <td>21961158.0</td>\n      <td>AAM87684.1</td>\n      <td>None</td>\n      <td>MGERQFHTSLSIPWCGSERTNVMPVSFYSGKIARKLLFLQLMTFVV...</td>\n      <td>reverse</td>\n      <td>4597072.0</td>\n      <td>4596689.0</td>\n      <td>None</td>\n    </tr>\n  </tbody>\n</table>\n<p>111796 rows × 21 columns</p>\n</div>"
     },
     "execution_count": 4,
     "metadata": {},
     "output_type": "execute_result"
    }
   ],
   "source": [
    "# genes\n",
    "genes = database_long_report({'gene': Gene})\n",
    "genes"
   ],
   "metadata": {
    "collapsed": false,
    "pycharm": {
     "name": "#%%\n"
    }
   }
  },
  {
   "cell_type": "code",
   "execution_count": 14,
   "outputs": [
    {
     "data": {
      "text/plain": "11.362660560306272"
     },
     "execution_count": 14,
     "metadata": {},
     "output_type": "execute_result"
    }
   ],
   "source": [
    "genes.uniprot_accession.isnull().sum()/genes.shape[0]*100"
   ],
   "metadata": {
    "collapsed": false,
    "pycharm": {
     "name": "#%%\n"
    }
   }
  },
  {
   "cell_type": "code",
   "execution_count": 15,
   "outputs": [
    {
     "data": {
      "text/plain": "0.0"
     },
     "execution_count": 15,
     "metadata": {},
     "output_type": "execute_result"
    }
   ],
   "source": [
    "genes.name.isnull().sum()/genes.shape[0]*100"
   ],
   "metadata": {
    "collapsed": false,
    "pycharm": {
     "name": "#%%\n"
    }
   }
  },
  {
   "cell_type": "code",
   "execution_count": 16,
   "outputs": [
    {
     "data": {
      "text/plain": "45.98107266807399"
     },
     "execution_count": 16,
     "metadata": {},
     "output_type": "execute_result"
    }
   ],
   "source": [
    "genes.function.isnull().sum()/genes.shape[0]*100"
   ],
   "metadata": {
    "collapsed": false,
    "pycharm": {
     "name": "#%%\n"
    }
   }
  },
  {
   "cell_type": "code",
   "execution_count": 17,
   "outputs": [
    {
     "data": {
      "text/plain": "71.80936706143332"
     },
     "execution_count": 17,
     "metadata": {},
     "output_type": "execute_result"
    }
   ],
   "source": [
    "genes.description.isnull().sum()/genes.shape[0]*100"
   ],
   "metadata": {
    "collapsed": false,
    "pycharm": {
     "name": "#%%\n"
    }
   }
  },
  {
   "cell_type": "code",
   "execution_count": 18,
   "outputs": [
    {
     "data": {
      "text/plain": "2.8060037926222763"
     },
     "execution_count": 18,
     "metadata": {},
     "output_type": "execute_result"
    }
   ],
   "source": [
    "genes.ncbi_protein.isnull().sum()/genes.shape[0]*100"
   ],
   "metadata": {
    "collapsed": false,
    "pycharm": {
     "name": "#%%\n"
    }
   }
  },
  {
   "cell_type": "code",
   "execution_count": 19,
   "outputs": [
    {
     "data": {
      "text/plain": "8.928763104225554"
     },
     "execution_count": 19,
     "metadata": {},
     "output_type": "execute_result"
    }
   ],
   "source": [
    "genes.ncbi_gene.isnull().sum()/genes.shape[0]*100"
   ],
   "metadata": {
    "collapsed": false,
    "pycharm": {
     "name": "#%%\n"
    }
   }
  },
  {
   "cell_type": "code",
   "execution_count": 20,
   "outputs": [
    {
     "data": {
      "text/plain": "33.8580986797381"
     },
     "execution_count": 20,
     "metadata": {},
     "output_type": "execute_result"
    }
   ],
   "source": [
    "genes.genbank_accession.isnull().sum()/genes.shape[0]*100"
   ],
   "metadata": {
    "collapsed": false,
    "pycharm": {
     "name": "#%%\n"
    }
   }
  },
  {
   "cell_type": "code",
   "execution_count": 21,
   "outputs": [
    {
     "data": {
      "text/plain": "21.880031485920785"
     },
     "execution_count": 21,
     "metadata": {},
     "output_type": "execute_result"
    }
   ],
   "source": [
    "genes.refseq_accession.isnull().sum()/genes.shape[0]*100"
   ],
   "metadata": {
    "collapsed": false,
    "pycharm": {
     "name": "#%%\n"
    }
   }
  },
  {
   "cell_type": "code",
   "execution_count": 22,
   "outputs": [
    {
     "data": {
      "text/plain": "2.509928798883681"
     },
     "execution_count": 22,
     "metadata": {},
     "output_type": "execute_result"
    }
   ],
   "source": [
    "genes.protein_sequence.isnull().sum()/genes.shape[0]*100"
   ],
   "metadata": {
    "collapsed": false,
    "pycharm": {
     "name": "#%%\n"
    }
   }
  },
  {
   "cell_type": "code",
   "execution_count": 23,
   "outputs": [
    {
     "data": {
      "text/plain": "93.82983290994311"
     },
     "execution_count": 23,
     "metadata": {},
     "output_type": "execute_result"
    }
   ],
   "source": [
    "genes.gene_sequence.isnull().sum()/genes.shape[0]*100"
   ],
   "metadata": {
    "collapsed": false,
    "pycharm": {
     "name": "#%%\n"
    }
   }
  },
  {
   "cell_type": "code",
   "execution_count": 24,
   "outputs": [
    {
     "data": {
      "text/plain": "11.42080217539089"
     },
     "execution_count": 24,
     "metadata": {},
     "output_type": "execute_result"
    }
   ],
   "source": [
    "genes.start.isnull().sum()/genes.shape[0]*100"
   ],
   "metadata": {
    "collapsed": false,
    "pycharm": {
     "name": "#%%\n"
    }
   }
  },
  {
   "cell_type": "code",
   "execution_count": 6,
   "outputs": [
    {
     "data": {
      "text/plain": "                                           uid      protrend_id  \\\norganism 0    eb05aff2f4e3412ba25646f7323fecc1  PRT.ORG.0000001   \n         1    5d03c60f24c84ce6bb1398d31e98fafd  PRT.ORG.0000002   \n         2    3e4cc9ebee714dcdbb2e20c2f683cdbf  PRT.ORG.0000003   \n         3    3a57e3cedc624c4dab88e9e175e35485  PRT.ORG.0000004   \n         4    9859bb0e1b5f485794f086b5202cd21f  PRT.ORG.0000005   \n...                                        ...              ...   \n         489  963dcf0d438f49e09782511d1b280bfc  PRT.ORG.0000520   \n         490  d3a113111e244221a365bbc6d3f72408  PRT.ORG.0000521   \n         491  925589844f7d434ca921ab1d8552c0ca  PRT.ORG.0000522   \n         492  a31f762393c9468abcfaf6638d480d55  PRT.ORG.0000523   \n         493  3b73b757b6ca4c138770771cc47a08cb  PRT.ORG.0000524   \n\n                                      created  \\\norganism 0   2022-08-06 19:39:00.230740+00:00   \n         1   2022-08-06 19:39:00.307729+00:00   \n         2   2022-08-06 19:39:00.364713+00:00   \n         3   2022-08-06 19:39:00.407186+00:00   \n         4   2022-08-06 19:39:00.446586+00:00   \n...                                       ...   \n         489 2022-08-06 19:39:24.507779+00:00   \n         490 2022-08-06 19:39:24.545681+00:00   \n         491 2022-08-06 19:39:24.592747+00:00   \n         492 2022-08-06 19:39:24.631459+00:00   \n         493 2022-08-06 19:39:24.670510+00:00   \n\n                                      updated  \\\norganism 0   2022-08-06 19:39:00.230754+00:00   \n         1   2022-08-06 19:39:00.307744+00:00   \n         2   2022-08-06 19:39:00.364726+00:00   \n         3   2022-08-06 19:39:00.407197+00:00   \n         4   2022-08-06 19:39:00.446597+00:00   \n...                                       ...   \n         489 2022-08-06 19:39:24.507791+00:00   \n         490 2022-08-06 19:39:24.545692+00:00   \n         491 2022-08-06 19:39:24.592763+00:00   \n         492 2022-08-06 19:39:24.631472+00:00   \n         493 2022-08-06 19:39:24.670525+00:00   \n\n                                                     name  \\\norganism 0                           Roseiflexus sp. RS-1   \n         1             Chlorobium phaeovibrioides DSM 265   \n         2    Candidatus Protochlamydia amoebophila UWE25   \n         3                 Phenylobacterium zucineum HLK1   \n         4               Campylobacter upsaliensis RM3195   \n...                                                   ...   \n         489                     Idiomarina baltica OS145   \n         490                      Glaciecola sp. HTCC2999   \n         491                Colwellia psychrerythraea 34H   \n         492                  Alteromonas mediterranea DE   \n         493               Alteromonadales bacterium TW-7   \n\n                                              name_factor  ncbi_taxonomy  \\\norganism 0                           roseiflexus sp. rs-1         357808   \n         1             chlorobium phaeovibrioides dsm 265         290318   \n         2    candidatus protochlamydia amoebophila uwe25         264201   \n         3                 phenylobacterium zucineum hlk1         450851   \n         4               campylobacter upsaliensis rm3195         306264   \n...                                                   ...            ...   \n         489                     idiomarina baltica os145         314276   \n         490                      glaciecola sp. htcc2999         455436   \n         491                colwellia psychrerythraea 34h         167879   \n         492                  alteromonas mediterranea de        1774373   \n         493               alteromonadales bacterium tw-7         156578   \n\n              ncbi_taxonomy_factor                     species  \\\norganism 0                  357808             Roseiflexus sp.   \n         1                  290318  Chlorobium phaeovibrioides   \n         2                  264201   Candidatus Protochlamydia   \n         3                  450851   Phenylobacterium zucineum   \n         4                  306264   Campylobacter upsaliensis   \n...                            ...                         ...   \n         489                314276          Idiomarina baltica   \n         490                455436              Glaciecola sp.   \n         491                167879   Colwellia psychrerythraea   \n         492               1774373    Alteromonas mediterranea   \n         493                156578   Alteromonadales bacterium   \n\n                         strain refseq_accession  \\\norganism 0                 RS-1  GCF_000016665.1   \n         1              DSM 265  GCF_000016085.1   \n         2    amoebophila UWE25  GCF_000011565.2   \n         3                 HLK1  GCF_000017265.1   \n         4               RM3195  GCF_000167395.1   \n...                         ...              ...   \n         489              OS145  GCF_000152885.1   \n         490           HTCC2999  GCF_000155775.1   \n         491                34H  GCF_000012325.1   \n         492                 DE  GCF_000020585.3   \n         493               TW-7  GCF_000169055.1   \n\n                                                     refseq_ftp  \\\norganism 0    ftp://ftp.ncbi.nlm.nih.gov/genomes/all/GCF/000...   \n         1    ftp://ftp.ncbi.nlm.nih.gov/genomes/all/GCF/000...   \n         2    ftp://ftp.ncbi.nlm.nih.gov/genomes/all/GCF/000...   \n         3    ftp://ftp.ncbi.nlm.nih.gov/genomes/all/GCF/000...   \n         4    ftp://ftp.ncbi.nlm.nih.gov/genomes/all/GCF/000...   \n...                                                         ...   \n         489  ftp://ftp.ncbi.nlm.nih.gov/genomes/all/GCF/000...   \n         490  ftp://ftp.ncbi.nlm.nih.gov/genomes/all/GCF/000...   \n         491  ftp://ftp.ncbi.nlm.nih.gov/genomes/all/GCF/000...   \n         492  ftp://ftp.ncbi.nlm.nih.gov/genomes/all/GCF/000...   \n         493  ftp://ftp.ncbi.nlm.nih.gov/genomes/all/GCF/000...   \n\n             genbank_accession  \\\norganism 0     GCA_000016665.1   \n         1     GCA_000016085.1   \n         2     GCA_000011565.2   \n         3     GCA_000017265.1   \n         4     GCA_000167395.1   \n...                        ...   \n         489   GCA_000152885.1   \n         490   GCA_000155775.1   \n         491   GCA_000012325.1   \n         492   GCA_000020585.3   \n         493   GCA_000169055.1   \n\n                                                    genbank_ftp  \\\norganism 0    ftp://ftp.ncbi.nlm.nih.gov/genomes/all/GCA/000...   \n         1    ftp://ftp.ncbi.nlm.nih.gov/genomes/all/GCA/000...   \n         2    ftp://ftp.ncbi.nlm.nih.gov/genomes/all/GCA/000...   \n         3    ftp://ftp.ncbi.nlm.nih.gov/genomes/all/GCA/000...   \n         4    ftp://ftp.ncbi.nlm.nih.gov/genomes/all/GCA/000...   \n...                                                         ...   \n         489  ftp://ftp.ncbi.nlm.nih.gov/genomes/all/GCA/000...   \n         490  ftp://ftp.ncbi.nlm.nih.gov/genomes/all/GCA/000...   \n         491  ftp://ftp.ncbi.nlm.nih.gov/genomes/all/GCA/000...   \n         492  ftp://ftp.ncbi.nlm.nih.gov/genomes/all/GCA/000...   \n         493  ftp://ftp.ncbi.nlm.nih.gov/genomes/all/GCA/000...   \n\n              ncbi_assembly assembly_accession  \norganism 0          37768.0          ASM1666v1  \n         1          37188.0          ASM1608v1  \n         2        7809161.0          ASM1156v2  \n         3          38368.0          ASM1726v1  \n         4         203458.0         ASM16739v1  \n...                     ...                ...  \n         489       176778.0         ASM15288v1  \n         490       182478.0         ASM15577v1  \n         491        33428.0          ASM1232v1  \n         492        64271.0          ASM2058v3  \n         493       206578.0         ASM16905v1  \n\n[494 rows x 16 columns]",
      "text/html": "<div>\n<style scoped>\n    .dataframe tbody tr th:only-of-type {\n        vertical-align: middle;\n    }\n\n    .dataframe tbody tr th {\n        vertical-align: top;\n    }\n\n    .dataframe thead th {\n        text-align: right;\n    }\n</style>\n<table border=\"1\" class=\"dataframe\">\n  <thead>\n    <tr style=\"text-align: right;\">\n      <th></th>\n      <th></th>\n      <th>uid</th>\n      <th>protrend_id</th>\n      <th>created</th>\n      <th>updated</th>\n      <th>name</th>\n      <th>name_factor</th>\n      <th>ncbi_taxonomy</th>\n      <th>ncbi_taxonomy_factor</th>\n      <th>species</th>\n      <th>strain</th>\n      <th>refseq_accession</th>\n      <th>refseq_ftp</th>\n      <th>genbank_accession</th>\n      <th>genbank_ftp</th>\n      <th>ncbi_assembly</th>\n      <th>assembly_accession</th>\n    </tr>\n  </thead>\n  <tbody>\n    <tr>\n      <th rowspan=\"11\" valign=\"top\">organism</th>\n      <th>0</th>\n      <td>eb05aff2f4e3412ba25646f7323fecc1</td>\n      <td>PRT.ORG.0000001</td>\n      <td>2022-08-06 19:39:00.230740+00:00</td>\n      <td>2022-08-06 19:39:00.230754+00:00</td>\n      <td>Roseiflexus sp. RS-1</td>\n      <td>roseiflexus sp. rs-1</td>\n      <td>357808</td>\n      <td>357808</td>\n      <td>Roseiflexus sp.</td>\n      <td>RS-1</td>\n      <td>GCF_000016665.1</td>\n      <td>ftp://ftp.ncbi.nlm.nih.gov/genomes/all/GCF/000...</td>\n      <td>GCA_000016665.1</td>\n      <td>ftp://ftp.ncbi.nlm.nih.gov/genomes/all/GCA/000...</td>\n      <td>37768.0</td>\n      <td>ASM1666v1</td>\n    </tr>\n    <tr>\n      <th>1</th>\n      <td>5d03c60f24c84ce6bb1398d31e98fafd</td>\n      <td>PRT.ORG.0000002</td>\n      <td>2022-08-06 19:39:00.307729+00:00</td>\n      <td>2022-08-06 19:39:00.307744+00:00</td>\n      <td>Chlorobium phaeovibrioides DSM 265</td>\n      <td>chlorobium phaeovibrioides dsm 265</td>\n      <td>290318</td>\n      <td>290318</td>\n      <td>Chlorobium phaeovibrioides</td>\n      <td>DSM 265</td>\n      <td>GCF_000016085.1</td>\n      <td>ftp://ftp.ncbi.nlm.nih.gov/genomes/all/GCF/000...</td>\n      <td>GCA_000016085.1</td>\n      <td>ftp://ftp.ncbi.nlm.nih.gov/genomes/all/GCA/000...</td>\n      <td>37188.0</td>\n      <td>ASM1608v1</td>\n    </tr>\n    <tr>\n      <th>2</th>\n      <td>3e4cc9ebee714dcdbb2e20c2f683cdbf</td>\n      <td>PRT.ORG.0000003</td>\n      <td>2022-08-06 19:39:00.364713+00:00</td>\n      <td>2022-08-06 19:39:00.364726+00:00</td>\n      <td>Candidatus Protochlamydia amoebophila UWE25</td>\n      <td>candidatus protochlamydia amoebophila uwe25</td>\n      <td>264201</td>\n      <td>264201</td>\n      <td>Candidatus Protochlamydia</td>\n      <td>amoebophila UWE25</td>\n      <td>GCF_000011565.2</td>\n      <td>ftp://ftp.ncbi.nlm.nih.gov/genomes/all/GCF/000...</td>\n      <td>GCA_000011565.2</td>\n      <td>ftp://ftp.ncbi.nlm.nih.gov/genomes/all/GCA/000...</td>\n      <td>7809161.0</td>\n      <td>ASM1156v2</td>\n    </tr>\n    <tr>\n      <th>3</th>\n      <td>3a57e3cedc624c4dab88e9e175e35485</td>\n      <td>PRT.ORG.0000004</td>\n      <td>2022-08-06 19:39:00.407186+00:00</td>\n      <td>2022-08-06 19:39:00.407197+00:00</td>\n      <td>Phenylobacterium zucineum HLK1</td>\n      <td>phenylobacterium zucineum hlk1</td>\n      <td>450851</td>\n      <td>450851</td>\n      <td>Phenylobacterium zucineum</td>\n      <td>HLK1</td>\n      <td>GCF_000017265.1</td>\n      <td>ftp://ftp.ncbi.nlm.nih.gov/genomes/all/GCF/000...</td>\n      <td>GCA_000017265.1</td>\n      <td>ftp://ftp.ncbi.nlm.nih.gov/genomes/all/GCA/000...</td>\n      <td>38368.0</td>\n      <td>ASM1726v1</td>\n    </tr>\n    <tr>\n      <th>4</th>\n      <td>9859bb0e1b5f485794f086b5202cd21f</td>\n      <td>PRT.ORG.0000005</td>\n      <td>2022-08-06 19:39:00.446586+00:00</td>\n      <td>2022-08-06 19:39:00.446597+00:00</td>\n      <td>Campylobacter upsaliensis RM3195</td>\n      <td>campylobacter upsaliensis rm3195</td>\n      <td>306264</td>\n      <td>306264</td>\n      <td>Campylobacter upsaliensis</td>\n      <td>RM3195</td>\n      <td>GCF_000167395.1</td>\n      <td>ftp://ftp.ncbi.nlm.nih.gov/genomes/all/GCF/000...</td>\n      <td>GCA_000167395.1</td>\n      <td>ftp://ftp.ncbi.nlm.nih.gov/genomes/all/GCA/000...</td>\n      <td>203458.0</td>\n      <td>ASM16739v1</td>\n    </tr>\n    <tr>\n      <th>...</th>\n      <td>...</td>\n      <td>...</td>\n      <td>...</td>\n      <td>...</td>\n      <td>...</td>\n      <td>...</td>\n      <td>...</td>\n      <td>...</td>\n      <td>...</td>\n      <td>...</td>\n      <td>...</td>\n      <td>...</td>\n      <td>...</td>\n      <td>...</td>\n      <td>...</td>\n      <td>...</td>\n    </tr>\n    <tr>\n      <th>489</th>\n      <td>963dcf0d438f49e09782511d1b280bfc</td>\n      <td>PRT.ORG.0000520</td>\n      <td>2022-08-06 19:39:24.507779+00:00</td>\n      <td>2022-08-06 19:39:24.507791+00:00</td>\n      <td>Idiomarina baltica OS145</td>\n      <td>idiomarina baltica os145</td>\n      <td>314276</td>\n      <td>314276</td>\n      <td>Idiomarina baltica</td>\n      <td>OS145</td>\n      <td>GCF_000152885.1</td>\n      <td>ftp://ftp.ncbi.nlm.nih.gov/genomes/all/GCF/000...</td>\n      <td>GCA_000152885.1</td>\n      <td>ftp://ftp.ncbi.nlm.nih.gov/genomes/all/GCA/000...</td>\n      <td>176778.0</td>\n      <td>ASM15288v1</td>\n    </tr>\n    <tr>\n      <th>490</th>\n      <td>d3a113111e244221a365bbc6d3f72408</td>\n      <td>PRT.ORG.0000521</td>\n      <td>2022-08-06 19:39:24.545681+00:00</td>\n      <td>2022-08-06 19:39:24.545692+00:00</td>\n      <td>Glaciecola sp. HTCC2999</td>\n      <td>glaciecola sp. htcc2999</td>\n      <td>455436</td>\n      <td>455436</td>\n      <td>Glaciecola sp.</td>\n      <td>HTCC2999</td>\n      <td>GCF_000155775.1</td>\n      <td>ftp://ftp.ncbi.nlm.nih.gov/genomes/all/GCF/000...</td>\n      <td>GCA_000155775.1</td>\n      <td>ftp://ftp.ncbi.nlm.nih.gov/genomes/all/GCA/000...</td>\n      <td>182478.0</td>\n      <td>ASM15577v1</td>\n    </tr>\n    <tr>\n      <th>491</th>\n      <td>925589844f7d434ca921ab1d8552c0ca</td>\n      <td>PRT.ORG.0000522</td>\n      <td>2022-08-06 19:39:24.592747+00:00</td>\n      <td>2022-08-06 19:39:24.592763+00:00</td>\n      <td>Colwellia psychrerythraea 34H</td>\n      <td>colwellia psychrerythraea 34h</td>\n      <td>167879</td>\n      <td>167879</td>\n      <td>Colwellia psychrerythraea</td>\n      <td>34H</td>\n      <td>GCF_000012325.1</td>\n      <td>ftp://ftp.ncbi.nlm.nih.gov/genomes/all/GCF/000...</td>\n      <td>GCA_000012325.1</td>\n      <td>ftp://ftp.ncbi.nlm.nih.gov/genomes/all/GCA/000...</td>\n      <td>33428.0</td>\n      <td>ASM1232v1</td>\n    </tr>\n    <tr>\n      <th>492</th>\n      <td>a31f762393c9468abcfaf6638d480d55</td>\n      <td>PRT.ORG.0000523</td>\n      <td>2022-08-06 19:39:24.631459+00:00</td>\n      <td>2022-08-06 19:39:24.631472+00:00</td>\n      <td>Alteromonas mediterranea DE</td>\n      <td>alteromonas mediterranea de</td>\n      <td>1774373</td>\n      <td>1774373</td>\n      <td>Alteromonas mediterranea</td>\n      <td>DE</td>\n      <td>GCF_000020585.3</td>\n      <td>ftp://ftp.ncbi.nlm.nih.gov/genomes/all/GCF/000...</td>\n      <td>GCA_000020585.3</td>\n      <td>ftp://ftp.ncbi.nlm.nih.gov/genomes/all/GCA/000...</td>\n      <td>64271.0</td>\n      <td>ASM2058v3</td>\n    </tr>\n    <tr>\n      <th>493</th>\n      <td>3b73b757b6ca4c138770771cc47a08cb</td>\n      <td>PRT.ORG.0000524</td>\n      <td>2022-08-06 19:39:24.670510+00:00</td>\n      <td>2022-08-06 19:39:24.670525+00:00</td>\n      <td>Alteromonadales bacterium TW-7</td>\n      <td>alteromonadales bacterium tw-7</td>\n      <td>156578</td>\n      <td>156578</td>\n      <td>Alteromonadales bacterium</td>\n      <td>TW-7</td>\n      <td>GCF_000169055.1</td>\n      <td>ftp://ftp.ncbi.nlm.nih.gov/genomes/all/GCF/000...</td>\n      <td>GCA_000169055.1</td>\n      <td>ftp://ftp.ncbi.nlm.nih.gov/genomes/all/GCA/000...</td>\n      <td>206578.0</td>\n      <td>ASM16905v1</td>\n    </tr>\n  </tbody>\n</table>\n<p>494 rows × 16 columns</p>\n</div>"
     },
     "execution_count": 6,
     "metadata": {},
     "output_type": "execute_result"
    }
   ],
   "source": [
    "# organisms\n",
    "organisms = database_long_report({'organism': Organism})\n",
    "organisms"
   ],
   "metadata": {
    "collapsed": false,
    "pycharm": {
     "name": "#%%\n"
    }
   }
  },
  {
   "cell_type": "code",
   "execution_count": 14,
   "outputs": [
    {
     "data": {
      "text/plain": "True"
     },
     "execution_count": 14,
     "metadata": {},
     "output_type": "execute_result"
    }
   ],
   "source": [
    "(organisms.name.value_counts() == 1).all()"
   ],
   "metadata": {
    "collapsed": false,
    "pycharm": {
     "name": "#%%\n"
    }
   }
  },
  {
   "cell_type": "code",
   "execution_count": 15,
   "outputs": [
    {
     "data": {
      "text/plain": "True"
     },
     "execution_count": 15,
     "metadata": {},
     "output_type": "execute_result"
    }
   ],
   "source": [
    "(organisms.ncbi_taxonomy.value_counts() == 1).all()"
   ],
   "metadata": {
    "collapsed": false,
    "pycharm": {
     "name": "#%%\n"
    }
   }
  },
  {
   "cell_type": "code",
   "execution_count": 19,
   "outputs": [
    {
     "data": {
      "text/plain": "True"
     },
     "execution_count": 19,
     "metadata": {},
     "output_type": "execute_result"
    }
   ],
   "source": [
    "organisms.genbank_ftp.isnull().any()"
   ],
   "metadata": {
    "collapsed": false,
    "pycharm": {
     "name": "#%%\n"
    }
   }
  },
  {
   "cell_type": "code",
   "execution_count": 25,
   "outputs": [
    {
     "data": {
      "text/plain": "                                          uid      protrend_id  \\\nmotif 0      63ded2f4e3e5412f97895d0a24d3236f  PRT.MOT.0000001   \n      1      6a2224e127a642378ff55125d8ae13d0  PRT.MOT.0000002   \n      2      dd22874497814ebcab50d583e9bc7185  PRT.MOT.0000003   \n      3      ad07ca15e6ca413a8767e472b29bdaf9  PRT.MOT.0000004   \n      4      b3013c8618864f92b790a7fb4dcec9f6  PRT.MOT.0000005   \n...                                       ...              ...   \n      15516  8fa3283d4cf74477b3e980e758a668ad  PRT.MOT.0015517   \n      15517  14425f4ca95a41679fdfca929aea2ba9  PRT.MOT.0015518   \n      15518  3e53c16b8e5e4a2ab171e42c72965246  PRT.MOT.0015519   \n      15519  53c9c1d9bb5949878a2a5b0ea14e94f0  PRT.MOT.0015520   \n      15520  b059d53a7f36403380a1e266443f28b4  PRT.MOT.0015521   \n\n                                     created                          updated  \\\nmotif 0     2022-08-07 20:24:58.621605+00:00 2022-08-07 20:24:58.621620+00:00   \n      1     2022-08-07 20:24:58.641534+00:00 2022-08-07 20:24:58.641546+00:00   \n      2     2022-08-07 20:24:58.679422+00:00 2022-08-07 20:24:58.679436+00:00   \n      3     2022-08-07 20:24:58.690948+00:00 2022-08-07 20:24:58.690961+00:00   \n      4     2022-08-07 20:24:58.705428+00:00 2022-08-07 20:24:58.705439+00:00   \n...                                      ...                              ...   \n      15516 2022-08-07 20:29:00.961707+00:00 2022-08-07 20:29:00.961719+00:00   \n      15517 2022-08-07 20:29:00.973131+00:00 2022-08-07 20:29:00.973144+00:00   \n      15518 2022-08-07 20:29:00.999738+00:00 2022-08-07 20:29:00.999749+00:00   \n      15519 2022-08-07 20:29:01.011242+00:00 2022-08-07 20:29:01.011253+00:00   \n      15520 2022-08-07 20:29:01.021743+00:00 2022-08-07 20:29:01.021753+00:00   \n\n                      locus_tag    locus_tag_factor        regulator  \\\nmotif 0             RoseRS_4064         rosers_4064  PRT.REG.0000001   \n      1      RoseRS_1968_357808  rosers_1968_357808  PRT.REG.0000002   \n      2       T-box(Trp)_357808   t-box(trp)_357808  PRT.REG.0000003   \n      3       T-box(Thr)_357808   t-box(thr)_357808  PRT.REG.0000004   \n      4       T-box(Phe)_357808   t-box(phe)_357808  PRT.REG.0000005   \n...                         ...                 ...              ...   \n      15516              cg2888              cg2888  PRT.REG.0016627   \n      15517              cg2910              cg2910  PRT.REG.0016628   \n      15518              cg3202              cg3202  PRT.REG.0016630   \n      15519              cg3285              cg3285  PRT.REG.0016632   \n      15520              cg3315              cg3315  PRT.REG.0016633   \n\n                                                          tfbs  \\\nmotif 0                                      [PRT.TBS.0061261]   \n      1      [PRT.TBS.0061253, PRT.TBS.0061254, PRT.TBS.006...   \n      2                                      [PRT.TBS.0061283]   \n      3                                      [PRT.TBS.0061270]   \n      4                                      [PRT.TBS.0061271]   \n...                                                        ...   \n      15516  [PRT.TBS.0068949, PRT.TBS.0068948, PRT.TBS.006...   \n      15517  [PRT.TBS.0068959, PRT.TBS.0068958, PRT.TBS.006...   \n      15518                                  [PRT.TBS.0068966]   \n      15519                                  [PRT.TBS.0069001]   \n      15520  [PRT.TBS.0069004, PRT.TBS.0069003, PRT.TBS.006...   \n\n                                                     sequences  \\\nmotif 0                                      [AGGCGTGCTGCCGCC]   \n      1      [TAAGCGTGTATGAGG--, --ACGGCGCCACTGGGG, -AGGGGA...   \n      2                                      [GTTAACGACTGTGAA]   \n      3                                      [TCCGTTTGCGTTGAC]   \n      4                                      [ACAGGGCTGTGACGA]   \n...                                                        ...   \n      15516  [CCGTTGAAGCAGCTGTCGC----, TCACTGAATCCGCTGCGGA-...   \n      15517  [ACTGAATCAATAAAGA, ACCGCATCAATCAAGA, AATTGATCG...   \n      15518                             [GCCAGGTTATATAACCAGTC]   \n      15519                             [TGAAGATTTGATGAAGATTT]   \n      15520  [TTTCTGTCC, TTTCCGTTC, TTTCCGTAG, TTTTTGTTG, T...   \n\n                  consensus_sequence  \nmotif 0              AGGCGTGCTGCCGCC  \n      1            -AAGGGTGCCAGAGGG-  \n      2              GTTAACGACTGTGAA  \n      3              TCCGTTTGCGTTGAC  \n      4              ACAGGGCTGTGACGA  \n...                              ...  \n      15516  ACTGTGAAGACTCTAATAA----  \n      15517         ACTTGATCAATCAAGT  \n      15518     GCCAGGTTATATAACCAGTC  \n      15519     TGAAGATTTGATGAAGATTT  \n      15520                TTTCTGTTC  \n\n[15521 rows x 10 columns]",
      "text/html": "<div>\n<style scoped>\n    .dataframe tbody tr th:only-of-type {\n        vertical-align: middle;\n    }\n\n    .dataframe tbody tr th {\n        vertical-align: top;\n    }\n\n    .dataframe thead th {\n        text-align: right;\n    }\n</style>\n<table border=\"1\" class=\"dataframe\">\n  <thead>\n    <tr style=\"text-align: right;\">\n      <th></th>\n      <th></th>\n      <th>uid</th>\n      <th>protrend_id</th>\n      <th>created</th>\n      <th>updated</th>\n      <th>locus_tag</th>\n      <th>locus_tag_factor</th>\n      <th>regulator</th>\n      <th>tfbs</th>\n      <th>sequences</th>\n      <th>consensus_sequence</th>\n    </tr>\n  </thead>\n  <tbody>\n    <tr>\n      <th rowspan=\"11\" valign=\"top\">motif</th>\n      <th>0</th>\n      <td>63ded2f4e3e5412f97895d0a24d3236f</td>\n      <td>PRT.MOT.0000001</td>\n      <td>2022-08-07 20:24:58.621605+00:00</td>\n      <td>2022-08-07 20:24:58.621620+00:00</td>\n      <td>RoseRS_4064</td>\n      <td>rosers_4064</td>\n      <td>PRT.REG.0000001</td>\n      <td>[PRT.TBS.0061261]</td>\n      <td>[AGGCGTGCTGCCGCC]</td>\n      <td>AGGCGTGCTGCCGCC</td>\n    </tr>\n    <tr>\n      <th>1</th>\n      <td>6a2224e127a642378ff55125d8ae13d0</td>\n      <td>PRT.MOT.0000002</td>\n      <td>2022-08-07 20:24:58.641534+00:00</td>\n      <td>2022-08-07 20:24:58.641546+00:00</td>\n      <td>RoseRS_1968_357808</td>\n      <td>rosers_1968_357808</td>\n      <td>PRT.REG.0000002</td>\n      <td>[PRT.TBS.0061253, PRT.TBS.0061254, PRT.TBS.006...</td>\n      <td>[TAAGCGTGTATGAGG--, --ACGGCGCCACTGGGG, -AGGGGA...</td>\n      <td>-AAGGGTGCCAGAGGG-</td>\n    </tr>\n    <tr>\n      <th>2</th>\n      <td>dd22874497814ebcab50d583e9bc7185</td>\n      <td>PRT.MOT.0000003</td>\n      <td>2022-08-07 20:24:58.679422+00:00</td>\n      <td>2022-08-07 20:24:58.679436+00:00</td>\n      <td>T-box(Trp)_357808</td>\n      <td>t-box(trp)_357808</td>\n      <td>PRT.REG.0000003</td>\n      <td>[PRT.TBS.0061283]</td>\n      <td>[GTTAACGACTGTGAA]</td>\n      <td>GTTAACGACTGTGAA</td>\n    </tr>\n    <tr>\n      <th>3</th>\n      <td>ad07ca15e6ca413a8767e472b29bdaf9</td>\n      <td>PRT.MOT.0000004</td>\n      <td>2022-08-07 20:24:58.690948+00:00</td>\n      <td>2022-08-07 20:24:58.690961+00:00</td>\n      <td>T-box(Thr)_357808</td>\n      <td>t-box(thr)_357808</td>\n      <td>PRT.REG.0000004</td>\n      <td>[PRT.TBS.0061270]</td>\n      <td>[TCCGTTTGCGTTGAC]</td>\n      <td>TCCGTTTGCGTTGAC</td>\n    </tr>\n    <tr>\n      <th>4</th>\n      <td>b3013c8618864f92b790a7fb4dcec9f6</td>\n      <td>PRT.MOT.0000005</td>\n      <td>2022-08-07 20:24:58.705428+00:00</td>\n      <td>2022-08-07 20:24:58.705439+00:00</td>\n      <td>T-box(Phe)_357808</td>\n      <td>t-box(phe)_357808</td>\n      <td>PRT.REG.0000005</td>\n      <td>[PRT.TBS.0061271]</td>\n      <td>[ACAGGGCTGTGACGA]</td>\n      <td>ACAGGGCTGTGACGA</td>\n    </tr>\n    <tr>\n      <th>...</th>\n      <td>...</td>\n      <td>...</td>\n      <td>...</td>\n      <td>...</td>\n      <td>...</td>\n      <td>...</td>\n      <td>...</td>\n      <td>...</td>\n      <td>...</td>\n      <td>...</td>\n    </tr>\n    <tr>\n      <th>15516</th>\n      <td>8fa3283d4cf74477b3e980e758a668ad</td>\n      <td>PRT.MOT.0015517</td>\n      <td>2022-08-07 20:29:00.961707+00:00</td>\n      <td>2022-08-07 20:29:00.961719+00:00</td>\n      <td>cg2888</td>\n      <td>cg2888</td>\n      <td>PRT.REG.0016627</td>\n      <td>[PRT.TBS.0068949, PRT.TBS.0068948, PRT.TBS.006...</td>\n      <td>[CCGTTGAAGCAGCTGTCGC----, TCACTGAATCCGCTGCGGA-...</td>\n      <td>ACTGTGAAGACTCTAATAA----</td>\n    </tr>\n    <tr>\n      <th>15517</th>\n      <td>14425f4ca95a41679fdfca929aea2ba9</td>\n      <td>PRT.MOT.0015518</td>\n      <td>2022-08-07 20:29:00.973131+00:00</td>\n      <td>2022-08-07 20:29:00.973144+00:00</td>\n      <td>cg2910</td>\n      <td>cg2910</td>\n      <td>PRT.REG.0016628</td>\n      <td>[PRT.TBS.0068959, PRT.TBS.0068958, PRT.TBS.006...</td>\n      <td>[ACTGAATCAATAAAGA, ACCGCATCAATCAAGA, AATTGATCG...</td>\n      <td>ACTTGATCAATCAAGT</td>\n    </tr>\n    <tr>\n      <th>15518</th>\n      <td>3e53c16b8e5e4a2ab171e42c72965246</td>\n      <td>PRT.MOT.0015519</td>\n      <td>2022-08-07 20:29:00.999738+00:00</td>\n      <td>2022-08-07 20:29:00.999749+00:00</td>\n      <td>cg3202</td>\n      <td>cg3202</td>\n      <td>PRT.REG.0016630</td>\n      <td>[PRT.TBS.0068966]</td>\n      <td>[GCCAGGTTATATAACCAGTC]</td>\n      <td>GCCAGGTTATATAACCAGTC</td>\n    </tr>\n    <tr>\n      <th>15519</th>\n      <td>53c9c1d9bb5949878a2a5b0ea14e94f0</td>\n      <td>PRT.MOT.0015520</td>\n      <td>2022-08-07 20:29:01.011242+00:00</td>\n      <td>2022-08-07 20:29:01.011253+00:00</td>\n      <td>cg3285</td>\n      <td>cg3285</td>\n      <td>PRT.REG.0016632</td>\n      <td>[PRT.TBS.0069001]</td>\n      <td>[TGAAGATTTGATGAAGATTT]</td>\n      <td>TGAAGATTTGATGAAGATTT</td>\n    </tr>\n    <tr>\n      <th>15520</th>\n      <td>b059d53a7f36403380a1e266443f28b4</td>\n      <td>PRT.MOT.0015521</td>\n      <td>2022-08-07 20:29:01.021743+00:00</td>\n      <td>2022-08-07 20:29:01.021753+00:00</td>\n      <td>cg3315</td>\n      <td>cg3315</td>\n      <td>PRT.REG.0016633</td>\n      <td>[PRT.TBS.0069004, PRT.TBS.0069003, PRT.TBS.006...</td>\n      <td>[TTTCTGTCC, TTTCCGTTC, TTTCCGTAG, TTTTTGTTG, T...</td>\n      <td>TTTCTGTTC</td>\n    </tr>\n  </tbody>\n</table>\n<p>15521 rows × 10 columns</p>\n</div>"
     },
     "execution_count": 25,
     "metadata": {},
     "output_type": "execute_result"
    }
   ],
   "source": [
    "# motifs\n",
    "motifs = database_long_report({'motif': Motif})\n",
    "motifs"
   ],
   "metadata": {
    "collapsed": false,
    "pycharm": {
     "name": "#%%\n"
    }
   }
  },
  {
   "cell_type": "code",
   "execution_count": 30,
   "outputs": [
    {
     "data": {
      "text/plain": "-922"
     },
     "execution_count": 30,
     "metadata": {},
     "output_type": "execute_result"
    }
   ],
   "source": [
    "motifs.shape[0] - len(Regulator.nodes)"
   ],
   "metadata": {
    "collapsed": false,
    "pycharm": {
     "name": "#%%\n"
    }
   }
  },
  {
   "cell_type": "code",
   "execution_count": null,
   "outputs": [],
   "source": [],
   "metadata": {
    "collapsed": false,
    "pycharm": {
     "name": "#%%\n"
    }
   }
  }
 ],
 "metadata": {
  "kernelspec": {
   "display_name": "Python 3",
   "language": "python",
   "name": "python3"
  },
  "language_info": {
   "codemirror_mode": {
    "name": "ipython",
    "version": 2
   },
   "file_extension": ".py",
   "mimetype": "text/x-python",
   "name": "python",
   "nbconvert_exporter": "python",
   "pygments_lexer": "ipython2",
   "version": "2.7.6"
  }
 },
 "nbformat": 4,
 "nbformat_minor": 0
}