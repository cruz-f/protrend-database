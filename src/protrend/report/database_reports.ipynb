{
 "cells": [
  {
   "cell_type": "code",
   "execution_count": 1,
   "metadata": {
    "collapsed": true,
    "pycharm": {
     "name": "#%%\n"
    }
   },
   "outputs": [],
   "source": [
    "from protrend.utils import NeoDatabase, Settings\n",
    "from protrend.model import *\n",
    "from protrend.report.general import database_short_report, database_long_report"
   ]
  },
  {
   "cell_type": "code",
   "execution_count": 2,
   "outputs": [],
   "source": [
    "# connect to database\n",
    "\n",
    "neo_db = NeoDatabase(user_name=Settings.db_user_name, password=Settings.db_password,\n",
    "                     ip=Settings.db_ip, port=Settings.db_port)\n",
    "neo_db.connect()"
   ],
   "metadata": {
    "collapsed": false,
    "pycharm": {
     "name": "#%%\n"
    }
   }
  },
  {
   "cell_type": "code",
   "execution_count": 3,
   "outputs": [
    {
     "data": {
      "text/plain": "   effector  evidence    gene  motif  operon  organism  pathway  regulator  \\\n0       501       182  115986      0   24677       616      287      16752   \n1         7         7      21     10      12        16        7         22   \n2         3         5      10      4       5         8        3         11   \n\n   regulatory family  regulatory interaction  source   tfbs  \n0                203                  213137      10  82717  \n1                  9                      12      11     12  \n2                  3                       8      11      8  ",
      "text/html": "<div>\n<style scoped>\n    .dataframe tbody tr th:only-of-type {\n        vertical-align: middle;\n    }\n\n    .dataframe tbody tr th {\n        vertical-align: top;\n    }\n\n    .dataframe thead th {\n        text-align: right;\n    }\n</style>\n<table border=\"1\" class=\"dataframe\">\n  <thead>\n    <tr style=\"text-align: right;\">\n      <th></th>\n      <th>effector</th>\n      <th>evidence</th>\n      <th>gene</th>\n      <th>motif</th>\n      <th>operon</th>\n      <th>organism</th>\n      <th>pathway</th>\n      <th>regulator</th>\n      <th>regulatory family</th>\n      <th>regulatory interaction</th>\n      <th>source</th>\n      <th>tfbs</th>\n    </tr>\n  </thead>\n  <tbody>\n    <tr>\n      <th>0</th>\n      <td>501</td>\n      <td>182</td>\n      <td>115986</td>\n      <td>0</td>\n      <td>24677</td>\n      <td>616</td>\n      <td>287</td>\n      <td>16752</td>\n      <td>203</td>\n      <td>213137</td>\n      <td>10</td>\n      <td>82717</td>\n    </tr>\n    <tr>\n      <th>1</th>\n      <td>7</td>\n      <td>7</td>\n      <td>21</td>\n      <td>10</td>\n      <td>12</td>\n      <td>16</td>\n      <td>7</td>\n      <td>22</td>\n      <td>9</td>\n      <td>12</td>\n      <td>11</td>\n      <td>12</td>\n    </tr>\n    <tr>\n      <th>2</th>\n      <td>3</td>\n      <td>5</td>\n      <td>10</td>\n      <td>4</td>\n      <td>5</td>\n      <td>8</td>\n      <td>3</td>\n      <td>11</td>\n      <td>3</td>\n      <td>8</td>\n      <td>11</td>\n      <td>8</td>\n    </tr>\n  </tbody>\n</table>\n</div>"
     },
     "execution_count": 3,
     "metadata": {},
     "output_type": "execute_result"
    }
   ],
   "source": [
    "short_report = database_short_report()\n",
    "short_report"
   ],
   "metadata": {
    "collapsed": false,
    "pycharm": {
     "name": "#%%\n"
    }
   }
  },
  {
   "cell_type": "code",
   "execution_count": null,
   "outputs": [],
   "source": [
    "long_report = database_long_report()\n",
    "long_report"
   ],
   "metadata": {
    "collapsed": false,
    "pycharm": {
     "name": "#%%\n"
    }
   }
  },
  {
   "cell_type": "code",
   "execution_count": 4,
   "outputs": [
    {
     "data": {
      "text/plain": "                                           uid      protrend_id  \\\neffector 0    c4cbf239d5b04103a67e8f7c5c0346a8  PRT.EFC.0000309   \n         1    d62a0f82803a48fea0f362881379f7c1  PRT.EFC.0000310   \n         2    a869e12582fe4f6b8144a4c902e6c163  PRT.EFC.0000311   \n         3    9dd158f567a249d69af7421896321277  PRT.EFC.0000312   \n         4    72adf8dbff0249ef8e3e29c997052438  PRT.EFC.0000313   \n...                                        ...              ...   \n         496  ee9012f9fc9a4aeb9c396d6a1e27ac45  PRT.EFC.0000304   \n         497  b189fc0ef5004904a403f9dd7638a343  PRT.EFC.0000305   \n         498  5d508dfbed7642bf8af7602961a2dc2e  PRT.EFC.0000306   \n         499  462a37e395704098820e6134292f7e7a  PRT.EFC.0000307   \n         500  9a91b5f8fdda446d8d6f16e68edd870b  PRT.EFC.0000308   \n\n                                      created  \\\neffector 0   2022-08-14 02:41:28.151396+00:00   \n         1   2022-08-14 02:41:28.192899+00:00   \n         2   2022-08-14 02:41:28.205017+00:00   \n         3   2022-08-14 02:41:28.216662+00:00   \n         4   2022-08-14 02:41:28.228300+00:00   \n...                                       ...   \n         496 2022-08-13 00:47:27.948335+00:00   \n         497 2022-08-13 00:47:27.959240+00:00   \n         498 2022-08-13 00:47:27.970442+00:00   \n         499 2022-08-13 00:47:27.981486+00:00   \n         500 2022-08-13 00:47:27.996063+00:00   \n\n                                      updated                         name  \\\neffector 0   2022-08-14 02:41:28.151412+00:00  D-fructose-1,6-bisphosphate   \n         1   2022-08-14 02:41:28.192914+00:00          Glucose-6-Phosphate   \n         2   2022-08-14 02:41:28.205031+00:00                          GTP   \n         3   2022-08-14 02:41:28.216674+00:00                   isoleucine   \n         4   2022-08-14 02:41:28.228313+00:00                       valine   \n...                                       ...                          ...   \n         496 2022-08-13 00:47:27.948346+00:00   Branched-chain amino acids   \n         497 2022-08-13 00:47:27.959251+00:00                      Betaine   \n         498 2022-08-14 02:41:27.627941+00:00                   asparagine   \n         499 2022-08-14 02:41:27.658446+00:00                     arginine   \n         500 2022-08-13 00:47:27.996075+00:00             4-hydroxyproline   \n\n                              name_factor  \\\neffector 0    d-fructose-1,6-bisphosphate   \n         1            glucose-6-phosphate   \n         2                            gtp   \n         3                     isoleucine   \n         4                         valine   \n...                                   ...   \n         496   branched-chain amino acids   \n         497                      betaine   \n         498                   asparagine   \n         499                     arginine   \n         500             4-hydroxyproline   \n\n                                                 kegg_compounds  \neffector 0             [C00665, C05378, C21365, C21364, C00354]  \n         1    [C06369, C00663, C01172, C00103, C00092, C0066...  \n         2                             [C00044, C22234, C01806]  \n         3    [C16434, C18699, C20802, C20311, C00407, C2109...  \n         4    [C20313, C11747, C16436, C06417, C20965, C2031...  \n...                                                         ...  \n         496  [C00715, C00045, C03508, C05996, C00151, C0387...  \n         497  [C21514, C07345, C04114, C01181, C08263, C0071...  \n         498  [C04540, C03021, C01410, C01905, C04375, C0015...  \n         499  [C15528, C02424, C05206, C06655, C04137, C0341...  \n         500           [C19706, C20706, C05147, C01157, C20705]  \n\n[501 rows x 7 columns]",
      "text/html": "<div>\n<style scoped>\n    .dataframe tbody tr th:only-of-type {\n        vertical-align: middle;\n    }\n\n    .dataframe tbody tr th {\n        vertical-align: top;\n    }\n\n    .dataframe thead th {\n        text-align: right;\n    }\n</style>\n<table border=\"1\" class=\"dataframe\">\n  <thead>\n    <tr style=\"text-align: right;\">\n      <th></th>\n      <th></th>\n      <th>uid</th>\n      <th>protrend_id</th>\n      <th>created</th>\n      <th>updated</th>\n      <th>name</th>\n      <th>name_factor</th>\n      <th>kegg_compounds</th>\n    </tr>\n  </thead>\n  <tbody>\n    <tr>\n      <th rowspan=\"11\" valign=\"top\">effector</th>\n      <th>0</th>\n      <td>c4cbf239d5b04103a67e8f7c5c0346a8</td>\n      <td>PRT.EFC.0000309</td>\n      <td>2022-08-14 02:41:28.151396+00:00</td>\n      <td>2022-08-14 02:41:28.151412+00:00</td>\n      <td>D-fructose-1,6-bisphosphate</td>\n      <td>d-fructose-1,6-bisphosphate</td>\n      <td>[C00665, C05378, C21365, C21364, C00354]</td>\n    </tr>\n    <tr>\n      <th>1</th>\n      <td>d62a0f82803a48fea0f362881379f7c1</td>\n      <td>PRT.EFC.0000310</td>\n      <td>2022-08-14 02:41:28.192899+00:00</td>\n      <td>2022-08-14 02:41:28.192914+00:00</td>\n      <td>Glucose-6-Phosphate</td>\n      <td>glucose-6-phosphate</td>\n      <td>[C06369, C00663, C01172, C00103, C00092, C0066...</td>\n    </tr>\n    <tr>\n      <th>2</th>\n      <td>a869e12582fe4f6b8144a4c902e6c163</td>\n      <td>PRT.EFC.0000311</td>\n      <td>2022-08-14 02:41:28.205017+00:00</td>\n      <td>2022-08-14 02:41:28.205031+00:00</td>\n      <td>GTP</td>\n      <td>gtp</td>\n      <td>[C00044, C22234, C01806]</td>\n    </tr>\n    <tr>\n      <th>3</th>\n      <td>9dd158f567a249d69af7421896321277</td>\n      <td>PRT.EFC.0000312</td>\n      <td>2022-08-14 02:41:28.216662+00:00</td>\n      <td>2022-08-14 02:41:28.216674+00:00</td>\n      <td>isoleucine</td>\n      <td>isoleucine</td>\n      <td>[C16434, C18699, C20802, C20311, C00407, C2109...</td>\n    </tr>\n    <tr>\n      <th>4</th>\n      <td>72adf8dbff0249ef8e3e29c997052438</td>\n      <td>PRT.EFC.0000313</td>\n      <td>2022-08-14 02:41:28.228300+00:00</td>\n      <td>2022-08-14 02:41:28.228313+00:00</td>\n      <td>valine</td>\n      <td>valine</td>\n      <td>[C20313, C11747, C16436, C06417, C20965, C2031...</td>\n    </tr>\n    <tr>\n      <th>...</th>\n      <td>...</td>\n      <td>...</td>\n      <td>...</td>\n      <td>...</td>\n      <td>...</td>\n      <td>...</td>\n      <td>...</td>\n    </tr>\n    <tr>\n      <th>496</th>\n      <td>ee9012f9fc9a4aeb9c396d6a1e27ac45</td>\n      <td>PRT.EFC.0000304</td>\n      <td>2022-08-13 00:47:27.948335+00:00</td>\n      <td>2022-08-13 00:47:27.948346+00:00</td>\n      <td>Branched-chain amino acids</td>\n      <td>branched-chain amino acids</td>\n      <td>[C00715, C00045, C03508, C05996, C00151, C0387...</td>\n    </tr>\n    <tr>\n      <th>497</th>\n      <td>b189fc0ef5004904a403f9dd7638a343</td>\n      <td>PRT.EFC.0000305</td>\n      <td>2022-08-13 00:47:27.959240+00:00</td>\n      <td>2022-08-13 00:47:27.959251+00:00</td>\n      <td>Betaine</td>\n      <td>betaine</td>\n      <td>[C21514, C07345, C04114, C01181, C08263, C0071...</td>\n    </tr>\n    <tr>\n      <th>498</th>\n      <td>5d508dfbed7642bf8af7602961a2dc2e</td>\n      <td>PRT.EFC.0000306</td>\n      <td>2022-08-13 00:47:27.970442+00:00</td>\n      <td>2022-08-14 02:41:27.627941+00:00</td>\n      <td>asparagine</td>\n      <td>asparagine</td>\n      <td>[C04540, C03021, C01410, C01905, C04375, C0015...</td>\n    </tr>\n    <tr>\n      <th>499</th>\n      <td>462a37e395704098820e6134292f7e7a</td>\n      <td>PRT.EFC.0000307</td>\n      <td>2022-08-13 00:47:27.981486+00:00</td>\n      <td>2022-08-14 02:41:27.658446+00:00</td>\n      <td>arginine</td>\n      <td>arginine</td>\n      <td>[C15528, C02424, C05206, C06655, C04137, C0341...</td>\n    </tr>\n    <tr>\n      <th>500</th>\n      <td>9a91b5f8fdda446d8d6f16e68edd870b</td>\n      <td>PRT.EFC.0000308</td>\n      <td>2022-08-13 00:47:27.996063+00:00</td>\n      <td>2022-08-13 00:47:27.996075+00:00</td>\n      <td>4-hydroxyproline</td>\n      <td>4-hydroxyproline</td>\n      <td>[C19706, C20706, C05147, C01157, C20705]</td>\n    </tr>\n  </tbody>\n</table>\n<p>501 rows × 7 columns</p>\n</div>"
     },
     "execution_count": 4,
     "metadata": {},
     "output_type": "execute_result"
    }
   ],
   "source": [
    "# effectors\n",
    "effectors = database_long_report({'effector': Effector})\n",
    "effectors"
   ],
   "metadata": {
    "collapsed": false,
    "pycharm": {
     "name": "#%%\n"
    }
   }
  },
  {
   "cell_type": "code",
   "execution_count": 5,
   "outputs": [
    {
     "data": {
      "text/plain": "'C00665'"
     },
     "execution_count": 5,
     "metadata": {},
     "output_type": "execute_result"
    }
   ],
   "source": [
    "effectors.kegg_compounds[0][0]"
   ],
   "metadata": {
    "collapsed": false,
    "pycharm": {
     "name": "#%%\n"
    }
   }
  },
  {
   "cell_type": "code",
   "execution_count": 6,
   "outputs": [
    {
     "data": {
      "text/plain": "True"
     },
     "execution_count": 6,
     "metadata": {},
     "output_type": "execute_result"
    }
   ],
   "source": [
    "effectors.kegg_compounds.isnull().any()"
   ],
   "metadata": {
    "collapsed": false,
    "pycharm": {
     "name": "#%%\n"
    }
   }
  },
  {
   "cell_type": "code",
   "execution_count": 7,
   "outputs": [
    {
     "data": {
      "text/plain": "                                           uid      protrend_id  \\\nevidence 0    cfce946ba38946448e6148f00479f4dc  PRT.EVI.0000001   \n         1    e8f31d77b9374bdfb5f673cd68276640  PRT.EVI.0000002   \n         2    812c0b4411484eae87fc7212f84acace  PRT.EVI.0000003   \n         3    91bfa1e2400e4d7abb5d74a51858d482  PRT.EVI.0000004   \n         4    f660bcbbbdd2449a844daee75619cfa0  PRT.EVI.0000005   \n...                                        ...              ...   \n         177  5652ec5861a94e07b85ca836d8394275  PRT.EVI.0000178   \n         178  5b495774c548453b942ddd8168ca3d7e  PRT.EVI.0000179   \n         179  2c51e888cea14a2daa8fe96796911915  PRT.EVI.0000180   \n         180  328820e4ad294973a6ade2fb67fc1cd4  PRT.EVI.0000181   \n         181  cd5c6389de3c4b938d987002674d7852  PRT.EVI.0000182   \n\n                                      created  \\\nevidence 0   2022-08-12 22:35:07.740838+00:00   \n         1   2022-08-12 22:35:08.126152+00:00   \n         2   2022-08-12 22:35:08.173784+00:00   \n         3   2022-08-12 22:35:08.216918+00:00   \n         4   2022-08-12 22:35:08.260037+00:00   \n...                                       ...   \n         177 2022-08-14 06:30:00.979015+00:00   \n         178 2022-08-14 06:30:01.006146+00:00   \n         179 2022-08-14 06:30:01.018512+00:00   \n         180 2022-08-14 06:30:01.048047+00:00   \n         181 2022-08-14 06:30:01.059492+00:00   \n\n                                      updated  \\\nevidence 0   2022-08-12 22:35:07.740852+00:00   \n         1   2022-08-12 22:35:08.126168+00:00   \n         2   2022-08-12 22:35:08.173798+00:00   \n         3   2022-08-12 22:35:08.216932+00:00   \n         4   2022-08-12 22:35:08.260051+00:00   \n...                                       ...   \n         177 2022-08-14 06:30:00.979027+00:00   \n         178 2022-08-14 06:30:01.006157+00:00   \n         179 2022-08-14 06:30:01.018523+00:00   \n         180 2022-08-14 06:30:01.048058+00:00   \n         181 2022-08-14 06:30:01.059503+00:00   \n\n                                                           name  \\\nevidence 0                                                 EMSA   \n         1                            Site directed mutagenesis   \n         2                           Visual sequence inspection   \n         3                               In-vitro transcription   \n         4                                        qRT-PCR [RNA]   \n...                                                         ...   \n         177         ChIP-exo evidence used in manual assertion   \n         178                                 ChIP-chip evidence   \n         179        ChIP-chip evidence used in manual assertion   \n         180                      Nucleic acid binding evidence   \n         181  Human inference of function based on ortholog ...   \n\n                                                    name_factor  \\\nevidence 0                                                 emsa   \n         1                            site directed mutagenesis   \n         2                           visual sequence inspection   \n         3                               in-vitro transcription   \n         4                                        qrt-pcr [rna]   \n...                                                         ...   \n         177         chip-exo evidence used in manual assertion   \n         178                                 chip-chip evidence   \n         179        chip-chip evidence used in manual assertion   \n         180                      nucleic acid binding evidence   \n         181  human inference of function based on ortholog ...   \n\n                                                    description  \nevidence 0                                                 None  \n         1                                                 None  \n         2                                                 None  \n         3                                                 None  \n         4                                                 None  \n...                                                         ...  \n         177  A type of chromatin immunoprecipation-exonucle...  \n         178  A type of chromatin immunoprecipation evidence...  \n         179  A type of chromatin immunoprecipation-chip evi...  \n         180  A type of affinity evidence resulting from the...  \n         181                                               None  \n\n[182 rows x 7 columns]",
      "text/html": "<div>\n<style scoped>\n    .dataframe tbody tr th:only-of-type {\n        vertical-align: middle;\n    }\n\n    .dataframe tbody tr th {\n        vertical-align: top;\n    }\n\n    .dataframe thead th {\n        text-align: right;\n    }\n</style>\n<table border=\"1\" class=\"dataframe\">\n  <thead>\n    <tr style=\"text-align: right;\">\n      <th></th>\n      <th></th>\n      <th>uid</th>\n      <th>protrend_id</th>\n      <th>created</th>\n      <th>updated</th>\n      <th>name</th>\n      <th>name_factor</th>\n      <th>description</th>\n    </tr>\n  </thead>\n  <tbody>\n    <tr>\n      <th rowspan=\"11\" valign=\"top\">evidence</th>\n      <th>0</th>\n      <td>cfce946ba38946448e6148f00479f4dc</td>\n      <td>PRT.EVI.0000001</td>\n      <td>2022-08-12 22:35:07.740838+00:00</td>\n      <td>2022-08-12 22:35:07.740852+00:00</td>\n      <td>EMSA</td>\n      <td>emsa</td>\n      <td>None</td>\n    </tr>\n    <tr>\n      <th>1</th>\n      <td>e8f31d77b9374bdfb5f673cd68276640</td>\n      <td>PRT.EVI.0000002</td>\n      <td>2022-08-12 22:35:08.126152+00:00</td>\n      <td>2022-08-12 22:35:08.126168+00:00</td>\n      <td>Site directed mutagenesis</td>\n      <td>site directed mutagenesis</td>\n      <td>None</td>\n    </tr>\n    <tr>\n      <th>2</th>\n      <td>812c0b4411484eae87fc7212f84acace</td>\n      <td>PRT.EVI.0000003</td>\n      <td>2022-08-12 22:35:08.173784+00:00</td>\n      <td>2022-08-12 22:35:08.173798+00:00</td>\n      <td>Visual sequence inspection</td>\n      <td>visual sequence inspection</td>\n      <td>None</td>\n    </tr>\n    <tr>\n      <th>3</th>\n      <td>91bfa1e2400e4d7abb5d74a51858d482</td>\n      <td>PRT.EVI.0000004</td>\n      <td>2022-08-12 22:35:08.216918+00:00</td>\n      <td>2022-08-12 22:35:08.216932+00:00</td>\n      <td>In-vitro transcription</td>\n      <td>in-vitro transcription</td>\n      <td>None</td>\n    </tr>\n    <tr>\n      <th>4</th>\n      <td>f660bcbbbdd2449a844daee75619cfa0</td>\n      <td>PRT.EVI.0000005</td>\n      <td>2022-08-12 22:35:08.260037+00:00</td>\n      <td>2022-08-12 22:35:08.260051+00:00</td>\n      <td>qRT-PCR [RNA]</td>\n      <td>qrt-pcr [rna]</td>\n      <td>None</td>\n    </tr>\n    <tr>\n      <th>...</th>\n      <td>...</td>\n      <td>...</td>\n      <td>...</td>\n      <td>...</td>\n      <td>...</td>\n      <td>...</td>\n      <td>...</td>\n    </tr>\n    <tr>\n      <th>177</th>\n      <td>5652ec5861a94e07b85ca836d8394275</td>\n      <td>PRT.EVI.0000178</td>\n      <td>2022-08-14 06:30:00.979015+00:00</td>\n      <td>2022-08-14 06:30:00.979027+00:00</td>\n      <td>ChIP-exo evidence used in manual assertion</td>\n      <td>chip-exo evidence used in manual assertion</td>\n      <td>A type of chromatin immunoprecipation-exonucle...</td>\n    </tr>\n    <tr>\n      <th>178</th>\n      <td>5b495774c548453b942ddd8168ca3d7e</td>\n      <td>PRT.EVI.0000179</td>\n      <td>2022-08-14 06:30:01.006146+00:00</td>\n      <td>2022-08-14 06:30:01.006157+00:00</td>\n      <td>ChIP-chip evidence</td>\n      <td>chip-chip evidence</td>\n      <td>A type of chromatin immunoprecipation evidence...</td>\n    </tr>\n    <tr>\n      <th>179</th>\n      <td>2c51e888cea14a2daa8fe96796911915</td>\n      <td>PRT.EVI.0000180</td>\n      <td>2022-08-14 06:30:01.018512+00:00</td>\n      <td>2022-08-14 06:30:01.018523+00:00</td>\n      <td>ChIP-chip evidence used in manual assertion</td>\n      <td>chip-chip evidence used in manual assertion</td>\n      <td>A type of chromatin immunoprecipation-chip evi...</td>\n    </tr>\n    <tr>\n      <th>180</th>\n      <td>328820e4ad294973a6ade2fb67fc1cd4</td>\n      <td>PRT.EVI.0000181</td>\n      <td>2022-08-14 06:30:01.048047+00:00</td>\n      <td>2022-08-14 06:30:01.048058+00:00</td>\n      <td>Nucleic acid binding evidence</td>\n      <td>nucleic acid binding evidence</td>\n      <td>A type of affinity evidence resulting from the...</td>\n    </tr>\n    <tr>\n      <th>181</th>\n      <td>cd5c6389de3c4b938d987002674d7852</td>\n      <td>PRT.EVI.0000182</td>\n      <td>2022-08-14 06:30:01.059492+00:00</td>\n      <td>2022-08-14 06:30:01.059503+00:00</td>\n      <td>Human inference of function based on ortholog ...</td>\n      <td>human inference of function based on ortholog ...</td>\n      <td>None</td>\n    </tr>\n  </tbody>\n</table>\n<p>182 rows × 7 columns</p>\n</div>"
     },
     "execution_count": 7,
     "metadata": {},
     "output_type": "execute_result"
    }
   ],
   "source": [
    "# evidences\n",
    "evidences = database_long_report({'evidence': Evidence})\n",
    "evidences"
   ],
   "metadata": {
    "collapsed": false,
    "pycharm": {
     "name": "#%%\n"
    }
   }
  },
  {
   "cell_type": "code",
   "execution_count": 8,
   "outputs": [
    {
     "data": {
      "text/plain": "                                          uid      protrend_id  \\\ngene 0       687f6abb858e4de3b41f385ddda30216  PRT.GEN.0055936   \n     1       03d0bd76d88b4761a335a92e458e3060  PRT.GEN.0055937   \n     2       bf2278a1ecb845f6a36b38854f82de5d  PRT.GEN.0055938   \n     3       e1c98e8782e14a5e9380d1b91b55afba  PRT.GEN.0055939   \n     4       3eab227ad7dc41288fe0590525ab48d4  PRT.GEN.0055940   \n...                                       ...              ...   \n     115981  3ced93bfb9354ae4b0d5566e71bbf41f  PRT.GEN.0055931   \n     115982  c0888b1c245b45068c57b214297e4a3b  PRT.GEN.0055932   \n     115983  59297924990f40afa6cbe24330144d76  PRT.GEN.0055933   \n     115984  ab2c29fef88e4eba9365f1e8d8a30c79  PRT.GEN.0055934   \n     115985  311c12d9e3af4d1c990cb07f150e725f  PRT.GEN.0055935   \n\n                                     created                          updated  \\\ngene 0      2022-08-13 01:20:32.785813+00:00 2022-08-13 01:20:32.785827+00:00   \n     1      2022-08-13 01:20:32.812395+00:00 2022-08-13 01:20:32.812408+00:00   \n     2      2022-08-13 01:20:32.852311+00:00 2022-08-13 01:20:32.852322+00:00   \n     3      2022-08-13 01:20:32.865993+00:00 2022-08-13 01:20:32.866004+00:00   \n     4      2022-08-13 01:20:32.886625+00:00 2022-08-13 01:20:32.886636+00:00   \n...                                      ...                              ...   \n     115981 2022-08-13 01:20:32.650080+00:00 2022-08-13 01:20:32.650094+00:00   \n     115982 2022-08-13 01:20:32.669565+00:00 2022-08-13 01:20:32.669577+00:00   \n     115983 2022-08-13 01:20:32.703764+00:00 2022-08-13 01:20:32.703776+00:00   \n     115984 2022-08-13 01:20:32.738133+00:00 2022-08-13 01:20:32.738148+00:00   \n     115985 2022-08-13 01:20:32.771306+00:00 2022-08-13 01:20:32.771322+00:00   \n\n             locus_tag locus_tag_factor uniprot_accession  \\\ngene 0       Asuc_0255        asuc_0255            A6VKY7   \n     1       Asuc_0256        asuc_0256            A6VKY8   \n     2       Asuc_0260        asuc_0260            A6VKZ2   \n     3       Asuc_0261        asuc_0261            A6VKZ3   \n     4       Asuc_0286        asuc_0286            A6VL17   \n...                ...              ...               ...   \n     115981  Asuc_0198        asuc_0198            A6VKT1   \n     115982  Asuc_0199        asuc_0199            A6VKT2   \n     115983  Asuc_0221        asuc_0221            A6VKV4   \n     115984  Asuc_0253        asuc_0253            A6VKY5   \n     115985  Asuc_0254        asuc_0254            A6VKY6   \n\n            uniprot_accession_factor       name           synonyms  ...  \\\ngene 0                        a6vky7  Asuc_0255  [asuc_0255, argc]  ...   \n     1                        a6vky8  Asuc_0256  [asuc_0256, arge]  ...   \n     2                        a6vkz2  Asuc_0260  [asuc_0260, recx]  ...   \n     3                        a6vkz3  Asuc_0261  [asuc_0261, reca]  ...   \n     4                        a6vl17  Asuc_0286  [asuc_0286, manx]  ...   \n...                              ...        ...                ...  ...   \n     115981                   a6vkt1  Asuc_0198  [asuc_0198, rbsk]  ...   \n     115982                   a6vkt2  Asuc_0199  [asuc_0199, rbsr]  ...   \n     115983                   a6vkv4  Asuc_0221  [asuc_0221, pcka]  ...   \n     115984                   a6vky5  Asuc_0253  [asuc_0253, argh]  ...   \n     115985                   a6vky6  Asuc_0254  [asuc_0254, argb]  ...   \n\n                                                   description  ncbi_gene  \\\ngene 0       Catalyzes the NADPH-dependent reduction of N-a...  5349301.0   \n     1                                                    None  5347990.0   \n     2                                Modulates RecA activity.  5349226.0   \n     3       Can catalyze the hydrolysis of ATP in the pres...  5349227.0   \n     4       The phosphoenolpyruvate-dependent sugar phosph...  5349197.0   \n...                                                        ...        ...   \n     115981  Catalyzes the phosphorylation of ribose at O-5...  5347625.0   \n     115982                                               None  5347626.0   \n     115983  Involved in gluconeogenesis. Catalyzes the con...  5349670.0   \n     115984                                               None  5348185.0   \n     115985  Catalyzes the ATP-dependent phosphorylation of...  5349300.0   \n\n             ncbi_protein  genbank_accession refseq_accession  \\\ngene 0        150839663.0         ABR73634.1   WP_011978910.1   \n     1        150839664.0         ABR73635.1   WP_011978911.1   \n     2        150839668.0         ABR73639.1   WP_011978915.1   \n     3        150839669.0         ABR73640.1   WP_011978916.1   \n     4        150839693.0         ABR73664.1   WP_011978939.1   \n...                   ...                ...              ...   \n     115981   150839607.0         ABR73578.1   WP_011978854.1   \n     115982   150839608.0         ABR73579.1   WP_011978855.1   \n     115983   171472924.0         ABR73601.1   WP_011978877.1   \n     115984   171472927.0         ABR73632.1   WP_011978908.1   \n     115985   171472928.0         ABR73633.1   WP_011978909.1   \n\n                                              protein_sequence   strand  \\\ngene 0       MAQKAIVVGASGYTGAELAKILTRHPEFELAGLYVSTHSADANKPI...  reverse   \n     1       MKSHPQFLDMYSQLIAIPTVSDIDKNNDISNRTLIELLANWLADLG...  forward   \n     2       MDTESRPSNLQLALGYVVNLLARREYSEYEIRCKMQEKAFDEEDIE...  reverse   \n     3       MATPNDKTKPSAEEKSKALAAALGQIEKQFGKGAIMKLGDRPDMDV...  reverse   \n     4       MTHLIVATHGKFSEEIVNSAAMVFGEDENTHVVTFLPGEGGDDLVA...  forward   \n...                                                        ...      ...   \n     115981  MKKLTVLGSINADHVISVPYFAKPGETLTGSHYHIAYGGKGANQAV...  forward   \n     115982  MATMKDIAKRAQVSTSTVSHVINNTRYVSDEIREKILAIVNELNYQ...  forward   \n     115983  MTDLNKLVKELNDLGLTDVKEIVYNPSYEQLFEEETKPGLEGFDKG...  reverse   \n     115984  MALWGGRFTQAADKRFKDFNDSLRFDYRLAEQDIEGSIGWSKALVS...  reverse   \n     115985  MRPLVIKLGGILLDTPAAMENLFNALAKYLQNSDRSLLIVHGGGCV...  reverse   \n\n                start      stop  \\\ngene 0       287266.0  288277.0   \n     1       288379.0  289522.0   \n     2       293720.0  294200.0   \n     3       294357.0  295461.0   \n     4       327456.0  328428.0   \n...               ...       ...   \n     115981  234003.0  234936.0   \n     115982  234971.0  235979.0   \n     115983  257033.0  258650.0   \n     115984  284948.0  286331.0   \n     115985  286413.0  287187.0   \n\n                                                 gene_sequence  \ngene 0       ATGGCACAAAAAGCAATCGTTGTCGGGGCAAGCGGTTATACCGGCG...  \n     1       ATGAAATCGCATCCTCAATTTCTCGATATGTACTCGCAGTTGATCG...  \n     2       ATGGATACAGAAAGTCGCCCATCCAATCTCCAACTCGCTCTCGGTT...  \n     3       ATGGCAACTCCGAACGATAAAACCAAACCTAGCGCGGAAGAAAAAT...  \n     4       ATGACTCATCTTATCGTTGCGACACACGGTAAATTTTCAGAAGAAA...  \n...                                                        ...  \n     115981  ATGAAAAAACTGACGGTTTTAGGCAGTATTAATGCGGATCATGTAA...  \n     115982  ATGGCCACAATGAAGGATATCGCCAAACGCGCACAGGTTTCCACTT...  \n     115983  ATGACTGACTTAAACAAACTCGTTAAAGAACTTAATGACTTAGGGC...  \n     115984  ATGGCTCTATGGGGCGGTCGCTTTACACAGGCAGCCGATAAGCGGT...  \n     115985  ATGAGACCATTAGTGATTAAATTGGGCGGCATCTTACTGGATACGC...  \n\n[115986 rows x 21 columns]",
      "text/html": "<div>\n<style scoped>\n    .dataframe tbody tr th:only-of-type {\n        vertical-align: middle;\n    }\n\n    .dataframe tbody tr th {\n        vertical-align: top;\n    }\n\n    .dataframe thead th {\n        text-align: right;\n    }\n</style>\n<table border=\"1\" class=\"dataframe\">\n  <thead>\n    <tr style=\"text-align: right;\">\n      <th></th>\n      <th></th>\n      <th>uid</th>\n      <th>protrend_id</th>\n      <th>created</th>\n      <th>updated</th>\n      <th>locus_tag</th>\n      <th>locus_tag_factor</th>\n      <th>uniprot_accession</th>\n      <th>uniprot_accession_factor</th>\n      <th>name</th>\n      <th>synonyms</th>\n      <th>...</th>\n      <th>description</th>\n      <th>ncbi_gene</th>\n      <th>ncbi_protein</th>\n      <th>genbank_accession</th>\n      <th>refseq_accession</th>\n      <th>protein_sequence</th>\n      <th>strand</th>\n      <th>start</th>\n      <th>stop</th>\n      <th>gene_sequence</th>\n    </tr>\n  </thead>\n  <tbody>\n    <tr>\n      <th rowspan=\"11\" valign=\"top\">gene</th>\n      <th>0</th>\n      <td>687f6abb858e4de3b41f385ddda30216</td>\n      <td>PRT.GEN.0055936</td>\n      <td>2022-08-13 01:20:32.785813+00:00</td>\n      <td>2022-08-13 01:20:32.785827+00:00</td>\n      <td>Asuc_0255</td>\n      <td>asuc_0255</td>\n      <td>A6VKY7</td>\n      <td>a6vky7</td>\n      <td>Asuc_0255</td>\n      <td>[asuc_0255, argc]</td>\n      <td>...</td>\n      <td>Catalyzes the NADPH-dependent reduction of N-a...</td>\n      <td>5349301.0</td>\n      <td>150839663.0</td>\n      <td>ABR73634.1</td>\n      <td>WP_011978910.1</td>\n      <td>MAQKAIVVGASGYTGAELAKILTRHPEFELAGLYVSTHSADANKPI...</td>\n      <td>reverse</td>\n      <td>287266.0</td>\n      <td>288277.0</td>\n      <td>ATGGCACAAAAAGCAATCGTTGTCGGGGCAAGCGGTTATACCGGCG...</td>\n    </tr>\n    <tr>\n      <th>1</th>\n      <td>03d0bd76d88b4761a335a92e458e3060</td>\n      <td>PRT.GEN.0055937</td>\n      <td>2022-08-13 01:20:32.812395+00:00</td>\n      <td>2022-08-13 01:20:32.812408+00:00</td>\n      <td>Asuc_0256</td>\n      <td>asuc_0256</td>\n      <td>A6VKY8</td>\n      <td>a6vky8</td>\n      <td>Asuc_0256</td>\n      <td>[asuc_0256, arge]</td>\n      <td>...</td>\n      <td>None</td>\n      <td>5347990.0</td>\n      <td>150839664.0</td>\n      <td>ABR73635.1</td>\n      <td>WP_011978911.1</td>\n      <td>MKSHPQFLDMYSQLIAIPTVSDIDKNNDISNRTLIELLANWLADLG...</td>\n      <td>forward</td>\n      <td>288379.0</td>\n      <td>289522.0</td>\n      <td>ATGAAATCGCATCCTCAATTTCTCGATATGTACTCGCAGTTGATCG...</td>\n    </tr>\n    <tr>\n      <th>2</th>\n      <td>bf2278a1ecb845f6a36b38854f82de5d</td>\n      <td>PRT.GEN.0055938</td>\n      <td>2022-08-13 01:20:32.852311+00:00</td>\n      <td>2022-08-13 01:20:32.852322+00:00</td>\n      <td>Asuc_0260</td>\n      <td>asuc_0260</td>\n      <td>A6VKZ2</td>\n      <td>a6vkz2</td>\n      <td>Asuc_0260</td>\n      <td>[asuc_0260, recx]</td>\n      <td>...</td>\n      <td>Modulates RecA activity.</td>\n      <td>5349226.0</td>\n      <td>150839668.0</td>\n      <td>ABR73639.1</td>\n      <td>WP_011978915.1</td>\n      <td>MDTESRPSNLQLALGYVVNLLARREYSEYEIRCKMQEKAFDEEDIE...</td>\n      <td>reverse</td>\n      <td>293720.0</td>\n      <td>294200.0</td>\n      <td>ATGGATACAGAAAGTCGCCCATCCAATCTCCAACTCGCTCTCGGTT...</td>\n    </tr>\n    <tr>\n      <th>3</th>\n      <td>e1c98e8782e14a5e9380d1b91b55afba</td>\n      <td>PRT.GEN.0055939</td>\n      <td>2022-08-13 01:20:32.865993+00:00</td>\n      <td>2022-08-13 01:20:32.866004+00:00</td>\n      <td>Asuc_0261</td>\n      <td>asuc_0261</td>\n      <td>A6VKZ3</td>\n      <td>a6vkz3</td>\n      <td>Asuc_0261</td>\n      <td>[asuc_0261, reca]</td>\n      <td>...</td>\n      <td>Can catalyze the hydrolysis of ATP in the pres...</td>\n      <td>5349227.0</td>\n      <td>150839669.0</td>\n      <td>ABR73640.1</td>\n      <td>WP_011978916.1</td>\n      <td>MATPNDKTKPSAEEKSKALAAALGQIEKQFGKGAIMKLGDRPDMDV...</td>\n      <td>reverse</td>\n      <td>294357.0</td>\n      <td>295461.0</td>\n      <td>ATGGCAACTCCGAACGATAAAACCAAACCTAGCGCGGAAGAAAAAT...</td>\n    </tr>\n    <tr>\n      <th>4</th>\n      <td>3eab227ad7dc41288fe0590525ab48d4</td>\n      <td>PRT.GEN.0055940</td>\n      <td>2022-08-13 01:20:32.886625+00:00</td>\n      <td>2022-08-13 01:20:32.886636+00:00</td>\n      <td>Asuc_0286</td>\n      <td>asuc_0286</td>\n      <td>A6VL17</td>\n      <td>a6vl17</td>\n      <td>Asuc_0286</td>\n      <td>[asuc_0286, manx]</td>\n      <td>...</td>\n      <td>The phosphoenolpyruvate-dependent sugar phosph...</td>\n      <td>5349197.0</td>\n      <td>150839693.0</td>\n      <td>ABR73664.1</td>\n      <td>WP_011978939.1</td>\n      <td>MTHLIVATHGKFSEEIVNSAAMVFGEDENTHVVTFLPGEGGDDLVA...</td>\n      <td>forward</td>\n      <td>327456.0</td>\n      <td>328428.0</td>\n      <td>ATGACTCATCTTATCGTTGCGACACACGGTAAATTTTCAGAAGAAA...</td>\n    </tr>\n    <tr>\n      <th>...</th>\n      <td>...</td>\n      <td>...</td>\n      <td>...</td>\n      <td>...</td>\n      <td>...</td>\n      <td>...</td>\n      <td>...</td>\n      <td>...</td>\n      <td>...</td>\n      <td>...</td>\n      <td>...</td>\n      <td>...</td>\n      <td>...</td>\n      <td>...</td>\n      <td>...</td>\n      <td>...</td>\n      <td>...</td>\n      <td>...</td>\n      <td>...</td>\n      <td>...</td>\n      <td>...</td>\n    </tr>\n    <tr>\n      <th>115981</th>\n      <td>3ced93bfb9354ae4b0d5566e71bbf41f</td>\n      <td>PRT.GEN.0055931</td>\n      <td>2022-08-13 01:20:32.650080+00:00</td>\n      <td>2022-08-13 01:20:32.650094+00:00</td>\n      <td>Asuc_0198</td>\n      <td>asuc_0198</td>\n      <td>A6VKT1</td>\n      <td>a6vkt1</td>\n      <td>Asuc_0198</td>\n      <td>[asuc_0198, rbsk]</td>\n      <td>...</td>\n      <td>Catalyzes the phosphorylation of ribose at O-5...</td>\n      <td>5347625.0</td>\n      <td>150839607.0</td>\n      <td>ABR73578.1</td>\n      <td>WP_011978854.1</td>\n      <td>MKKLTVLGSINADHVISVPYFAKPGETLTGSHYHIAYGGKGANQAV...</td>\n      <td>forward</td>\n      <td>234003.0</td>\n      <td>234936.0</td>\n      <td>ATGAAAAAACTGACGGTTTTAGGCAGTATTAATGCGGATCATGTAA...</td>\n    </tr>\n    <tr>\n      <th>115982</th>\n      <td>c0888b1c245b45068c57b214297e4a3b</td>\n      <td>PRT.GEN.0055932</td>\n      <td>2022-08-13 01:20:32.669565+00:00</td>\n      <td>2022-08-13 01:20:32.669577+00:00</td>\n      <td>Asuc_0199</td>\n      <td>asuc_0199</td>\n      <td>A6VKT2</td>\n      <td>a6vkt2</td>\n      <td>Asuc_0199</td>\n      <td>[asuc_0199, rbsr]</td>\n      <td>...</td>\n      <td>None</td>\n      <td>5347626.0</td>\n      <td>150839608.0</td>\n      <td>ABR73579.1</td>\n      <td>WP_011978855.1</td>\n      <td>MATMKDIAKRAQVSTSTVSHVINNTRYVSDEIREKILAIVNELNYQ...</td>\n      <td>forward</td>\n      <td>234971.0</td>\n      <td>235979.0</td>\n      <td>ATGGCCACAATGAAGGATATCGCCAAACGCGCACAGGTTTCCACTT...</td>\n    </tr>\n    <tr>\n      <th>115983</th>\n      <td>59297924990f40afa6cbe24330144d76</td>\n      <td>PRT.GEN.0055933</td>\n      <td>2022-08-13 01:20:32.703764+00:00</td>\n      <td>2022-08-13 01:20:32.703776+00:00</td>\n      <td>Asuc_0221</td>\n      <td>asuc_0221</td>\n      <td>A6VKV4</td>\n      <td>a6vkv4</td>\n      <td>Asuc_0221</td>\n      <td>[asuc_0221, pcka]</td>\n      <td>...</td>\n      <td>Involved in gluconeogenesis. Catalyzes the con...</td>\n      <td>5349670.0</td>\n      <td>171472924.0</td>\n      <td>ABR73601.1</td>\n      <td>WP_011978877.1</td>\n      <td>MTDLNKLVKELNDLGLTDVKEIVYNPSYEQLFEEETKPGLEGFDKG...</td>\n      <td>reverse</td>\n      <td>257033.0</td>\n      <td>258650.0</td>\n      <td>ATGACTGACTTAAACAAACTCGTTAAAGAACTTAATGACTTAGGGC...</td>\n    </tr>\n    <tr>\n      <th>115984</th>\n      <td>ab2c29fef88e4eba9365f1e8d8a30c79</td>\n      <td>PRT.GEN.0055934</td>\n      <td>2022-08-13 01:20:32.738133+00:00</td>\n      <td>2022-08-13 01:20:32.738148+00:00</td>\n      <td>Asuc_0253</td>\n      <td>asuc_0253</td>\n      <td>A6VKY5</td>\n      <td>a6vky5</td>\n      <td>Asuc_0253</td>\n      <td>[asuc_0253, argh]</td>\n      <td>...</td>\n      <td>None</td>\n      <td>5348185.0</td>\n      <td>171472927.0</td>\n      <td>ABR73632.1</td>\n      <td>WP_011978908.1</td>\n      <td>MALWGGRFTQAADKRFKDFNDSLRFDYRLAEQDIEGSIGWSKALVS...</td>\n      <td>reverse</td>\n      <td>284948.0</td>\n      <td>286331.0</td>\n      <td>ATGGCTCTATGGGGCGGTCGCTTTACACAGGCAGCCGATAAGCGGT...</td>\n    </tr>\n    <tr>\n      <th>115985</th>\n      <td>311c12d9e3af4d1c990cb07f150e725f</td>\n      <td>PRT.GEN.0055935</td>\n      <td>2022-08-13 01:20:32.771306+00:00</td>\n      <td>2022-08-13 01:20:32.771322+00:00</td>\n      <td>Asuc_0254</td>\n      <td>asuc_0254</td>\n      <td>A6VKY6</td>\n      <td>a6vky6</td>\n      <td>Asuc_0254</td>\n      <td>[asuc_0254, argb]</td>\n      <td>...</td>\n      <td>Catalyzes the ATP-dependent phosphorylation of...</td>\n      <td>5349300.0</td>\n      <td>171472928.0</td>\n      <td>ABR73633.1</td>\n      <td>WP_011978909.1</td>\n      <td>MRPLVIKLGGILLDTPAAMENLFNALAKYLQNSDRSLLIVHGGGCV...</td>\n      <td>reverse</td>\n      <td>286413.0</td>\n      <td>287187.0</td>\n      <td>ATGAGACCATTAGTGATTAAATTGGGCGGCATCTTACTGGATACGC...</td>\n    </tr>\n  </tbody>\n</table>\n<p>115986 rows × 21 columns</p>\n</div>"
     },
     "execution_count": 8,
     "metadata": {},
     "output_type": "execute_result"
    }
   ],
   "source": [
    "# genes\n",
    "genes = database_long_report({'gene': Gene})\n",
    "genes"
   ],
   "metadata": {
    "collapsed": false,
    "pycharm": {
     "name": "#%%\n"
    }
   }
  },
  {
   "cell_type": "code",
   "execution_count": 9,
   "outputs": [
    {
     "data": {
      "text/plain": "10.587484696428879"
     },
     "execution_count": 9,
     "metadata": {},
     "output_type": "execute_result"
    }
   ],
   "source": [
    "genes.uniprot_accession.isnull().sum()/genes.shape[0]*100"
   ],
   "metadata": {
    "collapsed": false,
    "pycharm": {
     "name": "#%%\n"
    }
   }
  },
  {
   "cell_type": "code",
   "execution_count": 10,
   "outputs": [
    {
     "data": {
      "text/plain": "0.0"
     },
     "execution_count": 10,
     "metadata": {},
     "output_type": "execute_result"
    }
   ],
   "source": [
    "genes.name.isnull().sum()/genes.shape[0]*100"
   ],
   "metadata": {
    "collapsed": false,
    "pycharm": {
     "name": "#%%\n"
    }
   }
  },
  {
   "cell_type": "code",
   "execution_count": 11,
   "outputs": [
    {
     "data": {
      "text/plain": "46.0615936406118"
     },
     "execution_count": 11,
     "metadata": {},
     "output_type": "execute_result"
    }
   ],
   "source": [
    "genes.function.isnull().sum()/genes.shape[0]*100"
   ],
   "metadata": {
    "collapsed": false,
    "pycharm": {
     "name": "#%%\n"
    }
   }
  },
  {
   "cell_type": "code",
   "execution_count": 12,
   "outputs": [
    {
     "data": {
      "text/plain": "71.91643819081614"
     },
     "execution_count": 12,
     "metadata": {},
     "output_type": "execute_result"
    }
   ],
   "source": [
    "genes.description.isnull().sum()/genes.shape[0]*100"
   ],
   "metadata": {
    "collapsed": false,
    "pycharm": {
     "name": "#%%\n"
    }
   }
  },
  {
   "cell_type": "code",
   "execution_count": 13,
   "outputs": [
    {
     "data": {
      "text/plain": "3.1986619074715916"
     },
     "execution_count": 13,
     "metadata": {},
     "output_type": "execute_result"
    }
   ],
   "source": [
    "genes.ncbi_protein.isnull().sum()/genes.shape[0]*100"
   ],
   "metadata": {
    "collapsed": false,
    "pycharm": {
     "name": "#%%\n"
    }
   }
  },
  {
   "cell_type": "code",
   "execution_count": 14,
   "outputs": [
    {
     "data": {
      "text/plain": "9.545117514182747"
     },
     "execution_count": 14,
     "metadata": {},
     "output_type": "execute_result"
    }
   ],
   "source": [
    "genes.ncbi_gene.isnull().sum()/genes.shape[0]*100"
   ],
   "metadata": {
    "collapsed": false,
    "pycharm": {
     "name": "#%%\n"
    }
   }
  },
  {
   "cell_type": "code",
   "execution_count": 15,
   "outputs": [
    {
     "data": {
      "text/plain": "6.649078337040677"
     },
     "execution_count": 15,
     "metadata": {},
     "output_type": "execute_result"
    }
   ],
   "source": [
    "genes.genbank_accession.isnull().sum()/genes.shape[0]*100"
   ],
   "metadata": {
    "collapsed": false,
    "pycharm": {
     "name": "#%%\n"
    }
   }
  },
  {
   "cell_type": "code",
   "execution_count": 16,
   "outputs": [
    {
     "data": {
      "text/plain": "23.124342593071578"
     },
     "execution_count": 16,
     "metadata": {},
     "output_type": "execute_result"
    }
   ],
   "source": [
    "genes.refseq_accession.isnull().sum()/genes.shape[0]*100"
   ],
   "metadata": {
    "collapsed": false,
    "pycharm": {
     "name": "#%%\n"
    }
   }
  },
  {
   "cell_type": "code",
   "execution_count": 17,
   "outputs": [
    {
     "data": {
      "text/plain": "2.7167071887986483"
     },
     "execution_count": 17,
     "metadata": {},
     "output_type": "execute_result"
    }
   ],
   "source": [
    "genes.protein_sequence.isnull().sum()/genes.shape[0]*100"
   ],
   "metadata": {
    "collapsed": false,
    "pycharm": {
     "name": "#%%\n"
    }
   }
  },
  {
   "cell_type": "code",
   "execution_count": 18,
   "outputs": [
    {
     "data": {
      "text/plain": "8.580345903815978"
     },
     "execution_count": 18,
     "metadata": {},
     "output_type": "execute_result"
    }
   ],
   "source": [
    "genes.gene_sequence.isnull().sum()/genes.shape[0]*100"
   ],
   "metadata": {
    "collapsed": false,
    "pycharm": {
     "name": "#%%\n"
    }
   }
  },
  {
   "cell_type": "code",
   "execution_count": 19,
   "outputs": [
    {
     "data": {
      "text/plain": "3.5443932888452054"
     },
     "execution_count": 19,
     "metadata": {},
     "output_type": "execute_result"
    }
   ],
   "source": [
    "genes.start.isnull().sum()/genes.shape[0]*100"
   ],
   "metadata": {
    "collapsed": false,
    "pycharm": {
     "name": "#%%\n"
    }
   }
  },
  {
   "cell_type": "code",
   "execution_count": 20,
   "outputs": [
    {
     "data": {
      "text/plain": "                                           uid      protrend_id  \\\norganism 0    c9828c1c3c1846c3a9d57f9d24b59634  PRT.ORG.0000001   \n         1    9ec606c9ea524cc5b5b54f27c732b418  PRT.ORG.0000002   \n         2    aaa7f1c8f3e649d481f5cce7935e978b  PRT.ORG.0000003   \n         3    002a41933ca74bd6bca7098277116b02  PRT.ORG.0000004   \n         4    07d15ab02cc64a4cb5151905da4db32c  PRT.ORG.0000005   \n...                                        ...              ...   \n         611  7c7bb252f11141eaacaef2a85c6d0696  PRT.ORG.0000609   \n         612  eb4c5f7a3ada4c13b2390f5f8e5b09e8  PRT.ORG.0000610   \n         613  e3ec2e2bd9c9452dabc840e055be73e2  PRT.ORG.0000611   \n         614  ca3a2a7cb5f24ee393e9c86a28065f50  PRT.ORG.0000612   \n         615  5035d89070db42f5b08bfd0dd5701e29  PRT.ORG.0000613   \n\n                                      created  \\\norganism 0   2022-08-12 22:35:10.684025+00:00   \n         1   2022-08-12 22:35:10.779386+00:00   \n         2   2022-08-12 22:35:10.823263+00:00   \n         3   2022-08-12 22:35:10.867591+00:00   \n         4   2022-08-12 22:35:10.926049+00:00   \n...                                       ...   \n         611 2022-08-13 00:47:37.533899+00:00   \n         612 2022-08-13 00:47:37.546332+00:00   \n         613 2022-08-13 00:47:37.570727+00:00   \n         614 2022-08-13 00:47:37.582740+00:00   \n         615 2022-08-13 00:47:37.594712+00:00   \n\n                                      updated  \\\norganism 0   2022-08-12 22:35:10.684040+00:00   \n         1   2022-08-12 22:35:10.779400+00:00   \n         2   2022-08-12 22:35:10.823277+00:00   \n         3   2022-08-12 22:35:10.867605+00:00   \n         4   2022-08-13 00:47:28.527117+00:00   \n...                                       ...   \n         611 2022-08-13 00:47:37.533911+00:00   \n         612 2022-08-13 00:47:37.546343+00:00   \n         613 2022-08-13 00:47:37.570739+00:00   \n         614 2022-08-13 00:47:37.582752+00:00   \n         615 2022-08-13 00:47:37.594724+00:00   \n\n                                                           name  \\\norganism 0            Acidithiobacillus ferrooxidans ATCC 23270   \n         1                 Acidobacterium capsulatum ATCC 51196   \n         2                   Acinetobacter baumannii ATCC 17978   \n         3    Actinobacillus pleuropneumoniae serovar 5b str...   \n         4    Actinobacillus pleuropneumoniae serovar 7 str....   \n...                                                         ...   \n         611                           Idiomarina baltica OS145   \n         612                            Glaciecola sp. HTCC2999   \n         613                      Colwellia psychrerythraea 34H   \n         614                        Alteromonas mediterranea DE   \n         615                     Alteromonadales bacterium TW-7   \n\n                                                    name_factor  \\\norganism 0            acidithiobacillus ferrooxidans atcc 23270   \n         1                 acidobacterium capsulatum atcc 51196   \n         2                   acinetobacter baumannii atcc 17978   \n         3    actinobacillus pleuropneumoniae serovar 5b str...   \n         4    actinobacillus pleuropneumoniae serovar 7 str....   \n...                                                         ...   \n         611                           idiomarina baltica os145   \n         612                            glaciecola sp. htcc2999   \n         613                      colwellia psychrerythraea 34h   \n         614                        alteromonas mediterranea de   \n         615                     alteromonadales bacterium tw-7   \n\n              ncbi_taxonomy  ncbi_taxonomy_factor  \\\norganism 0           243159                243159   \n         1           240015                240015   \n         2           400667                400667   \n         3           416269                416269   \n         4           537457                537457   \n...                     ...                   ...   \n         611         314276                314276   \n         612         455436                455436   \n         613         167879                167879   \n         614        1774373               1774373   \n         615         156578                156578   \n\n                                      species               strain  \\\norganism 0     Acidithiobacillus ferrooxidans           ATCC 23270   \n         1          Acidobacterium capsulatum           ATCC 51196   \n         2            Acinetobacter baumannii           ATCC 17978   \n         3    Actinobacillus pleuropneumoniae  serovar 5b str. L20   \n         4    Actinobacillus pleuropneumoniae  serovar 7 str. AP76   \n...                                       ...                  ...   \n         611               Idiomarina baltica                OS145   \n         612                   Glaciecola sp.             HTCC2999   \n         613        Colwellia psychrerythraea                  34H   \n         614         Alteromonas mediterranea                   DE   \n         615        Alteromonadales bacterium                 TW-7   \n\n             refseq_accession  \\\norganism 0    GCF_000021485.1   \n         1    GCF_000022565.1   \n         2    GCF_000015425.1   \n         3    GCF_000015885.1   \n         4    GCF_000020405.1   \n...                       ...   \n         611  GCF_000152885.1   \n         612  GCF_000155775.1   \n         613  GCF_000012325.1   \n         614  GCF_000020585.3   \n         615  GCF_000169055.1   \n\n                                                     refseq_ftp  \\\norganism 0    ftp://ftp.ncbi.nlm.nih.gov/genomes/all/GCF/000...   \n         1    ftp://ftp.ncbi.nlm.nih.gov/genomes/all/GCF/000...   \n         2    ftp://ftp.ncbi.nlm.nih.gov/genomes/all/GCF/000...   \n         3    ftp://ftp.ncbi.nlm.nih.gov/genomes/all/GCF/000...   \n         4    ftp://ftp.ncbi.nlm.nih.gov/genomes/all/GCF/000...   \n...                                                         ...   \n         611  ftp://ftp.ncbi.nlm.nih.gov/genomes/all/GCF/000...   \n         612  ftp://ftp.ncbi.nlm.nih.gov/genomes/all/GCF/000...   \n         613  ftp://ftp.ncbi.nlm.nih.gov/genomes/all/GCF/000...   \n         614  ftp://ftp.ncbi.nlm.nih.gov/genomes/all/GCF/000...   \n         615  ftp://ftp.ncbi.nlm.nih.gov/genomes/all/GCF/000...   \n\n             genbank_accession  \\\norganism 0     GCA_000021485.1   \n         1     GCA_000022565.1   \n         2     GCA_000015425.1   \n         3     GCA_000015885.1   \n         4     GCA_000020405.1   \n...                        ...   \n         611   GCA_000152885.1   \n         612   GCA_000155775.1   \n         613   GCA_000012325.1   \n         614   GCA_000020585.3   \n         615   GCA_000169055.1   \n\n                                                    genbank_ftp  \\\norganism 0    ftp://ftp.ncbi.nlm.nih.gov/genomes/all/GCA/000...   \n         1    ftp://ftp.ncbi.nlm.nih.gov/genomes/all/GCA/000...   \n         2    ftp://ftp.ncbi.nlm.nih.gov/genomes/all/GCA/000...   \n         3    ftp://ftp.ncbi.nlm.nih.gov/genomes/all/GCA/000...   \n         4    ftp://ftp.ncbi.nlm.nih.gov/genomes/all/GCA/000...   \n...                                                         ...   \n         611  ftp://ftp.ncbi.nlm.nih.gov/genomes/all/GCA/000...   \n         612  ftp://ftp.ncbi.nlm.nih.gov/genomes/all/GCA/000...   \n         613  ftp://ftp.ncbi.nlm.nih.gov/genomes/all/GCA/000...   \n         614  ftp://ftp.ncbi.nlm.nih.gov/genomes/all/GCA/000...   \n         615  ftp://ftp.ncbi.nlm.nih.gov/genomes/all/GCA/000...   \n\n              ncbi_assembly assembly_accession  \norganism 0          42508.0          ASM2148v1  \n         1          43508.0          ASM2256v1  \n         2          36528.0          ASM1542v1  \n         3          36988.0          ASM1588v1  \n         4          41448.0          ASM2040v1  \n...                     ...                ...  \n         611       176778.0         ASM15288v1  \n         612       182478.0         ASM15577v1  \n         613        33428.0          ASM1232v1  \n         614        64271.0          ASM2058v3  \n         615       206578.0         ASM16905v1  \n\n[616 rows x 16 columns]",
      "text/html": "<div>\n<style scoped>\n    .dataframe tbody tr th:only-of-type {\n        vertical-align: middle;\n    }\n\n    .dataframe tbody tr th {\n        vertical-align: top;\n    }\n\n    .dataframe thead th {\n        text-align: right;\n    }\n</style>\n<table border=\"1\" class=\"dataframe\">\n  <thead>\n    <tr style=\"text-align: right;\">\n      <th></th>\n      <th></th>\n      <th>uid</th>\n      <th>protrend_id</th>\n      <th>created</th>\n      <th>updated</th>\n      <th>name</th>\n      <th>name_factor</th>\n      <th>ncbi_taxonomy</th>\n      <th>ncbi_taxonomy_factor</th>\n      <th>species</th>\n      <th>strain</th>\n      <th>refseq_accession</th>\n      <th>refseq_ftp</th>\n      <th>genbank_accession</th>\n      <th>genbank_ftp</th>\n      <th>ncbi_assembly</th>\n      <th>assembly_accession</th>\n    </tr>\n  </thead>\n  <tbody>\n    <tr>\n      <th rowspan=\"11\" valign=\"top\">organism</th>\n      <th>0</th>\n      <td>c9828c1c3c1846c3a9d57f9d24b59634</td>\n      <td>PRT.ORG.0000001</td>\n      <td>2022-08-12 22:35:10.684025+00:00</td>\n      <td>2022-08-12 22:35:10.684040+00:00</td>\n      <td>Acidithiobacillus ferrooxidans ATCC 23270</td>\n      <td>acidithiobacillus ferrooxidans atcc 23270</td>\n      <td>243159</td>\n      <td>243159</td>\n      <td>Acidithiobacillus ferrooxidans</td>\n      <td>ATCC 23270</td>\n      <td>GCF_000021485.1</td>\n      <td>ftp://ftp.ncbi.nlm.nih.gov/genomes/all/GCF/000...</td>\n      <td>GCA_000021485.1</td>\n      <td>ftp://ftp.ncbi.nlm.nih.gov/genomes/all/GCA/000...</td>\n      <td>42508.0</td>\n      <td>ASM2148v1</td>\n    </tr>\n    <tr>\n      <th>1</th>\n      <td>9ec606c9ea524cc5b5b54f27c732b418</td>\n      <td>PRT.ORG.0000002</td>\n      <td>2022-08-12 22:35:10.779386+00:00</td>\n      <td>2022-08-12 22:35:10.779400+00:00</td>\n      <td>Acidobacterium capsulatum ATCC 51196</td>\n      <td>acidobacterium capsulatum atcc 51196</td>\n      <td>240015</td>\n      <td>240015</td>\n      <td>Acidobacterium capsulatum</td>\n      <td>ATCC 51196</td>\n      <td>GCF_000022565.1</td>\n      <td>ftp://ftp.ncbi.nlm.nih.gov/genomes/all/GCF/000...</td>\n      <td>GCA_000022565.1</td>\n      <td>ftp://ftp.ncbi.nlm.nih.gov/genomes/all/GCA/000...</td>\n      <td>43508.0</td>\n      <td>ASM2256v1</td>\n    </tr>\n    <tr>\n      <th>2</th>\n      <td>aaa7f1c8f3e649d481f5cce7935e978b</td>\n      <td>PRT.ORG.0000003</td>\n      <td>2022-08-12 22:35:10.823263+00:00</td>\n      <td>2022-08-12 22:35:10.823277+00:00</td>\n      <td>Acinetobacter baumannii ATCC 17978</td>\n      <td>acinetobacter baumannii atcc 17978</td>\n      <td>400667</td>\n      <td>400667</td>\n      <td>Acinetobacter baumannii</td>\n      <td>ATCC 17978</td>\n      <td>GCF_000015425.1</td>\n      <td>ftp://ftp.ncbi.nlm.nih.gov/genomes/all/GCF/000...</td>\n      <td>GCA_000015425.1</td>\n      <td>ftp://ftp.ncbi.nlm.nih.gov/genomes/all/GCA/000...</td>\n      <td>36528.0</td>\n      <td>ASM1542v1</td>\n    </tr>\n    <tr>\n      <th>3</th>\n      <td>002a41933ca74bd6bca7098277116b02</td>\n      <td>PRT.ORG.0000004</td>\n      <td>2022-08-12 22:35:10.867591+00:00</td>\n      <td>2022-08-12 22:35:10.867605+00:00</td>\n      <td>Actinobacillus pleuropneumoniae serovar 5b str...</td>\n      <td>actinobacillus pleuropneumoniae serovar 5b str...</td>\n      <td>416269</td>\n      <td>416269</td>\n      <td>Actinobacillus pleuropneumoniae</td>\n      <td>serovar 5b str. L20</td>\n      <td>GCF_000015885.1</td>\n      <td>ftp://ftp.ncbi.nlm.nih.gov/genomes/all/GCF/000...</td>\n      <td>GCA_000015885.1</td>\n      <td>ftp://ftp.ncbi.nlm.nih.gov/genomes/all/GCA/000...</td>\n      <td>36988.0</td>\n      <td>ASM1588v1</td>\n    </tr>\n    <tr>\n      <th>4</th>\n      <td>07d15ab02cc64a4cb5151905da4db32c</td>\n      <td>PRT.ORG.0000005</td>\n      <td>2022-08-12 22:35:10.926049+00:00</td>\n      <td>2022-08-13 00:47:28.527117+00:00</td>\n      <td>Actinobacillus pleuropneumoniae serovar 7 str....</td>\n      <td>actinobacillus pleuropneumoniae serovar 7 str....</td>\n      <td>537457</td>\n      <td>537457</td>\n      <td>Actinobacillus pleuropneumoniae</td>\n      <td>serovar 7 str. AP76</td>\n      <td>GCF_000020405.1</td>\n      <td>ftp://ftp.ncbi.nlm.nih.gov/genomes/all/GCF/000...</td>\n      <td>GCA_000020405.1</td>\n      <td>ftp://ftp.ncbi.nlm.nih.gov/genomes/all/GCA/000...</td>\n      <td>41448.0</td>\n      <td>ASM2040v1</td>\n    </tr>\n    <tr>\n      <th>...</th>\n      <td>...</td>\n      <td>...</td>\n      <td>...</td>\n      <td>...</td>\n      <td>...</td>\n      <td>...</td>\n      <td>...</td>\n      <td>...</td>\n      <td>...</td>\n      <td>...</td>\n      <td>...</td>\n      <td>...</td>\n      <td>...</td>\n      <td>...</td>\n      <td>...</td>\n      <td>...</td>\n    </tr>\n    <tr>\n      <th>611</th>\n      <td>7c7bb252f11141eaacaef2a85c6d0696</td>\n      <td>PRT.ORG.0000609</td>\n      <td>2022-08-13 00:47:37.533899+00:00</td>\n      <td>2022-08-13 00:47:37.533911+00:00</td>\n      <td>Idiomarina baltica OS145</td>\n      <td>idiomarina baltica os145</td>\n      <td>314276</td>\n      <td>314276</td>\n      <td>Idiomarina baltica</td>\n      <td>OS145</td>\n      <td>GCF_000152885.1</td>\n      <td>ftp://ftp.ncbi.nlm.nih.gov/genomes/all/GCF/000...</td>\n      <td>GCA_000152885.1</td>\n      <td>ftp://ftp.ncbi.nlm.nih.gov/genomes/all/GCA/000...</td>\n      <td>176778.0</td>\n      <td>ASM15288v1</td>\n    </tr>\n    <tr>\n      <th>612</th>\n      <td>eb4c5f7a3ada4c13b2390f5f8e5b09e8</td>\n      <td>PRT.ORG.0000610</td>\n      <td>2022-08-13 00:47:37.546332+00:00</td>\n      <td>2022-08-13 00:47:37.546343+00:00</td>\n      <td>Glaciecola sp. HTCC2999</td>\n      <td>glaciecola sp. htcc2999</td>\n      <td>455436</td>\n      <td>455436</td>\n      <td>Glaciecola sp.</td>\n      <td>HTCC2999</td>\n      <td>GCF_000155775.1</td>\n      <td>ftp://ftp.ncbi.nlm.nih.gov/genomes/all/GCF/000...</td>\n      <td>GCA_000155775.1</td>\n      <td>ftp://ftp.ncbi.nlm.nih.gov/genomes/all/GCA/000...</td>\n      <td>182478.0</td>\n      <td>ASM15577v1</td>\n    </tr>\n    <tr>\n      <th>613</th>\n      <td>e3ec2e2bd9c9452dabc840e055be73e2</td>\n      <td>PRT.ORG.0000611</td>\n      <td>2022-08-13 00:47:37.570727+00:00</td>\n      <td>2022-08-13 00:47:37.570739+00:00</td>\n      <td>Colwellia psychrerythraea 34H</td>\n      <td>colwellia psychrerythraea 34h</td>\n      <td>167879</td>\n      <td>167879</td>\n      <td>Colwellia psychrerythraea</td>\n      <td>34H</td>\n      <td>GCF_000012325.1</td>\n      <td>ftp://ftp.ncbi.nlm.nih.gov/genomes/all/GCF/000...</td>\n      <td>GCA_000012325.1</td>\n      <td>ftp://ftp.ncbi.nlm.nih.gov/genomes/all/GCA/000...</td>\n      <td>33428.0</td>\n      <td>ASM1232v1</td>\n    </tr>\n    <tr>\n      <th>614</th>\n      <td>ca3a2a7cb5f24ee393e9c86a28065f50</td>\n      <td>PRT.ORG.0000612</td>\n      <td>2022-08-13 00:47:37.582740+00:00</td>\n      <td>2022-08-13 00:47:37.582752+00:00</td>\n      <td>Alteromonas mediterranea DE</td>\n      <td>alteromonas mediterranea de</td>\n      <td>1774373</td>\n      <td>1774373</td>\n      <td>Alteromonas mediterranea</td>\n      <td>DE</td>\n      <td>GCF_000020585.3</td>\n      <td>ftp://ftp.ncbi.nlm.nih.gov/genomes/all/GCF/000...</td>\n      <td>GCA_000020585.3</td>\n      <td>ftp://ftp.ncbi.nlm.nih.gov/genomes/all/GCA/000...</td>\n      <td>64271.0</td>\n      <td>ASM2058v3</td>\n    </tr>\n    <tr>\n      <th>615</th>\n      <td>5035d89070db42f5b08bfd0dd5701e29</td>\n      <td>PRT.ORG.0000613</td>\n      <td>2022-08-13 00:47:37.594712+00:00</td>\n      <td>2022-08-13 00:47:37.594724+00:00</td>\n      <td>Alteromonadales bacterium TW-7</td>\n      <td>alteromonadales bacterium tw-7</td>\n      <td>156578</td>\n      <td>156578</td>\n      <td>Alteromonadales bacterium</td>\n      <td>TW-7</td>\n      <td>GCF_000169055.1</td>\n      <td>ftp://ftp.ncbi.nlm.nih.gov/genomes/all/GCF/000...</td>\n      <td>GCA_000169055.1</td>\n      <td>ftp://ftp.ncbi.nlm.nih.gov/genomes/all/GCA/000...</td>\n      <td>206578.0</td>\n      <td>ASM16905v1</td>\n    </tr>\n  </tbody>\n</table>\n<p>616 rows × 16 columns</p>\n</div>"
     },
     "execution_count": 20,
     "metadata": {},
     "output_type": "execute_result"
    }
   ],
   "source": [
    "# organisms\n",
    "organisms = database_long_report({'organism': Organism})\n",
    "organisms"
   ],
   "metadata": {
    "collapsed": false,
    "pycharm": {
     "name": "#%%\n"
    }
   }
  },
  {
   "cell_type": "code",
   "execution_count": 21,
   "outputs": [
    {
     "data": {
      "text/plain": "True"
     },
     "execution_count": 21,
     "metadata": {},
     "output_type": "execute_result"
    }
   ],
   "source": [
    "(organisms.name.value_counts() == 1).all()"
   ],
   "metadata": {
    "collapsed": false,
    "pycharm": {
     "name": "#%%\n"
    }
   }
  },
  {
   "cell_type": "code",
   "execution_count": 22,
   "outputs": [
    {
     "data": {
      "text/plain": "True"
     },
     "execution_count": 22,
     "metadata": {},
     "output_type": "execute_result"
    }
   ],
   "source": [
    "(organisms.ncbi_taxonomy.value_counts() == 1).all()"
   ],
   "metadata": {
    "collapsed": false,
    "pycharm": {
     "name": "#%%\n"
    }
   }
  },
  {
   "cell_type": "code",
   "execution_count": 23,
   "outputs": [
    {
     "data": {
      "text/plain": "True"
     },
     "execution_count": 23,
     "metadata": {},
     "output_type": "execute_result"
    }
   ],
   "source": [
    "organisms.genbank_ftp.isnull().any()"
   ],
   "metadata": {
    "collapsed": false,
    "pycharm": {
     "name": "#%%\n"
    }
   }
  },
  {
   "cell_type": "code",
   "execution_count": 24,
   "outputs": [
    {
     "data": {
      "text/plain": "                                              uid      protrend_id  \\\nregulator 0      741667aa0a314c48a3fde9c8619c52a2  PRT.REG.0000001   \n          1      2ef20fc27b984661893e0586418c7eca  PRT.REG.0000002   \n          2      4875e91867264251b6d8a27fc6d07dda  PRT.REG.0000003   \n          3      adb67cf712ab46c3a9c26b6e4a502527  PRT.REG.0000004   \n          4      e012fab733694503b52abdd8d6957fb9  PRT.REG.0000005   \n...                                           ...              ...   \n          16747  80ed97ff8e0444439b550ff3bbbcab4f  PRT.REG.0015450   \n          16748  9418500ab4eb4e6fa85d9a3d5db1a6ce  PRT.REG.0015451   \n          16749  a62275d8d7df4260bfdee3347354f4a4  PRT.REG.0015452   \n          16750  a72c1aac72e84136a1e8f7b06944ef57  PRT.REG.0015453   \n          16751  40f7f1648b604eebb9bc25cf42a8d574  PRT.REG.0015454   \n\n                                         created  \\\nregulator 0     2022-08-12 22:35:18.517885+00:00   \n          1     2022-08-12 22:35:18.640715+00:00   \n          2     2022-08-12 22:35:18.683509+00:00   \n          3     2022-08-12 22:35:18.741136+00:00   \n          4     2022-08-12 22:35:18.783939+00:00   \n...                                          ...   \n          16747 2022-08-13 00:53:59.820980+00:00   \n          16748 2022-08-13 00:53:59.835172+00:00   \n          16749 2022-08-13 00:53:59.861937+00:00   \n          16750 2022-08-13 00:53:59.896178+00:00   \n          16751 2022-08-13 00:53:59.930000+00:00   \n\n                                         updated    locus_tag  \\\nregulator 0     2022-08-12 22:35:18.517900+00:00  NP943_11140   \n          1     2022-08-12 22:35:18.640731+00:00  NP943_07365   \n          2     2022-08-12 22:35:18.683525+00:00        AT103   \n          3     2022-08-12 22:35:18.741151+00:00      sll1626   \n          4     2022-08-12 22:35:18.783953+00:00      sll0822   \n...                                          ...          ...   \n          16747 2022-08-13 00:53:59.820996+00:00      STM2803   \n          16748 2022-08-13 00:53:59.835187+00:00      STM1598   \n          16749 2022-08-13 00:53:59.861951+00:00      STM2436   \n          16750 2022-08-13 00:53:59.896193+00:00      STM1387   \n          16751 2022-08-13 00:53:59.930016+00:00      STM1510   \n\n                locus_tag_factor uniprot_accession uniprot_accession_factor  \\\nregulator 0          np943_11140              None                     None   \n          1          np943_07365              None                     None   \n          2                at103              None                     None   \n          3              sll1626            P73722                   p73722   \n          4              sll0822            Q55432                   q55432   \n...                          ...               ...                      ...   \n          16747          stm2803            Q8ZML3                   q8zml3   \n          16748          stm1598            Q8ZPC8                   q8zpc8   \n          16749          stm2436            P40193                   p40193   \n          16750          stm1387            Q7CQM8                   q7cqm8   \n          16751          stm1510            Q7CQJ5                   q7cqj5   \n\n                          name  \\\nregulator 0           NEWENTRY   \n          1      HXD82_RS00020   \n          2              AT103   \n          3               lexA   \n          4            sll0822   \n...                        ...   \n          16747        STM2803   \n          16748           ydcR   \n          16749           ptsJ   \n          16750           ttrR   \n          16751           ydfH   \n\n                                                         synonyms  ...  \\\nregulator 0                        [fis, np943_11140, , newentry]  ...   \n          1      [lexa, np943_07365, hxd82_rs00020, d616_p135001]  ...   \n          2                                 [crp, sll1874, at103]  ...   \n          3              [lexa, sll1626, mt986_06220, myo_112040]  ...   \n          4                    [sll0822, syngts_2572, myo_125970]  ...   \n...                                                           ...  ...   \n          16747                              [stm2803, spro_3719]  ...   \n          16748                                   [stm1598, ydcr]  ...   \n          16749                            [stm2436, pdxr2, ptsj]  ...   \n          16750                                   [stm1387, ttrr]  ...   \n          16751                             [stm1510, rspr, ydfh]  ...   \n\n                            mechanism   ncbi_gene  ncbi_protein  \\\nregulator 0      transcription factor   2827929.0  2.282832e+09   \n          1      transcription factor  59693416.0  2.282831e+09   \n          2      transcription factor    955012.0  4.991766e+08   \n          3      transcription factor  14616626.0  2.221394e+09   \n          4      transcription factor  14618021.0  3.392748e+08   \n...                               ...         ...           ...   \n          16747  transcription factor   1254326.0  1.676611e+07   \n          16748  transcription factor   1253116.0  1.676494e+07   \n          16749  transcription factor   1253958.0  7.304220e+05   \n          16750  transcription factor   1252905.0  8.170690e+07   \n          16751  transcription factor   1253028.0  1.676486e+07   \n\n                 genbank_accession  refseq_accession  \\\nregulator 0             UUM09922.1              None   \n          1             UUM09247.1              None   \n          2             BAA18220.1    WP_010874198.1   \n          3             UOO12863.1              None   \n          4             BAA10534.1              None   \n...                            ...               ...   \n          16747         AAL21688.1       NP_461729.1   \n          16748         AAL20516.1       NP_460557.1   \n          16749         AAL21330.1       NP_461371.1   \n          16750         AAL20311.1       NP_460352.3   \n          16751         AAL20429.1       NP_460470.1   \n\n                                                  protein_sequence   strand  \\\nregulator 0      MFEQRVNSDVLTVSTVNSQDQVTQKPLRDSVKQALKNYFAQLNGQD...  unknown   \n          1      MKTIHDIRRSNARKLRDGVGGNSSFATMIDREPTQTSRFMGDGATK...  reverse   \n          2      MVSTTLPTQLETIRPGIKAPVKETLLTPRFYTTDFDKVANLVLTLQ...  reverse   \n          3      MEPLTRAQKELFDWLVSYIDETQHAPSIRQMMRAMNLRSPAPIQSR...  reverse   \n          4      MAKSNATKPLTGEALLEKVKELGDLPKEEKAKICGYVTSTKKGLPR...  reverse   \n...                                                            ...      ...   \n          16747  MPRYQHIARQLKTAIEQGELAPGTRLPSSRTWAQELGVSRATVENA...  reverse   \n          16748  MKKYQRLAEQIREQIASGVWQPGDRLPSLREQVASSGMSFMTVGHA...  reverse   \n          16749  MIDGKTANEIFDSIRQHIIAGTLRAEDSLPPVRELASELKVNRNTV...  forward   \n          16750  MATIHLLDDDTAVTNACAFLLESLGYDVKCWTQGADFLAQASLYQA...  forward   \n          16751  MTVETQLNPTQPVNQQIYRILRRDIVHCLIPPGTPLSEKEVSTRFN...  reverse   \n\n                     start       stop  \\\nregulator 0            NaN        NaN   \n          1         4201.0     3488.0   \n          2      1805219.0  1806296.0   \n          3      1317799.0  1317188.0   \n          4      2862004.0  2862394.0   \n...                    ...        ...   \n          16747  2949734.0  2951069.0   \n          16748  1688387.0  1689812.0   \n          16749  2548501.0  2549794.0   \n          16750  1473092.0  1473713.0   \n          16751  1587978.0  1588665.0   \n\n                                                     gene_sequence  \nregulator 0                                                   None  \n          1                                                   None  \n          2      ATGGTATCCACTACCCTACCGACTCAGTTAGAAACCATTCGCCCCG...  \n          3                                                   None  \n          4      ATGGCTAAATCAAACGCAACCAAGCCCCTAACTGGCGAAGCATTGC...  \n...                                                            ...  \n          16747  ATGCCGCGCTATCAGCACATCGCTCGTCAGTTAAAAACGGCCATTG...  \n          16748  ATGAAAAAATATCAACGTCTGGCGGAGCAAATTAGAGAACAAATCG...  \n          16749  ATGATCGACGGAAAAACCGCTAACGAAATTTTTGACAGTATCCGTC...  \n          16750  ATGGCGACAATTCATCTACTGGATGATGATACGGCGGTCACTAACG...  \n          16751  ATGACCGTCGAAACGCAGCTTAACCCTACACAGCCTGTCAACCAGC...  \n\n[16752 rows x 22 columns]",
      "text/html": "<div>\n<style scoped>\n    .dataframe tbody tr th:only-of-type {\n        vertical-align: middle;\n    }\n\n    .dataframe tbody tr th {\n        vertical-align: top;\n    }\n\n    .dataframe thead th {\n        text-align: right;\n    }\n</style>\n<table border=\"1\" class=\"dataframe\">\n  <thead>\n    <tr style=\"text-align: right;\">\n      <th></th>\n      <th></th>\n      <th>uid</th>\n      <th>protrend_id</th>\n      <th>created</th>\n      <th>updated</th>\n      <th>locus_tag</th>\n      <th>locus_tag_factor</th>\n      <th>uniprot_accession</th>\n      <th>uniprot_accession_factor</th>\n      <th>name</th>\n      <th>synonyms</th>\n      <th>...</th>\n      <th>mechanism</th>\n      <th>ncbi_gene</th>\n      <th>ncbi_protein</th>\n      <th>genbank_accession</th>\n      <th>refseq_accession</th>\n      <th>protein_sequence</th>\n      <th>strand</th>\n      <th>start</th>\n      <th>stop</th>\n      <th>gene_sequence</th>\n    </tr>\n  </thead>\n  <tbody>\n    <tr>\n      <th rowspan=\"11\" valign=\"top\">regulator</th>\n      <th>0</th>\n      <td>741667aa0a314c48a3fde9c8619c52a2</td>\n      <td>PRT.REG.0000001</td>\n      <td>2022-08-12 22:35:18.517885+00:00</td>\n      <td>2022-08-12 22:35:18.517900+00:00</td>\n      <td>NP943_11140</td>\n      <td>np943_11140</td>\n      <td>None</td>\n      <td>None</td>\n      <td>NEWENTRY</td>\n      <td>[fis, np943_11140, , newentry]</td>\n      <td>...</td>\n      <td>transcription factor</td>\n      <td>2827929.0</td>\n      <td>2.282832e+09</td>\n      <td>UUM09922.1</td>\n      <td>None</td>\n      <td>MFEQRVNSDVLTVSTVNSQDQVTQKPLRDSVKQALKNYFAQLNGQD...</td>\n      <td>unknown</td>\n      <td>NaN</td>\n      <td>NaN</td>\n      <td>None</td>\n    </tr>\n    <tr>\n      <th>1</th>\n      <td>2ef20fc27b984661893e0586418c7eca</td>\n      <td>PRT.REG.0000002</td>\n      <td>2022-08-12 22:35:18.640715+00:00</td>\n      <td>2022-08-12 22:35:18.640731+00:00</td>\n      <td>NP943_07365</td>\n      <td>np943_07365</td>\n      <td>None</td>\n      <td>None</td>\n      <td>HXD82_RS00020</td>\n      <td>[lexa, np943_07365, hxd82_rs00020, d616_p135001]</td>\n      <td>...</td>\n      <td>transcription factor</td>\n      <td>59693416.0</td>\n      <td>2.282831e+09</td>\n      <td>UUM09247.1</td>\n      <td>None</td>\n      <td>MKTIHDIRRSNARKLRDGVGGNSSFATMIDREPTQTSRFMGDGATK...</td>\n      <td>reverse</td>\n      <td>4201.0</td>\n      <td>3488.0</td>\n      <td>None</td>\n    </tr>\n    <tr>\n      <th>2</th>\n      <td>4875e91867264251b6d8a27fc6d07dda</td>\n      <td>PRT.REG.0000003</td>\n      <td>2022-08-12 22:35:18.683509+00:00</td>\n      <td>2022-08-12 22:35:18.683525+00:00</td>\n      <td>AT103</td>\n      <td>at103</td>\n      <td>None</td>\n      <td>None</td>\n      <td>AT103</td>\n      <td>[crp, sll1874, at103]</td>\n      <td>...</td>\n      <td>transcription factor</td>\n      <td>955012.0</td>\n      <td>4.991766e+08</td>\n      <td>BAA18220.1</td>\n      <td>WP_010874198.1</td>\n      <td>MVSTTLPTQLETIRPGIKAPVKETLLTPRFYTTDFDKVANLVLTLQ...</td>\n      <td>reverse</td>\n      <td>1805219.0</td>\n      <td>1806296.0</td>\n      <td>ATGGTATCCACTACCCTACCGACTCAGTTAGAAACCATTCGCCCCG...</td>\n    </tr>\n    <tr>\n      <th>3</th>\n      <td>adb67cf712ab46c3a9c26b6e4a502527</td>\n      <td>PRT.REG.0000004</td>\n      <td>2022-08-12 22:35:18.741136+00:00</td>\n      <td>2022-08-12 22:35:18.741151+00:00</td>\n      <td>sll1626</td>\n      <td>sll1626</td>\n      <td>P73722</td>\n      <td>p73722</td>\n      <td>lexA</td>\n      <td>[lexa, sll1626, mt986_06220, myo_112040]</td>\n      <td>...</td>\n      <td>transcription factor</td>\n      <td>14616626.0</td>\n      <td>2.221394e+09</td>\n      <td>UOO12863.1</td>\n      <td>None</td>\n      <td>MEPLTRAQKELFDWLVSYIDETQHAPSIRQMMRAMNLRSPAPIQSR...</td>\n      <td>reverse</td>\n      <td>1317799.0</td>\n      <td>1317188.0</td>\n      <td>None</td>\n    </tr>\n    <tr>\n      <th>4</th>\n      <td>e012fab733694503b52abdd8d6957fb9</td>\n      <td>PRT.REG.0000005</td>\n      <td>2022-08-12 22:35:18.783939+00:00</td>\n      <td>2022-08-12 22:35:18.783953+00:00</td>\n      <td>sll0822</td>\n      <td>sll0822</td>\n      <td>Q55432</td>\n      <td>q55432</td>\n      <td>sll0822</td>\n      <td>[sll0822, syngts_2572, myo_125970]</td>\n      <td>...</td>\n      <td>transcription factor</td>\n      <td>14618021.0</td>\n      <td>3.392748e+08</td>\n      <td>BAA10534.1</td>\n      <td>None</td>\n      <td>MAKSNATKPLTGEALLEKVKELGDLPKEEKAKICGYVTSTKKGLPR...</td>\n      <td>reverse</td>\n      <td>2862004.0</td>\n      <td>2862394.0</td>\n      <td>ATGGCTAAATCAAACGCAACCAAGCCCCTAACTGGCGAAGCATTGC...</td>\n    </tr>\n    <tr>\n      <th>...</th>\n      <td>...</td>\n      <td>...</td>\n      <td>...</td>\n      <td>...</td>\n      <td>...</td>\n      <td>...</td>\n      <td>...</td>\n      <td>...</td>\n      <td>...</td>\n      <td>...</td>\n      <td>...</td>\n      <td>...</td>\n      <td>...</td>\n      <td>...</td>\n      <td>...</td>\n      <td>...</td>\n      <td>...</td>\n      <td>...</td>\n      <td>...</td>\n      <td>...</td>\n      <td>...</td>\n    </tr>\n    <tr>\n      <th>16747</th>\n      <td>80ed97ff8e0444439b550ff3bbbcab4f</td>\n      <td>PRT.REG.0015450</td>\n      <td>2022-08-13 00:53:59.820980+00:00</td>\n      <td>2022-08-13 00:53:59.820996+00:00</td>\n      <td>STM2803</td>\n      <td>stm2803</td>\n      <td>Q8ZML3</td>\n      <td>q8zml3</td>\n      <td>STM2803</td>\n      <td>[stm2803, spro_3719]</td>\n      <td>...</td>\n      <td>transcription factor</td>\n      <td>1254326.0</td>\n      <td>1.676611e+07</td>\n      <td>AAL21688.1</td>\n      <td>NP_461729.1</td>\n      <td>MPRYQHIARQLKTAIEQGELAPGTRLPSSRTWAQELGVSRATVENA...</td>\n      <td>reverse</td>\n      <td>2949734.0</td>\n      <td>2951069.0</td>\n      <td>ATGCCGCGCTATCAGCACATCGCTCGTCAGTTAAAAACGGCCATTG...</td>\n    </tr>\n    <tr>\n      <th>16748</th>\n      <td>9418500ab4eb4e6fa85d9a3d5db1a6ce</td>\n      <td>PRT.REG.0015451</td>\n      <td>2022-08-13 00:53:59.835172+00:00</td>\n      <td>2022-08-13 00:53:59.835187+00:00</td>\n      <td>STM1598</td>\n      <td>stm1598</td>\n      <td>Q8ZPC8</td>\n      <td>q8zpc8</td>\n      <td>ydcR</td>\n      <td>[stm1598, ydcr]</td>\n      <td>...</td>\n      <td>transcription factor</td>\n      <td>1253116.0</td>\n      <td>1.676494e+07</td>\n      <td>AAL20516.1</td>\n      <td>NP_460557.1</td>\n      <td>MKKYQRLAEQIREQIASGVWQPGDRLPSLREQVASSGMSFMTVGHA...</td>\n      <td>reverse</td>\n      <td>1688387.0</td>\n      <td>1689812.0</td>\n      <td>ATGAAAAAATATCAACGTCTGGCGGAGCAAATTAGAGAACAAATCG...</td>\n    </tr>\n    <tr>\n      <th>16749</th>\n      <td>a62275d8d7df4260bfdee3347354f4a4</td>\n      <td>PRT.REG.0015452</td>\n      <td>2022-08-13 00:53:59.861937+00:00</td>\n      <td>2022-08-13 00:53:59.861951+00:00</td>\n      <td>STM2436</td>\n      <td>stm2436</td>\n      <td>P40193</td>\n      <td>p40193</td>\n      <td>ptsJ</td>\n      <td>[stm2436, pdxr2, ptsj]</td>\n      <td>...</td>\n      <td>transcription factor</td>\n      <td>1253958.0</td>\n      <td>7.304220e+05</td>\n      <td>AAL21330.1</td>\n      <td>NP_461371.1</td>\n      <td>MIDGKTANEIFDSIRQHIIAGTLRAEDSLPPVRELASELKVNRNTV...</td>\n      <td>forward</td>\n      <td>2548501.0</td>\n      <td>2549794.0</td>\n      <td>ATGATCGACGGAAAAACCGCTAACGAAATTTTTGACAGTATCCGTC...</td>\n    </tr>\n    <tr>\n      <th>16750</th>\n      <td>a72c1aac72e84136a1e8f7b06944ef57</td>\n      <td>PRT.REG.0015453</td>\n      <td>2022-08-13 00:53:59.896178+00:00</td>\n      <td>2022-08-13 00:53:59.896193+00:00</td>\n      <td>STM1387</td>\n      <td>stm1387</td>\n      <td>Q7CQM8</td>\n      <td>q7cqm8</td>\n      <td>ttrR</td>\n      <td>[stm1387, ttrr]</td>\n      <td>...</td>\n      <td>transcription factor</td>\n      <td>1252905.0</td>\n      <td>8.170690e+07</td>\n      <td>AAL20311.1</td>\n      <td>NP_460352.3</td>\n      <td>MATIHLLDDDTAVTNACAFLLESLGYDVKCWTQGADFLAQASLYQA...</td>\n      <td>forward</td>\n      <td>1473092.0</td>\n      <td>1473713.0</td>\n      <td>ATGGCGACAATTCATCTACTGGATGATGATACGGCGGTCACTAACG...</td>\n    </tr>\n    <tr>\n      <th>16751</th>\n      <td>40f7f1648b604eebb9bc25cf42a8d574</td>\n      <td>PRT.REG.0015454</td>\n      <td>2022-08-13 00:53:59.930000+00:00</td>\n      <td>2022-08-13 00:53:59.930016+00:00</td>\n      <td>STM1510</td>\n      <td>stm1510</td>\n      <td>Q7CQJ5</td>\n      <td>q7cqj5</td>\n      <td>ydfH</td>\n      <td>[stm1510, rspr, ydfh]</td>\n      <td>...</td>\n      <td>transcription factor</td>\n      <td>1253028.0</td>\n      <td>1.676486e+07</td>\n      <td>AAL20429.1</td>\n      <td>NP_460470.1</td>\n      <td>MTVETQLNPTQPVNQQIYRILRRDIVHCLIPPGTPLSEKEVSTRFN...</td>\n      <td>reverse</td>\n      <td>1587978.0</td>\n      <td>1588665.0</td>\n      <td>ATGACCGTCGAAACGCAGCTTAACCCTACACAGCCTGTCAACCAGC...</td>\n    </tr>\n  </tbody>\n</table>\n<p>16752 rows × 22 columns</p>\n</div>"
     },
     "execution_count": 24,
     "metadata": {},
     "output_type": "execute_result"
    }
   ],
   "source": [
    "# regulators\n",
    "regulators = database_long_report({'regulator': Regulator})\n",
    "regulators"
   ],
   "metadata": {
    "collapsed": false,
    "pycharm": {
     "name": "#%%\n"
    }
   }
  },
  {
   "cell_type": "code",
   "execution_count": 25,
   "outputs": [
    {
     "data": {
      "text/plain": "32.2468958930277"
     },
     "execution_count": 25,
     "metadata": {},
     "output_type": "execute_result"
    }
   ],
   "source": [
    "regulators.uniprot_accession.isnull().sum() / regulators.shape[0] * 100"
   ],
   "metadata": {
    "collapsed": false,
    "pycharm": {
     "name": "#%%\n"
    }
   }
  },
  {
   "cell_type": "code",
   "execution_count": 26,
   "outputs": [
    {
     "data": {
      "text/plain": "0.0"
     },
     "execution_count": 26,
     "metadata": {},
     "output_type": "execute_result"
    }
   ],
   "source": [
    "regulators.name.isnull().sum() / regulators.shape[0] * 100"
   ],
   "metadata": {
    "collapsed": false,
    "pycharm": {
     "name": "#%%\n"
    }
   }
  },
  {
   "cell_type": "code",
   "execution_count": 27,
   "outputs": [
    {
     "data": {
      "text/plain": "65.7772206303725"
     },
     "execution_count": 27,
     "metadata": {},
     "output_type": "execute_result"
    }
   ],
   "source": [
    "regulators.function.isnull().sum() / regulators.shape[0] * 100"
   ],
   "metadata": {
    "collapsed": false,
    "pycharm": {
     "name": "#%%\n"
    }
   }
  },
  {
   "cell_type": "code",
   "execution_count": 28,
   "outputs": [
    {
     "data": {
      "text/plain": "82.27674307545368"
     },
     "execution_count": 28,
     "metadata": {},
     "output_type": "execute_result"
    }
   ],
   "source": [
    "regulators.description.isnull().sum() / regulators.shape[0] * 100"
   ],
   "metadata": {
    "collapsed": false,
    "pycharm": {
     "name": "#%%\n"
    }
   }
  },
  {
   "cell_type": "code",
   "execution_count": 29,
   "outputs": [
    {
     "data": {
      "text/plain": "18.83954154727794"
     },
     "execution_count": 29,
     "metadata": {},
     "output_type": "execute_result"
    }
   ],
   "source": [
    "regulators.ncbi_protein.isnull().sum() / regulators.shape[0] * 100"
   ],
   "metadata": {
    "collapsed": false,
    "pycharm": {
     "name": "#%%\n"
    }
   }
  },
  {
   "cell_type": "code",
   "execution_count": 30,
   "outputs": [
    {
     "data": {
      "text/plain": "26.677411652340023"
     },
     "execution_count": 30,
     "metadata": {},
     "output_type": "execute_result"
    }
   ],
   "source": [
    "regulators.ncbi_gene.isnull().sum() / regulators.shape[0] * 100"
   ],
   "metadata": {
    "collapsed": false,
    "pycharm": {
     "name": "#%%\n"
    }
   }
  },
  {
   "cell_type": "code",
   "execution_count": 31,
   "outputs": [
    {
     "data": {
      "text/plain": "28.06829035339064"
     },
     "execution_count": 31,
     "metadata": {},
     "output_type": "execute_result"
    }
   ],
   "source": [
    "regulators.genbank_accession.isnull().sum() / regulators.shape[0] * 100"
   ],
   "metadata": {
    "collapsed": false,
    "pycharm": {
     "name": "#%%\n"
    }
   }
  },
  {
   "cell_type": "code",
   "execution_count": 32,
   "outputs": [
    {
     "data": {
      "text/plain": "38.658070678127984"
     },
     "execution_count": 32,
     "metadata": {},
     "output_type": "execute_result"
    }
   ],
   "source": [
    "regulators.refseq_accession.isnull().sum() / regulators.shape[0] * 100"
   ],
   "metadata": {
    "collapsed": false,
    "pycharm": {
     "name": "#%%\n"
    }
   }
  },
  {
   "cell_type": "code",
   "execution_count": 33,
   "outputs": [
    {
     "data": {
      "text/plain": "18.350047755491882"
     },
     "execution_count": 33,
     "metadata": {},
     "output_type": "execute_result"
    }
   ],
   "source": [
    "regulators.protein_sequence.isnull().sum() / regulators.shape[0] * 100"
   ],
   "metadata": {
    "collapsed": false,
    "pycharm": {
     "name": "#%%\n"
    }
   }
  },
  {
   "cell_type": "code",
   "execution_count": 34,
   "outputs": [
    {
     "data": {
      "text/plain": "31.184336198662848"
     },
     "execution_count": 34,
     "metadata": {},
     "output_type": "execute_result"
    }
   ],
   "source": [
    "regulators.gene_sequence.isnull().sum() / regulators.shape[0] * 100"
   ],
   "metadata": {
    "collapsed": false,
    "pycharm": {
     "name": "#%%\n"
    }
   }
  },
  {
   "cell_type": "code",
   "execution_count": 35,
   "outputs": [
    {
     "data": {
      "text/plain": "21.91977077363897"
     },
     "execution_count": 35,
     "metadata": {},
     "output_type": "execute_result"
    }
   ],
   "source": [
    "regulators.start.isnull().sum() / regulators.shape[0] * 100"
   ],
   "metadata": {
    "collapsed": false,
    "pycharm": {
     "name": "#%%\n"
    }
   }
  },
  {
   "cell_type": "code",
   "execution_count": null,
   "outputs": [],
   "source": [
    "# motifs\n",
    "motifs = database_long_report({'motif': Motif})\n",
    "motifs"
   ],
   "metadata": {
    "collapsed": false,
    "pycharm": {
     "name": "#%%\n"
    }
   }
  },
  {
   "cell_type": "code",
   "execution_count": null,
   "outputs": [],
   "source": [
    "motifs.shape[0] - len(Regulator.nodes)"
   ],
   "metadata": {
    "collapsed": false,
    "pycharm": {
     "name": "#%%\n"
    }
   }
  },
  {
   "cell_type": "code",
   "execution_count": 43,
   "outputs": [
    {
     "data": {
      "text/plain": "                                         uid      protrend_id  \\\ntfbs 0      d89d6180b883420fbe9a558b6d3fe10b  PRT.TBS.0000001   \n     1      60d9891f86e1450292662b1b7eb12594  PRT.TBS.0000002   \n     2      01a7953652a54707a7b5682b5c311a23  PRT.TBS.0000003   \n     3      d514599a629a43e7a159cf3e67b5caea  PRT.TBS.0000004   \n     4      eb4d149f4a434b6f8c1a7e2f2c6cdab7  PRT.TBS.0000005   \n...                                      ...              ...   \n     82712  0780781f85f841abba9cd6a4c810ca3d  PRT.TBS.0082713   \n     82713  d49734cd92f448628f3452e3b82f5a24  PRT.TBS.0082714   \n     82714  f94c0496af7a433da141478b9271adb1  PRT.TBS.0082715   \n     82715  f2bd857d5a494c3482e5c7308a74c865  PRT.TBS.0082716   \n     82716  852081d05eb54275a48c0a028dcdb9a8  PRT.TBS.0082717   \n\n                                    created                          updated  \\\ntfbs 0     2022-08-12 22:37:48.097810+00:00 2022-08-12 22:37:48.097826+00:00   \n     1     2022-08-12 22:37:48.176083+00:00 2022-08-12 22:37:48.176098+00:00   \n     2     2022-08-12 22:37:48.216419+00:00 2022-08-12 22:37:48.216433+00:00   \n     3     2022-08-12 22:37:48.254435+00:00 2022-08-12 22:37:48.254448+00:00   \n     4     2022-08-12 22:37:48.292294+00:00 2022-08-12 22:37:48.292306+00:00   \n...                                     ...                              ...   \n     82712 2022-08-14 06:41:41.627593+00:00 2022-08-14 06:41:41.627605+00:00   \n     82713 2022-08-14 06:41:41.641038+00:00 2022-08-14 06:41:41.641049+00:00   \n     82714 2022-08-14 06:41:41.654908+00:00 2022-08-14 06:41:41.654920+00:00   \n     82715 2022-08-14 06:41:41.667792+00:00 2022-08-14 06:41:41.667804+00:00   \n     82716 2022-08-14 06:41:41.719570+00:00 2022-08-14 06:41:41.719585+00:00   \n\n                                                    site_hash  \\\ntfbs 0      PRT.ORG.0000002_GCGAACAAAAACCGAACAG_forward_28...   \n     1      PRT.ORG.0000002_GCGAATATTAGGCGAAGAC_forward_17...   \n     2      PRT.ORG.0000002_GTGAAGTGTATCGGATCAA_forward_17...   \n     3      PRT.ORG.0000002_GAGAAGATAAGGCGAAGAC_reverse_37...   \n     4      PRT.ORG.0000002_GGGAAGAAAAGGCGAATCA_forward_21...   \n...                                                       ...   \n     82712  PRT.ORG.0000035_TATAAGGCTACGCTAGC_forward_2089...   \n     82713  PRT.ORG.0000035_CTCCTCATAGATTTATG_forward_8907...   \n     82714  PRT.ORG.0000035_TATACGGGTTACCAATC_forward_4148...   \n     82715  PRT.ORG.0000035_GATATGATCACGTTATA_forward_3536...   \n     82716  PRT.ORG.0000035_AATAAGTTATGTTTTTA_forward_8007...   \n\n                                             site_hash_factor  \\\ntfbs 0      prt.org.0000002_gcgaacaaaaaccgaacag_forward_28...   \n     1      prt.org.0000002_gcgaatattaggcgaagac_forward_17...   \n     2      prt.org.0000002_gtgaagtgtatcggatcaa_forward_17...   \n     3      prt.org.0000002_gagaagataaggcgaagac_reverse_37...   \n     4      prt.org.0000002_gggaagaaaaggcgaatca_forward_21...   \n...                                                       ...   \n     82712  prt.org.0000035_tataaggctacgctagc_forward_2089...   \n     82713  prt.org.0000035_ctcctcatagatttatg_forward_8907...   \n     82714  prt.org.0000035_tatacgggttaccaatc_forward_4148...   \n     82715  prt.org.0000035_gatatgatcacgttata_forward_3536...   \n     82716  prt.org.0000035_aataagttatgttttta_forward_8007...   \n\n                   organism             sequence   strand      start  \\\ntfbs 0      PRT.ORG.0000002  GCGAACAAAAACCGAACAG  forward   284802.0   \n     1      PRT.ORG.0000002  GCGAATATTAGGCGAAGAC  forward  1798097.0   \n     2      PRT.ORG.0000002  GTGAAGTGTATCGGATCAA  forward  1797988.0   \n     3      PRT.ORG.0000002  GAGAAGATAAGGCGAAGAC  reverse  3703683.0   \n     4      PRT.ORG.0000002  GGGAAGAAAAGGCGAATCA  forward  2148837.0   \n...                     ...                  ...      ...        ...   \n     82712  PRT.ORG.0000035    TATAAGGCTACGCTAGC  forward  2089156.0   \n     82713  PRT.ORG.0000035    CTCCTCATAGATTTATG  forward   890761.0   \n     82714  PRT.ORG.0000035    TATACGGGTTACCAATC  forward  4148594.0   \n     82715  PRT.ORG.0000035    GATATGATCACGTTATA  forward  3536753.0   \n     82716  PRT.ORG.0000035    AATAAGTTATGTTTTTA  forward   800726.0   \n\n                 stop  length  \ntfbs 0       284820.0      19  \n     1      1798115.0      19  \n     2      1798006.0      19  \n     3      3703701.0      19  \n     4      2148855.0      19  \n...               ...     ...  \n     82712  2089173.0      17  \n     82713   890777.0      17  \n     82714  4148611.0      17  \n     82715  3536770.0      17  \n     82716   800743.0      17  \n\n[82717 rows x 12 columns]",
      "text/html": "<div>\n<style scoped>\n    .dataframe tbody tr th:only-of-type {\n        vertical-align: middle;\n    }\n\n    .dataframe tbody tr th {\n        vertical-align: top;\n    }\n\n    .dataframe thead th {\n        text-align: right;\n    }\n</style>\n<table border=\"1\" class=\"dataframe\">\n  <thead>\n    <tr style=\"text-align: right;\">\n      <th></th>\n      <th></th>\n      <th>uid</th>\n      <th>protrend_id</th>\n      <th>created</th>\n      <th>updated</th>\n      <th>site_hash</th>\n      <th>site_hash_factor</th>\n      <th>organism</th>\n      <th>sequence</th>\n      <th>strand</th>\n      <th>start</th>\n      <th>stop</th>\n      <th>length</th>\n    </tr>\n  </thead>\n  <tbody>\n    <tr>\n      <th rowspan=\"11\" valign=\"top\">tfbs</th>\n      <th>0</th>\n      <td>d89d6180b883420fbe9a558b6d3fe10b</td>\n      <td>PRT.TBS.0000001</td>\n      <td>2022-08-12 22:37:48.097810+00:00</td>\n      <td>2022-08-12 22:37:48.097826+00:00</td>\n      <td>PRT.ORG.0000002_GCGAACAAAAACCGAACAG_forward_28...</td>\n      <td>prt.org.0000002_gcgaacaaaaaccgaacag_forward_28...</td>\n      <td>PRT.ORG.0000002</td>\n      <td>GCGAACAAAAACCGAACAG</td>\n      <td>forward</td>\n      <td>284802.0</td>\n      <td>284820.0</td>\n      <td>19</td>\n    </tr>\n    <tr>\n      <th>1</th>\n      <td>60d9891f86e1450292662b1b7eb12594</td>\n      <td>PRT.TBS.0000002</td>\n      <td>2022-08-12 22:37:48.176083+00:00</td>\n      <td>2022-08-12 22:37:48.176098+00:00</td>\n      <td>PRT.ORG.0000002_GCGAATATTAGGCGAAGAC_forward_17...</td>\n      <td>prt.org.0000002_gcgaatattaggcgaagac_forward_17...</td>\n      <td>PRT.ORG.0000002</td>\n      <td>GCGAATATTAGGCGAAGAC</td>\n      <td>forward</td>\n      <td>1798097.0</td>\n      <td>1798115.0</td>\n      <td>19</td>\n    </tr>\n    <tr>\n      <th>2</th>\n      <td>01a7953652a54707a7b5682b5c311a23</td>\n      <td>PRT.TBS.0000003</td>\n      <td>2022-08-12 22:37:48.216419+00:00</td>\n      <td>2022-08-12 22:37:48.216433+00:00</td>\n      <td>PRT.ORG.0000002_GTGAAGTGTATCGGATCAA_forward_17...</td>\n      <td>prt.org.0000002_gtgaagtgtatcggatcaa_forward_17...</td>\n      <td>PRT.ORG.0000002</td>\n      <td>GTGAAGTGTATCGGATCAA</td>\n      <td>forward</td>\n      <td>1797988.0</td>\n      <td>1798006.0</td>\n      <td>19</td>\n    </tr>\n    <tr>\n      <th>3</th>\n      <td>d514599a629a43e7a159cf3e67b5caea</td>\n      <td>PRT.TBS.0000004</td>\n      <td>2022-08-12 22:37:48.254435+00:00</td>\n      <td>2022-08-12 22:37:48.254448+00:00</td>\n      <td>PRT.ORG.0000002_GAGAAGATAAGGCGAAGAC_reverse_37...</td>\n      <td>prt.org.0000002_gagaagataaggcgaagac_reverse_37...</td>\n      <td>PRT.ORG.0000002</td>\n      <td>GAGAAGATAAGGCGAAGAC</td>\n      <td>reverse</td>\n      <td>3703683.0</td>\n      <td>3703701.0</td>\n      <td>19</td>\n    </tr>\n    <tr>\n      <th>4</th>\n      <td>eb4d149f4a434b6f8c1a7e2f2c6cdab7</td>\n      <td>PRT.TBS.0000005</td>\n      <td>2022-08-12 22:37:48.292294+00:00</td>\n      <td>2022-08-12 22:37:48.292306+00:00</td>\n      <td>PRT.ORG.0000002_GGGAAGAAAAGGCGAATCA_forward_21...</td>\n      <td>prt.org.0000002_gggaagaaaaggcgaatca_forward_21...</td>\n      <td>PRT.ORG.0000002</td>\n      <td>GGGAAGAAAAGGCGAATCA</td>\n      <td>forward</td>\n      <td>2148837.0</td>\n      <td>2148855.0</td>\n      <td>19</td>\n    </tr>\n    <tr>\n      <th>...</th>\n      <td>...</td>\n      <td>...</td>\n      <td>...</td>\n      <td>...</td>\n      <td>...</td>\n      <td>...</td>\n      <td>...</td>\n      <td>...</td>\n      <td>...</td>\n      <td>...</td>\n      <td>...</td>\n      <td>...</td>\n    </tr>\n    <tr>\n      <th>82712</th>\n      <td>0780781f85f841abba9cd6a4c810ca3d</td>\n      <td>PRT.TBS.0082713</td>\n      <td>2022-08-14 06:41:41.627593+00:00</td>\n      <td>2022-08-14 06:41:41.627605+00:00</td>\n      <td>PRT.ORG.0000035_TATAAGGCTACGCTAGC_forward_2089...</td>\n      <td>prt.org.0000035_tataaggctacgctagc_forward_2089...</td>\n      <td>PRT.ORG.0000035</td>\n      <td>TATAAGGCTACGCTAGC</td>\n      <td>forward</td>\n      <td>2089156.0</td>\n      <td>2089173.0</td>\n      <td>17</td>\n    </tr>\n    <tr>\n      <th>82713</th>\n      <td>d49734cd92f448628f3452e3b82f5a24</td>\n      <td>PRT.TBS.0082714</td>\n      <td>2022-08-14 06:41:41.641038+00:00</td>\n      <td>2022-08-14 06:41:41.641049+00:00</td>\n      <td>PRT.ORG.0000035_CTCCTCATAGATTTATG_forward_8907...</td>\n      <td>prt.org.0000035_ctcctcatagatttatg_forward_8907...</td>\n      <td>PRT.ORG.0000035</td>\n      <td>CTCCTCATAGATTTATG</td>\n      <td>forward</td>\n      <td>890761.0</td>\n      <td>890777.0</td>\n      <td>17</td>\n    </tr>\n    <tr>\n      <th>82714</th>\n      <td>f94c0496af7a433da141478b9271adb1</td>\n      <td>PRT.TBS.0082715</td>\n      <td>2022-08-14 06:41:41.654908+00:00</td>\n      <td>2022-08-14 06:41:41.654920+00:00</td>\n      <td>PRT.ORG.0000035_TATACGGGTTACCAATC_forward_4148...</td>\n      <td>prt.org.0000035_tatacgggttaccaatc_forward_4148...</td>\n      <td>PRT.ORG.0000035</td>\n      <td>TATACGGGTTACCAATC</td>\n      <td>forward</td>\n      <td>4148594.0</td>\n      <td>4148611.0</td>\n      <td>17</td>\n    </tr>\n    <tr>\n      <th>82715</th>\n      <td>f2bd857d5a494c3482e5c7308a74c865</td>\n      <td>PRT.TBS.0082716</td>\n      <td>2022-08-14 06:41:41.667792+00:00</td>\n      <td>2022-08-14 06:41:41.667804+00:00</td>\n      <td>PRT.ORG.0000035_GATATGATCACGTTATA_forward_3536...</td>\n      <td>prt.org.0000035_gatatgatcacgttata_forward_3536...</td>\n      <td>PRT.ORG.0000035</td>\n      <td>GATATGATCACGTTATA</td>\n      <td>forward</td>\n      <td>3536753.0</td>\n      <td>3536770.0</td>\n      <td>17</td>\n    </tr>\n    <tr>\n      <th>82716</th>\n      <td>852081d05eb54275a48c0a028dcdb9a8</td>\n      <td>PRT.TBS.0082717</td>\n      <td>2022-08-14 06:41:41.719570+00:00</td>\n      <td>2022-08-14 06:41:41.719585+00:00</td>\n      <td>PRT.ORG.0000035_AATAAGTTATGTTTTTA_forward_8007...</td>\n      <td>prt.org.0000035_aataagttatgttttta_forward_8007...</td>\n      <td>PRT.ORG.0000035</td>\n      <td>AATAAGTTATGTTTTTA</td>\n      <td>forward</td>\n      <td>800726.0</td>\n      <td>800743.0</td>\n      <td>17</td>\n    </tr>\n  </tbody>\n</table>\n<p>82717 rows × 12 columns</p>\n</div>"
     },
     "execution_count": 43,
     "metadata": {},
     "output_type": "execute_result"
    }
   ],
   "source": [
    "# tfbs\n",
    "tfbs = database_long_report({'tfbs': TFBS})\n",
    "tfbs"
   ],
   "metadata": {
    "collapsed": false,
    "pycharm": {
     "name": "#%%\n"
    }
   }
  },
  {
   "cell_type": "code",
   "execution_count": 45,
   "outputs": [
    {
     "data": {
      "text/plain": "0.0"
     },
     "execution_count": 45,
     "metadata": {},
     "output_type": "execute_result"
    }
   ],
   "source": [
    "tfbs.sequence.isnull().sum() / tfbs.shape[0] * 100"
   ],
   "metadata": {
    "collapsed": false,
    "pycharm": {
     "name": "#%%\n"
    }
   }
  },
  {
   "cell_type": "code",
   "execution_count": 44,
   "outputs": [
    {
     "data": {
      "text/plain": "7.843611349541208"
     },
     "execution_count": 44,
     "metadata": {},
     "output_type": "execute_result"
    }
   ],
   "source": [
    "tfbs.start.isnull().sum() / tfbs.shape[0] * 100"
   ],
   "metadata": {
    "collapsed": false,
    "pycharm": {
     "name": "#%%\n"
    }
   }
  },
  {
   "cell_type": "code",
   "execution_count": 42,
   "outputs": [
    {
     "data": {
      "text/plain": "\"['66278']\""
     },
     "execution_count": 42,
     "metadata": {},
     "output_type": "execute_result"
    }
   ],
   "source": [
    "gene = Gene.nodes.get(protrend_id='PRT.GEN.0011111')\n",
    "reg_precise = gene.data_source.all()[1]\n",
    "gene.data_source.relationship(reg_precise).external_identifier"
   ],
   "metadata": {
    "collapsed": false,
    "pycharm": {
     "name": "#%%\n"
    }
   }
  }
 ],
 "metadata": {
  "kernelspec": {
   "display_name": "Python 3",
   "language": "python",
   "name": "python3"
  },
  "language_info": {
   "codemirror_mode": {
    "name": "ipython",
    "version": 2
   },
   "file_extension": ".py",
   "mimetype": "text/x-python",
   "name": "python",
   "nbconvert_exporter": "python",
   "pygments_lexer": "ipython2",
   "version": "2.7.6"
  }
 },
 "nbformat": 4,
 "nbformat_minor": 0
}