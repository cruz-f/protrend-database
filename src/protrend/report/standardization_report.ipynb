{
 "cells": [
  {
   "cell_type": "code",
   "execution_count": 25,
   "metadata": {
    "collapsed": true,
    "pycharm": {
     "name": "#%%\n"
    }
   },
   "outputs": [
    {
     "data": {
      "text/plain": "           source version     system                  label  objects  \\\n0        collectf   0.0.1  transform               evidence     56.0   \n1        collectf   0.0.1  integrate               evidence     56.0   \n2        collectf   0.0.1    extract               organism    153.0   \n3        collectf   0.0.1  transform               organism    155.0   \n4        collectf   0.0.1  integrate               organism    153.0   \n..            ...     ...        ...                    ...      ...   \n373  standardizer   0.0.0  integrate  regulatoryinteraction    139.0   \n374  standardizer   0.0.0  transform               evidence    104.0   \n375  standardizer   0.0.0  integrate               evidence    104.0   \n376  standardizer   0.0.0  transform            publication  16139.0   \n377  standardizer   0.0.0  integrate            publication  16139.0   \n\n     properties source_label target_label  relationships  \n0           5.0          NaN          NaN            NaN  \n1           9.0          NaN          NaN            NaN  \n2           7.0          NaN          NaN            NaN  \n3          14.0          NaN          NaN            NaN  \n4          19.0          NaN          NaN            NaN  \n..          ...          ...          ...            ...  \n373         1.0          NaN          NaN            NaN  \n374         1.0          NaN          NaN            NaN  \n375         1.0          NaN          NaN            NaN  \n376         1.0          NaN          NaN            NaN  \n377         1.0          NaN          NaN            NaN  \n\n[378 rows x 9 columns]",
      "text/html": "<div>\n<style scoped>\n    .dataframe tbody tr th:only-of-type {\n        vertical-align: middle;\n    }\n\n    .dataframe tbody tr th {\n        vertical-align: top;\n    }\n\n    .dataframe thead th {\n        text-align: right;\n    }\n</style>\n<table border=\"1\" class=\"dataframe\">\n  <thead>\n    <tr style=\"text-align: right;\">\n      <th></th>\n      <th>source</th>\n      <th>version</th>\n      <th>system</th>\n      <th>label</th>\n      <th>objects</th>\n      <th>properties</th>\n      <th>source_label</th>\n      <th>target_label</th>\n      <th>relationships</th>\n    </tr>\n  </thead>\n  <tbody>\n    <tr>\n      <th>0</th>\n      <td>collectf</td>\n      <td>0.0.1</td>\n      <td>transform</td>\n      <td>evidence</td>\n      <td>56.0</td>\n      <td>5.0</td>\n      <td>NaN</td>\n      <td>NaN</td>\n      <td>NaN</td>\n    </tr>\n    <tr>\n      <th>1</th>\n      <td>collectf</td>\n      <td>0.0.1</td>\n      <td>integrate</td>\n      <td>evidence</td>\n      <td>56.0</td>\n      <td>9.0</td>\n      <td>NaN</td>\n      <td>NaN</td>\n      <td>NaN</td>\n    </tr>\n    <tr>\n      <th>2</th>\n      <td>collectf</td>\n      <td>0.0.1</td>\n      <td>extract</td>\n      <td>organism</td>\n      <td>153.0</td>\n      <td>7.0</td>\n      <td>NaN</td>\n      <td>NaN</td>\n      <td>NaN</td>\n    </tr>\n    <tr>\n      <th>3</th>\n      <td>collectf</td>\n      <td>0.0.1</td>\n      <td>transform</td>\n      <td>organism</td>\n      <td>155.0</td>\n      <td>14.0</td>\n      <td>NaN</td>\n      <td>NaN</td>\n      <td>NaN</td>\n    </tr>\n    <tr>\n      <th>4</th>\n      <td>collectf</td>\n      <td>0.0.1</td>\n      <td>integrate</td>\n      <td>organism</td>\n      <td>153.0</td>\n      <td>19.0</td>\n      <td>NaN</td>\n      <td>NaN</td>\n      <td>NaN</td>\n    </tr>\n    <tr>\n      <th>...</th>\n      <td>...</td>\n      <td>...</td>\n      <td>...</td>\n      <td>...</td>\n      <td>...</td>\n      <td>...</td>\n      <td>...</td>\n      <td>...</td>\n      <td>...</td>\n    </tr>\n    <tr>\n      <th>373</th>\n      <td>standardizer</td>\n      <td>0.0.0</td>\n      <td>integrate</td>\n      <td>regulatoryinteraction</td>\n      <td>139.0</td>\n      <td>1.0</td>\n      <td>NaN</td>\n      <td>NaN</td>\n      <td>NaN</td>\n    </tr>\n    <tr>\n      <th>374</th>\n      <td>standardizer</td>\n      <td>0.0.0</td>\n      <td>transform</td>\n      <td>evidence</td>\n      <td>104.0</td>\n      <td>1.0</td>\n      <td>NaN</td>\n      <td>NaN</td>\n      <td>NaN</td>\n    </tr>\n    <tr>\n      <th>375</th>\n      <td>standardizer</td>\n      <td>0.0.0</td>\n      <td>integrate</td>\n      <td>evidence</td>\n      <td>104.0</td>\n      <td>1.0</td>\n      <td>NaN</td>\n      <td>NaN</td>\n      <td>NaN</td>\n    </tr>\n    <tr>\n      <th>376</th>\n      <td>standardizer</td>\n      <td>0.0.0</td>\n      <td>transform</td>\n      <td>publication</td>\n      <td>16139.0</td>\n      <td>1.0</td>\n      <td>NaN</td>\n      <td>NaN</td>\n      <td>NaN</td>\n    </tr>\n    <tr>\n      <th>377</th>\n      <td>standardizer</td>\n      <td>0.0.0</td>\n      <td>integrate</td>\n      <td>publication</td>\n      <td>16139.0</td>\n      <td>1.0</td>\n      <td>NaN</td>\n      <td>NaN</td>\n      <td>NaN</td>\n    </tr>\n  </tbody>\n</table>\n<p>378 rows × 9 columns</p>\n</div>"
     },
     "execution_count": 25,
     "metadata": {},
     "output_type": "execute_result"
    }
   ],
   "source": [
    "import json\n",
    "from pathlib import Path\n",
    "\n",
    "import pandas as pd\n",
    "\n",
    "from protrend.utils import Settings\n",
    "\n",
    "report_file_path = Path(Settings.report_working_directory).joinpath('protrend_report_2022_08_31_12_42_39.json')\n",
    "with open(report_file_path, 'r') as f:\n",
    "    report = json.load(f)\n",
    "\n",
    "df = pd.DataFrame(list(report.values()))\n",
    "df"
   ]
  },
  {
   "cell_type": "code",
   "execution_count": 26,
   "outputs": [
    {
     "data": {
      "text/plain": "{'organism': [80.0],\n 'regulator': [199.0],\n 'source': [1.0],\n 'gene': [3448.0],\n 'regulatoryfamily': [3.0],\n 'effector': [69.0],\n 'operon': [0.0],\n 'tfbs': [2799.0],\n 'pathway': [1.0],\n 'regulatoryinteraction': [139.0],\n 'evidence': [104.0],\n 'publication': [16139.0]}"
     },
     "execution_count": 26,
     "metadata": {},
     "output_type": "execute_result"
    }
   ],
   "source": [
    "data = df[(df.source == 'standardizer') & (df.system == 'transform')]\n",
    "data = data[['label', 'objects']].reset_index(drop=True)\n",
    "data = data.set_index('label')\n",
    "data = data.to_dict(orient='dict')\n",
    "data = {key: [val] for key, val in data['objects'].items()}\n",
    "data"
   ],
   "metadata": {
    "collapsed": false,
    "pycharm": {
     "name": "#%%\n"
    }
   }
  },
  {
   "cell_type": "code",
   "execution_count": 27,
   "outputs": [],
   "source": [
    "from protrend.utils import NeoDatabase\n",
    "from protrend.model import *\n",
    "\n",
    "# connect to database\n",
    "neo_db = NeoDatabase(user_name=Settings.db_user_name, password=Settings.db_password,\n",
    "                     ip=Settings.db_ip, port=Settings.db_port)\n",
    "neo_db.connect()"
   ],
   "metadata": {
    "collapsed": false,
    "pycharm": {
     "name": "#%%\n"
    }
   }
  },
  {
   "cell_type": "code",
   "execution_count": 28,
   "outputs": [
    {
     "data": {
      "text/plain": "{'organism': [80.0, 536],\n 'regulator': [199.0, 15982],\n 'source': [1.0, 11],\n 'gene': [3448.0, 112493],\n 'regulatoryfamily': [3.0, 200],\n 'effector': [69.0, 432],\n 'operon': [0.0, 24690],\n 'tfbs': [2799.0, 79922],\n 'pathway': [1.0, 286],\n 'regulatoryinteraction': [139.0, 210848],\n 'evidence': [104.0, 78],\n 'publication': [16139.0, 2283]}"
     },
     "execution_count": 28,
     "metadata": {},
     "output_type": "execute_result"
    }
   ],
   "source": [
    "nodes = (\n",
    "    Effector,\n",
    "    Evidence,\n",
    "    Gene,\n",
    "    Operon,\n",
    "    Organism,\n",
    "    Pathway,\n",
    "    Publication,\n",
    "    Regulator,\n",
    "    RegulatoryFamily,\n",
    "    RegulatoryInteraction,\n",
    "    Source,\n",
    "    TFBS,\n",
    ")\n",
    "\n",
    "for node in nodes:\n",
    "    data[node.node_name()].append(len(node.nodes))\n",
    "\n",
    "data"
   ],
   "metadata": {
    "collapsed": false,
    "pycharm": {
     "name": "#%%\n"
    }
   }
  },
  {
   "cell_type": "code",
   "execution_count": 30,
   "outputs": [
    {
     "data": {
      "text/plain": "                       no standardization  standardized\nsource                               12.0          11.0\nevidence                            182.0          78.0\nregulatoryfamily                    203.0         200.0\npathway                             287.0         286.0\neffector                            501.0         432.0\norganism                            616.0         536.0\npublication                       18422.0        2283.0\nregulator                         16181.0       15982.0\noperon                            24690.0       24690.0\ntfbs                              82721.0       79922.0\ngene                             115941.0      112493.0\nregulatoryinteraction            210987.0      210848.0",
      "text/html": "<div>\n<style scoped>\n    .dataframe tbody tr th:only-of-type {\n        vertical-align: middle;\n    }\n\n    .dataframe tbody tr th {\n        vertical-align: top;\n    }\n\n    .dataframe thead th {\n        text-align: right;\n    }\n</style>\n<table border=\"1\" class=\"dataframe\">\n  <thead>\n    <tr style=\"text-align: right;\">\n      <th></th>\n      <th>no standardization</th>\n      <th>standardized</th>\n    </tr>\n  </thead>\n  <tbody>\n    <tr>\n      <th>source</th>\n      <td>12.0</td>\n      <td>11.0</td>\n    </tr>\n    <tr>\n      <th>evidence</th>\n      <td>182.0</td>\n      <td>78.0</td>\n    </tr>\n    <tr>\n      <th>regulatoryfamily</th>\n      <td>203.0</td>\n      <td>200.0</td>\n    </tr>\n    <tr>\n      <th>pathway</th>\n      <td>287.0</td>\n      <td>286.0</td>\n    </tr>\n    <tr>\n      <th>effector</th>\n      <td>501.0</td>\n      <td>432.0</td>\n    </tr>\n    <tr>\n      <th>organism</th>\n      <td>616.0</td>\n      <td>536.0</td>\n    </tr>\n    <tr>\n      <th>publication</th>\n      <td>18422.0</td>\n      <td>2283.0</td>\n    </tr>\n    <tr>\n      <th>regulator</th>\n      <td>16181.0</td>\n      <td>15982.0</td>\n    </tr>\n    <tr>\n      <th>operon</th>\n      <td>24690.0</td>\n      <td>24690.0</td>\n    </tr>\n    <tr>\n      <th>tfbs</th>\n      <td>82721.0</td>\n      <td>79922.0</td>\n    </tr>\n    <tr>\n      <th>gene</th>\n      <td>115941.0</td>\n      <td>112493.0</td>\n    </tr>\n    <tr>\n      <th>regulatoryinteraction</th>\n      <td>210987.0</td>\n      <td>210848.0</td>\n    </tr>\n  </tbody>\n</table>\n</div>"
     },
     "execution_count": 30,
     "metadata": {},
     "output_type": "execute_result"
    }
   ],
   "source": [
    "df = pd.DataFrame(data)\n",
    "df = df.transpose()\n",
    "df = df.rename(columns={1: 'standardized', 0: 'no standardization'})\n",
    "df['no standardization'] = df['standardized'] + df['no standardization']\n",
    "df = df.sort_values(by='standardized')\n",
    "df"
   ],
   "metadata": {
    "collapsed": false,
    "pycharm": {
     "name": "#%%\n"
    }
   }
  },
  {
   "cell_type": "code",
   "execution_count": 32,
   "outputs": [
    {
     "data": {
      "text/plain": "<Figure size 432x288 with 1 Axes>",
      "image/png": "[encoded data removed]"
     },
     "metadata": {},
     "output_type": "display_data"
    }
   ],
   "source": [
    "from matplotlib import pyplot as plt\n",
    "\n",
    "y = range(1,len(df.index)+1)\n",
    "\n",
    "# The horizontal plot is made using the hline function\n",
    "plt.hlines(y=y, xmin=df['standardized'], xmax=df['no standardization'],\n",
    "           color='grey', alpha=0.4)\n",
    "plt.scatter(df['standardized'], y, color='skyblue', alpha=1, label='standardized')\n",
    "plt.scatter(df['no standardization'], y, color='green', alpha=0.4 , label='no standardization')\n",
    "plt.legend()\n",
    "\n",
    "plt.xlim(-1)\n",
    "\n",
    "# Add title and axis names\n",
    "plt.yticks(y, df.index)\n",
    "plt.title(\"Standardization of ProTReND database\")\n",
    "plt.xlabel('Objects')\n",
    "plt.ylabel('Entity')\n",
    "\n",
    "# Show the graph\n",
    "plt.savefig(\"standardization_report.png\", bbox_inches=\"tight\", dpi=150)\n",
    "plt.show()"
   ],
   "metadata": {
    "collapsed": false,
    "pycharm": {
     "name": "#%%\n"
    }
   }
  }
 ],
 "metadata": {
  "kernelspec": {
   "display_name": "Python 3",
   "language": "python",
   "name": "python3"
  },
  "language_info": {
   "codemirror_mode": {
    "name": "ipython",
    "version": 2
   },
   "file_extension": ".py",
   "mimetype": "text/x-python",
   "name": "python",
   "nbconvert_exporter": "python",
   "pygments_lexer": "ipython2",
   "version": "2.7.6"
  }
 },
 "nbformat": 4,
 "nbformat_minor": 0
}